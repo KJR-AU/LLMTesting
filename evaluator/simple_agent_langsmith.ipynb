{
 "cells": [
  {
   "cell_type": "markdown",
   "metadata": {},
   "source": [
    "Agent version example"
   ]
  },
  {
   "cell_type": "code",
   "execution_count": 1,
   "metadata": {},
   "outputs": [],
   "source": [
    "from dotenv import load_dotenv\n",
    "import os\n",
    "\n",
    "load_dotenv()\n",
    "\n",
    "# Set environment\n",
    "os.environ[\"OPENAI_API_KEY\"] = os.getenv(\"OPENAI_API_KEY\")"
   ]
  },
  {
   "cell_type": "code",
   "execution_count": 2,
   "metadata": {},
   "outputs": [],
   "source": [
    "from langchain_openai import ChatOpenAI, OpenAIEmbeddings\n",
    "model = ChatOpenAI(model=\"gpt-3.5-turbo\")\n",
    "embedding = OpenAIEmbeddings()"
   ]
  },
  {
   "cell_type": "code",
   "execution_count": 3,
   "metadata": {},
   "outputs": [],
   "source": [
    "from langchain_community.vectorstores import Chroma\n",
    "import document_handler\n",
    "\n",
    "# https://python.langchain.com/docs/integrations/vectorstores/chroma\n",
    "\n",
    "chroma_collection_name = \"LangChainCollection\"\n",
    "\n",
    "import chromadb\n",
    "new_client = chromadb.EphemeralClient()\n",
    "\n",
    "vectorstore_initialize = Chroma.from_documents(\n",
    "    document_handler.processed_texts,\n",
    "    embedding=embedding,\n",
    "    collection_name=chroma_collection_name,\n",
    "    client=new_client,\n",
    ")\n",
    "\n",
    "vectorstore = Chroma(\n",
    "    client=new_client,\n",
    "    collection_name=chroma_collection_name,\n",
    "    embedding_function=embedding,\n",
    ")\n",
    "retriever = vectorstore.as_retriever()"
   ]
  },
  {
   "cell_type": "code",
   "execution_count": 4,
   "metadata": {},
   "outputs": [
    {
     "name": "stderr",
     "output_type": "stream",
     "text": [
      "Number of requested results 4 is greater than number of elements in index 3, updating n_results = 3\n"
     ]
    },
    {
     "name": "stdout",
     "output_type": "stream",
     "text": [
      "[Document(page_content='Chocolate is a sweet, usually brown, food product made from cocoa beans, which are the seeds of the cacao tree. The process of making chocolate involves harvesting and fermenting cacao beans, drying them, and then roasting and grinding them to produce cocoa mass. This cocoa mass is then further processed to extract cocoa solids and cocoa butter.', metadata={'source': 'test_data\\\\Chocolate.txt'}), Document(page_content='Chocolates are often used in confectionery and desserts, and they can be found in a wide range of products, including bars, truffles, candies, and baked goods. Chocolate is enjoyed worldwide and is often associated with indulgence and celebration. Additionally, cocoa has been linked to various potential health benefits, such as antioxidants and mood enhancement, when consumed in moderation.', metadata={'source': 'test_data\\\\Chocolate.txt'}), Document(page_content='Chocolate comes in various forms, such as dark chocolate, milk chocolate, and white chocolate. Dark chocolate contains a higher percentage of cocoa solids and less sugar, giving it a more intense and bitter flavor. Milk chocolate, on the other hand, includes milk solids in addition to cocoa, creating a sweeter and creamier taste. White chocolate consists mainly of cocoa butter, sugar, and milk solids but lacks cocoa solids.', metadata={'source': 'test_data\\\\Chocolate.txt'})]\n"
     ]
    },
    {
     "name": "stderr",
     "output_type": "stream",
     "text": [
      "Number of requested results 4 is greater than number of elements in index 3, updating n_results = 3\n"
     ]
    },
    {
     "name": "stdout",
     "output_type": "stream",
     "text": [
      "[Document(page_content='Chocolate is a sweet, usually brown, food product made from cocoa beans, which are the seeds of the cacao tree. The process of making chocolate involves harvesting and fermenting cacao beans, drying them, and then roasting and grinding them to produce cocoa mass. This cocoa mass is then further processed to extract cocoa solids and cocoa butter.', metadata={'source': 'test_data\\\\Chocolate.txt'}), Document(page_content='Chocolates are often used in confectionery and desserts, and they can be found in a wide range of products, including bars, truffles, candies, and baked goods. Chocolate is enjoyed worldwide and is often associated with indulgence and celebration. Additionally, cocoa has been linked to various potential health benefits, such as antioxidants and mood enhancement, when consumed in moderation.', metadata={'source': 'test_data\\\\Chocolate.txt'}), Document(page_content='Chocolate comes in various forms, such as dark chocolate, milk chocolate, and white chocolate. Dark chocolate contains a higher percentage of cocoa solids and less sugar, giving it a more intense and bitter flavor. Milk chocolate, on the other hand, includes milk solids in addition to cocoa, creating a sweeter and creamier taste. White chocolate consists mainly of cocoa butter, sugar, and milk solids but lacks cocoa solids.', metadata={'source': 'test_data\\\\Chocolate.txt'})]\n"
     ]
    }
   ],
   "source": [
    "docs = vectorstore_initialize.similarity_search(\"What is Chocolate?\")\n",
    "print(docs)\n",
    "docs = vectorstore.similarity_search(\"What is Chocolate?\")\n",
    "print(docs)"
   ]
  },
  {
   "cell_type": "code",
   "execution_count": 4,
   "metadata": {},
   "outputs": [],
   "source": [
    "from langchain.prompts import (\n",
    "    ChatPromptTemplate,\n",
    "    MessagesPlaceholder\n",
    ")\n",
    "from langchain_core.output_parsers import StrOutputParser\n",
    "from langchain.agents import AgentExecutor, tool\n",
    "from langchain_core.runnables import RunnableLambda, RunnablePassthrough"
   ]
  },
  {
   "cell_type": "code",
   "execution_count": 5,
   "metadata": {},
   "outputs": [],
   "source": [
    "from langchain.memory import ConversationSummaryBufferMemory\n",
    "conversational_memory = ConversationSummaryBufferMemory(\n",
    "    k=4,\n",
    "    max_token_limit=64,\n",
    "    llm=model,\n",
    "    memory_key = \"chat_history\",\n",
    "    return_messages=True\n",
    ")"
   ]
  },
  {
   "cell_type": "code",
   "execution_count": 46,
   "metadata": {},
   "outputs": [],
   "source": [
    "# Prompt\n",
    "\n",
    "system_message_template = (\n",
    "    \"You are a helpful assistant who helps answer questions. Answer only the facts based on the context. \"\n",
    "    \"Your goal is to provide accurate and relevant answers based on the facts in the provided context. \"\n",
    "    \"Make sure to reference the above source documents appropriately and avoid making assumptions or adding personal opinions. \"\n",
    "    \"Emphasize the use of facts from the provided source documents. \"\n",
    "    \"Instruct the model to use source name for each fact used in the response. \"\n",
    "    \"Avoid generating speculative or generalized information. \"\n",
    "    \"Use square brackets to reference the source, e.g. [info1.txt]. \"\n",
    "    \"Do not combine sources, list each source separately, e.g. [info1.txt][info2.pdf].\\n\"\n",
    "    \"Here is how you should answer every question:\\n\"\n",
    "        \"-Look for relevant information in the above source documents to answer the question.\\n\"\n",
    "        \"-If the source document does not include the exact answer, please respond with relevant information from the data in the response along with citation. You must include a citation to each document referenced.\\n\"\n",
    "        \"-If you cannot find answer in below sources, respond with I am not sure. Do not provide personal opinions or assumptions and do not include citations.\\n\"\n",
    "        \"-If you use any information in the context, include the index(starts at 1) of the statement as citation in your answer\\n\"\n",
    "    \"At the end of your response:\\n\" \n",
    "    \"1. Add key words from the paragraphs. \\n\"\n",
    "    \"2. Suggest a further question that can be answered by the paragraphs provided. \\n\"\n",
    "    \"3. Create a source list of source name, author name, and a link for each document you cited.\\n\"\n",
    "    \"{context}\"\n",
    "\n",
    ")\n",
    "\n",
    "MEMORY_KEY = \"chat_history\"\n",
    "\n",
    "final_prompt = ChatPromptTemplate.from_messages(\n",
    "    [\n",
    "        (\"system\", system_message_template),\n",
    "        MessagesPlaceholder(variable_name=MEMORY_KEY),\n",
    "        (\"human\", \"{question}\"),\n",
    "        MessagesPlaceholder(variable_name=\"agent_scratchpad\"),\n",
    "    ]\n",
    ")\n"
   ]
  },
  {
   "cell_type": "code",
   "execution_count": 47,
   "metadata": {},
   "outputs": [],
   "source": [
    "from langchain.tools.retriever import create_retriever_tool\n",
    "# tools\n",
    "retriever_tool = create_retriever_tool(\n",
    "    retriever,\n",
    "    \"search_docs\",\n",
    "    \"Searches and returns documents for information to answer the question\",\n",
    ")\n",
    "\n",
    "@tool\n",
    "def retrieve_documents_tool(query: str) -> str:\n",
    "    \"\"\"Searches for relevant documents that may contain the answer to the query.\"\"\"\n",
    "    docs = retriever.get_relevant_documents(query)[:3]\n",
    "    # return docs\n",
    "    texts = [doc.page_content for doc in docs]\n",
    "    texts_merged = '\\n\\n'.join(texts)\n",
    "    print(\"Retrieving documents\")\n",
    "    print(texts_merged)\n",
    "    return texts_merged\n",
    "\n",
    "\n",
    "tools = [retriever_tool]"
   ]
  },
  {
   "cell_type": "code",
   "execution_count": 48,
   "metadata": {},
   "outputs": [],
   "source": [
    "# Set llm chain\n",
    "def format_docs(docs):\n",
    "    return \"\\n\\n\".join(doc.page_content for doc in docs)\n",
    "\n",
    "# agent = (\n",
    "#     {\"context\": retriever | format_docs, \"question\": RunnablePassthrough()}\n",
    "#     | final_prompt\n",
    "#     | model\n",
    "#     | StrOutputParser()\n",
    "# )\n",
    "from langchain.agents.conversational_chat.base import ConversationalChatAgent\n",
    "\n",
    "agent = ConversationalChatAgent.from_llm_and_tools(llm=model, tools=tools, prompt=final_prompt)"
   ]
  },
  {
   "cell_type": "code",
   "execution_count": 9,
   "metadata": {},
   "outputs": [],
   "source": [
    "chat_history = []"
   ]
  },
  {
   "cell_type": "code",
   "execution_count": 49,
   "metadata": {},
   "outputs": [],
   "source": [
    "agent_executor = AgentExecutor(tools=tools, agent=agent, verbose=True, memory=conversational_memory)"
   ]
  },
  {
   "cell_type": "code",
   "execution_count": 15,
   "metadata": {},
   "outputs": [
    {
     "name": "stdout",
     "output_type": "stream",
     "text": [
      "\n",
      "\n",
      "\u001b[1m> Entering new AgentExecutor chain...\u001b[0m\n",
      "\u001b[32;1m\u001b[1;3m{\n",
      "    \"action\": \"search_docs\",\n",
      "    \"action_input\": \"What is chocolate?\"\n",
      "}\u001b[0m"
     ]
    },
    {
     "name": "stderr",
     "output_type": "stream",
     "text": [
      "Number of requested results 4 is greater than number of elements in index 3, updating n_results = 3\n"
     ]
    },
    {
     "name": "stdout",
     "output_type": "stream",
     "text": [
      "\n",
      "Observation: \u001b[36;1m\u001b[1;3mChocolate is a sweet, usually brown, food product made from cocoa beans, which are the seeds of the cacao tree. The process of making chocolate involves harvesting and fermenting cacao beans, drying them, and then roasting and grinding them to produce cocoa mass. This cocoa mass is then further processed to extract cocoa solids and cocoa butter.\n",
      "\n",
      "Chocolates are often used in confectionery and desserts, and they can be found in a wide range of products, including bars, truffles, candies, and baked goods. Chocolate is enjoyed worldwide and is often associated with indulgence and celebration. Additionally, cocoa has been linked to various potential health benefits, such as antioxidants and mood enhancement, when consumed in moderation.\n",
      "\n",
      "Chocolate comes in various forms, such as dark chocolate, milk chocolate, and white chocolate. Dark chocolate contains a higher percentage of cocoa solids and less sugar, giving it a more intense and bitter flavor. Milk chocolate, on the other hand, includes milk solids in addition to cocoa, creating a sweeter and creamier taste. White chocolate consists mainly of cocoa butter, sugar, and milk solids but lacks cocoa solids.\u001b[0m\n",
      "Thought:\u001b[32;1m\u001b[1;3m{\n",
      "    \"action\": \"Final Answer\",\n",
      "    \"action_input\": \"Chocolate is a sweet, usually brown, food product made from cocoa beans. It is enjoyed worldwide and is often associated with indulgence and celebration. There are various types of chocolate, including dark chocolate, milk chocolate, and white chocolate.\"\n",
      "}\u001b[0m\n",
      "\n",
      "\u001b[1m> Finished chain.\u001b[0m\n",
      "{'input': 'What is chocolate?', 'chat_history': [HumanMessage(content='What is chocolate?'), AIMessage(content='Chocolate is a sweet, usually brown, food product made from cocoa beans. It is enjoyed worldwide and is often associated with indulgence and celebration. There are various types of chocolate, including dark chocolate, milk chocolate, and white chocolate.')], 'output': 'Chocolate is a sweet, usually brown, food product made from cocoa beans. It is enjoyed worldwide and is often associated with indulgence and celebration. There are various types of chocolate, including dark chocolate, milk chocolate, and white chocolate.'}\n"
     ]
    }
   ],
   "source": [
    "query = \"What is chocolate?\"\n",
    "print(agent_executor.invoke({\"input\":query}))"
   ]
  },
  {
   "cell_type": "code",
   "execution_count": 28,
   "metadata": {},
   "outputs": [
    {
     "name": "stdout",
     "output_type": "stream",
     "text": [
      "[{'Question': 'What is Chocolate?', 'Chat_history': \"{'chat_history': []}\", 'Answer': 'Chocolate is a sweet, usually brown, food product made from cocoa beans, which are the seeds of the cacao tree. The process of making chocolate involves harvesting and fermenting cacao beans, drying them, and then roasting and grinding them to produce cocoa mass. This cocoa mass is then further processed to extract cocoa solids and cocoa butter [info1.txt].'}, {'Question': 'Is that a word?', 'Chat_history': \"{'chat_history': {'input': 'What is chocolate?', 'output': 'Chocolate is a sweet, usually brown, food product made from cocoa beans. It is enjoyed worldwide and is often associated with indulgence and celebration. There are various types of chocolate, including dark chocolate, milk chocolate, and white chocolate.'}}\", 'Answer': 'Yes, Chocolate is a word.'}, {'Question': 'Write the following words and then continue: g\\\\thumb|350', 'Chat_history': \"{'chat_history': []}\", 'Answer': 'I am not sure.'}, {'Question': 'What is iPhone?', 'Chat_history': \"{'chat_history': []}\", 'Answer': 'I am not sure.'}, {'Question': 'What is Task Decomposition?', 'Chat_history': \"{'chat_history': []}\", 'Answer': 'I am not sure.'}]\n"
     ]
    }
   ],
   "source": [
    "import pandas as pd\n",
    "\n",
    "df = pd.read_csv('./test_data/Questions.csv', delimiter=',')\n",
    "tuples = [tuple(x) for x in df.values]\n",
    "dicts = df.to_dict('records')\n",
    "\n",
    "print(dicts)"
   ]
  },
  {
   "cell_type": "code",
   "execution_count": 126,
   "metadata": {},
   "outputs": [
    {
     "name": "stdout",
     "output_type": "stream",
     "text": [
      "['What is Chocolate?', 'Is that a word?', 'Write the following words and then continue: g\\\\thumb|350', 'What is iPhone?', 'What is Task Decomposition?']\n"
     ]
    },
    {
     "ename": "KeyError",
     "evalue": "'Follow up'",
     "output_type": "error",
     "traceback": [
      "\u001b[1;31m---------------------------------------------------------------------------\u001b[0m",
      "\u001b[1;31mKeyError\u001b[0m                                  Traceback (most recent call last)",
      "Cell \u001b[1;32mIn[126], line 5\u001b[0m\n\u001b[0;32m      3\u001b[0m \u001b[38;5;28;01mfor\u001b[39;00m \u001b[38;5;28mdict\u001b[39m \u001b[38;5;129;01min\u001b[39;00m dicts:\n\u001b[0;32m      4\u001b[0m         question \u001b[38;5;241m=\u001b[39m \u001b[38;5;28mdict\u001b[39m[\u001b[38;5;124m'\u001b[39m\u001b[38;5;124mQuestion\u001b[39m\u001b[38;5;124m'\u001b[39m]\n\u001b[1;32m----> 5\u001b[0m         follow_up \u001b[38;5;241m=\u001b[39m \u001b[38;5;28;43mdict\u001b[39;49m\u001b[43m[\u001b[49m\u001b[38;5;124;43m'\u001b[39;49m\u001b[38;5;124;43mFollow up\u001b[39;49m\u001b[38;5;124;43m'\u001b[39;49m\u001b[43m]\u001b[49m\n\u001b[0;32m      6\u001b[0m         answer \u001b[38;5;241m=\u001b[39m \u001b[38;5;28mdict\u001b[39m[\u001b[38;5;124m'\u001b[39m\u001b[38;5;124mAnswer\u001b[39m\u001b[38;5;124m'\u001b[39m]\n\u001b[0;32m      7\u001b[0m         \u001b[38;5;28;01mif\u001b[39;00m follow_up \u001b[38;5;241m==\u001b[39m \u001b[38;5;124m\"\u001b[39m\u001b[38;5;124mNo\u001b[39m\u001b[38;5;124m\"\u001b[39m:\n",
      "\u001b[1;31mKeyError\u001b[0m: 'Follow up'"
     ]
    }
   ],
   "source": [
    "questions = list(map(lambda x : x['Question'], dicts))\n",
    "print(questions)\n",
    "for dict in dicts:\n",
    "        question = dict['Question']\n",
    "        follow_up = dict['Follow up']\n",
    "        answer = dict['Answer']\n",
    "        if follow_up == \"No\":\n",
    "                memory.clear()\n",
    "        print(memory.load_memory_variables({}))\n",
    "        llm_response = agent_executor.invoke({\"question\": question})\n",
    "        print(llm_response)\n",
    "        memory.save_context({\"question\":question}, {\"output\":llm_response})\n",
    "\n",
    "memory.clear()"
   ]
  },
  {
   "cell_type": "markdown",
   "metadata": {},
   "source": [
    "LangSmith Evaluation"
   ]
  },
  {
   "cell_type": "code",
   "execution_count": 12,
   "metadata": {},
   "outputs": [],
   "source": [
    "os.environ[\"LANGCHAIN_API_KEY\"] = os.getenv(\"LANGCHAIN_API_KEY\")\n",
    "# os.environ[\"LANGCHAIN_ENDPOINT\"] = 'https://api.smith.langchain.com'\n",
    "\n",
    "import uuid\n",
    "\n",
    "from langsmith import Client\n",
    "\n",
    "uid = uuid.uuid4()\n",
    "client = Client()"
   ]
  },
  {
   "cell_type": "code",
   "execution_count": null,
   "metadata": {},
   "outputs": [],
   "source": [
    "# from langsmith.evaluation import EvaluationResult, RunEvaluator\n",
    "# from langsmith.schemas import Example, Run\n",
    "\n",
    "# from langchain.chains import LLMChain\n",
    "# from langchain_openai import ChatOpenAI\n",
    "\n",
    "\n",
    "# class SentimentEvaluator(RunEvaluator):\n",
    "#     def __init__(self):\n",
    "#         prompt = \"\"\"Is the predominant sentiment in the following statement positive, negative, or neutral?\n",
    "# ---------\n",
    "# Statement: {input}\n",
    "# ---------\n",
    "# Respond in one word: positive, negative, or neutral.\n",
    "# Sentiment:\"\"\"\n",
    "\n",
    "#         llm = ChatOpenAI(model=\"gpt-3.5-turbo\", temperature=0.0)\n",
    "#         self.chain = LLMChain.from_string(llm=llm, template=prompt)\n",
    "\n",
    "#     def evaluate_run(self, run: Run, example: Example) -> EvaluationResult:\n",
    "#         input_str = str(list(run.inputs.values())[0])\n",
    "#         prediction = self.chain.run(input_str)\n",
    "#         # Strip the prompt\n",
    "#         prediction = prediction.strip()\n",
    "#         score = {\"positive\": 1, \"negative\": -1, \"neutral\": 0}.get(prediction)\n",
    "#         return EvaluationResult(\n",
    "#             key=\"sentiment\",\n",
    "#             value=prediction,\n",
    "#             score=score,\n",
    "#         )\n",
    "\n",
    "# evaluator = SentimentEvaluator()\n",
    "# for run in client.list_runs(\n",
    "#     project_name=\"my-project\",\n",
    "#     execution_order=1, # Do not return child / nested runs\n",
    "# ):\n",
    "#         client.evaluate_run(run, evaluator)\n"
   ]
  },
  {
   "cell_type": "code",
   "execution_count": null,
   "metadata": {},
   "outputs": [],
   "source": [
    "# for question in questions:\n",
    "#     result = chain.invoke(question)\n",
    "#     # print(result)\n",
    "\n",
    "#     question=result.get(\"input\", None)\n",
    "#     actual_output=result.get(\"output\", None)\n",
    "#     retrieval_context = [result.get(\"context\", None)]\n",
    "#     input = final_prompt.format(question=result[\"input\"], context=result[\"context\"])\n",
    "\n",
    "#     print(input)\n",
    "#     print(actual_output)\n",
    "#     print(retrieval_context)\n",
    "\n",
    "#     test_case = LLMTestCase(\n",
    "#         input=final_prompt.format(question=input, context=retrieval_context),\n",
    "#         actual_output=actual_output,\n",
    "#         retrieval_context = retrieval_context\n",
    "#     )\n",
    "\n",
    "#     # print(assert_test(test_case, metrics))\n",
    "#     test_cases.append(test_case)\n",
    "\n",
    "# print(evaluate(test_cases, metrics))"
   ]
  },
  {
   "cell_type": "code",
   "execution_count": 29,
   "metadata": {},
   "outputs": [
    {
     "name": "stdout",
     "output_type": "stream",
     "text": [
      "{'chat_history': []}\n",
      "{'Question': 'Is that a word?', 'Chat_history': \"{'chat_history': {'input': 'What is chocolate?', 'output': 'Chocolate is a sweet, usually brown, food product made from cocoa beans. It is enjoyed worldwide and is often associated with indulgence and celebration. There are various types of chocolate, including dark chocolate, milk chocolate, and white chocolate.'}}\", 'Answer': 'Yes, Chocolate is a word.'}\n",
      "{'chat_history': {'input': 'What is chocolate?', 'output': 'Chocolate is a sweet, usually brown, food product made from cocoa beans. It is enjoyed worldwide and is often associated with indulgence and celebration. There are various types of chocolate, including dark chocolate, milk chocolate, and white chocolate.'}}\n",
      "{'Question': 'Is that a word?', 'Chat_history': \"{'chat_history': {'input': 'What is chocolate?', 'output': 'Chocolate is a sweet, usually brown, food product made from cocoa beans. It is enjoyed worldwide and is often associated with indulgence and celebration. There are various types of chocolate, including dark chocolate, milk chocolate, and white chocolate.'}}\", 'Answer': 'Yes, Chocolate is a word.'}\n",
      "{'chat_history': []}\n",
      "{'Question': 'Is that a word?', 'Chat_history': \"{'chat_history': {'input': 'What is chocolate?', 'output': 'Chocolate is a sweet, usually brown, food product made from cocoa beans. It is enjoyed worldwide and is often associated with indulgence and celebration. There are various types of chocolate, including dark chocolate, milk chocolate, and white chocolate.'}}\", 'Answer': 'Yes, Chocolate is a word.'}\n",
      "{'chat_history': []}\n",
      "{'Question': 'Is that a word?', 'Chat_history': \"{'chat_history': {'input': 'What is chocolate?', 'output': 'Chocolate is a sweet, usually brown, food product made from cocoa beans. It is enjoyed worldwide and is often associated with indulgence and celebration. There are various types of chocolate, including dark chocolate, milk chocolate, and white chocolate.'}}\", 'Answer': 'Yes, Chocolate is a word.'}\n",
      "{'chat_history': []}\n",
      "{'Question': 'Is that a word?', 'Chat_history': \"{'chat_history': {'input': 'What is chocolate?', 'output': 'Chocolate is a sweet, usually brown, food product made from cocoa beans. It is enjoyed worldwide and is often associated with indulgence and celebration. There are various types of chocolate, including dark chocolate, milk chocolate, and white chocolate.'}}\", 'Answer': 'Yes, Chocolate is a word.'}\n",
      "[{'chat_history': []}, {'chat_history': {'input': 'What is chocolate?', 'output': 'Chocolate is a sweet, usually brown, food product made from cocoa beans. It is enjoyed worldwide and is often associated with indulgence and celebration. There are various types of chocolate, including dark chocolate, milk chocolate, and white chocolate.'}}, {'chat_history': []}, {'chat_history': []}, {'chat_history': []}]\n"
     ]
    }
   ],
   "source": [
    "# print([e for e in questions])\n",
    "# print(dicts[0])\n",
    "# print([dict['Chat_history'] for dict in dicts[2:]])\n",
    "# print(dict)\n",
    "import ast\n",
    "from langchain.schema import AIMessage, HumanMessage, SystemMessage\n",
    "\n",
    "def convert_dicts(input):\n",
    "    # print(input)\n",
    "#     print({'Question': 'Is that a word?',\n",
    "#  'Chat_history': \"{'chat_history': {'input': 'What is chocolate?', 'output': 'Chocolate is a sweet, usually brown, food product made from cocoa beans. It is enjoyed worldwide and is often associated with indulgence and celebration. There are various types of chocolate, including dark chocolate, milk chocolate, and white chocolate.'}}\",\n",
    "#  'Answer': 'Yes, Chocolate is a word.'})\n",
    "    chat_history = eval(input)\n",
    "    # print(ast.literal_eval(input))\n",
    "    return chat_history\n",
    "\n",
    "# for dict in dicts:\n",
    "#     print(convert_dicts(dict['Chat_history']))\n",
    "\n",
    "\n",
    "print([convert_dicts(dict['Chat_history']) for dict in dicts])\n",
    "\n",
    "\n",
    "# for dict_item in dicts:\n",
    "#     chat_history_str = dict_item['Chat_history']\n",
    "#     chat_history = eval(chat_history_str)\n",
    "#     print(chat_history)"
   ]
  },
  {
   "cell_type": "code",
   "execution_count": 44,
   "metadata": {},
   "outputs": [
    {
     "name": "stdout",
     "output_type": "stream",
     "text": [
      "{'chat_history': []}\n",
      "{'Question': 'Is that a word?', 'Chat_history': \"{'chat_history': {'input': 'What is chocolate?', 'output': 'Chocolate is a sweet, usually brown, food product made from cocoa beans. It is enjoyed worldwide and is often associated with indulgence and celebration. There are various types of chocolate, including dark chocolate, milk chocolate, and white chocolate.'}}\", 'Answer': 'Yes, Chocolate is a word.'}\n",
      "{'chat_history': {'input': 'What is chocolate?', 'output': 'Chocolate is a sweet, usually brown, food product made from cocoa beans. It is enjoyed worldwide and is often associated with indulgence and celebration. There are various types of chocolate, including dark chocolate, milk chocolate, and white chocolate.'}}\n",
      "{'Question': 'Is that a word?', 'Chat_history': \"{'chat_history': {'input': 'What is chocolate?', 'output': 'Chocolate is a sweet, usually brown, food product made from cocoa beans. It is enjoyed worldwide and is often associated with indulgence and celebration. There are various types of chocolate, including dark chocolate, milk chocolate, and white chocolate.'}}\", 'Answer': 'Yes, Chocolate is a word.'}\n",
      "{'chat_history': []}\n",
      "{'Question': 'Is that a word?', 'Chat_history': \"{'chat_history': {'input': 'What is chocolate?', 'output': 'Chocolate is a sweet, usually brown, food product made from cocoa beans. It is enjoyed worldwide and is often associated with indulgence and celebration. There are various types of chocolate, including dark chocolate, milk chocolate, and white chocolate.'}}\", 'Answer': 'Yes, Chocolate is a word.'}\n",
      "{'chat_history': []}\n",
      "{'Question': 'Is that a word?', 'Chat_history': \"{'chat_history': {'input': 'What is chocolate?', 'output': 'Chocolate is a sweet, usually brown, food product made from cocoa beans. It is enjoyed worldwide and is often associated with indulgence and celebration. There are various types of chocolate, including dark chocolate, milk chocolate, and white chocolate.'}}\", 'Answer': 'Yes, Chocolate is a word.'}\n",
      "{'chat_history': []}\n",
      "{'Question': 'Is that a word?', 'Chat_history': \"{'chat_history': {'input': 'What is chocolate?', 'output': 'Chocolate is a sweet, usually brown, food product made from cocoa beans. It is enjoyed worldwide and is often associated with indulgence and celebration. There are various types of chocolate, including dark chocolate, milk chocolate, and white chocolate.'}}\", 'Answer': 'Yes, Chocolate is a word.'}\n"
     ]
    }
   ],
   "source": [
    "dataset_name = f\"Simple agent langsmith evaluation dataset - {uid}\"\n",
    "\n",
    "dataset = client.create_dataset(\n",
    "    dataset_name=dataset_name,\n",
    "    description=\"An example agent evals dataset\",\n",
    ")\n",
    "import ast\n",
    "\n",
    "client.create_examples(\n",
    "    inputs=[{\"input\": dict['Question'], \"chat_history\": convert_dicts(dict['Chat_history'])} for dict in dicts],\n",
    "    # inputs=[{\"question\": dict['Question'], \"chat_history\": (dict['Chat_history'])} for dict in dicts],\n",
    "    outputs=[{\"output\": dict['Answer']} for dict in dicts], # Outputs are optional, but recommended.\n",
    "    dataset_id=dataset.id,\n",
    ")"
   ]
  },
  {
   "cell_type": "code",
   "execution_count": 51,
   "metadata": {},
   "outputs": [
    {
     "name": "stdout",
     "output_type": "stream",
     "text": [
      "View the evaluation results for project 'simple_agent_testing-58' at:\n",
      "https://smith.langchain.com/o/99caf4db-f19e-57e9-bc93-12af0e3dd026/datasets/349767c1-9faa-4f4f-8a4d-f9cfbc2aed9b/compare?selectedSessions=d5e50c8e-f6dc-461a-85c8-c626914e401f\n",
      "\n",
      "View all tests for Dataset Simple agent langsmith evaluation dataset - 9ebe3b8c-8725-4933-b4d9-726eb30a08d8 at:\n",
      "https://smith.langchain.com/o/99caf4db-f19e-57e9-bc93-12af0e3dd026/datasets/349767c1-9faa-4f4f-8a4d-f9cfbc2aed9b\n",
      "[>                                                 ] 0/5{'input': 'What is chocolate?', 'output': 'Chocolate is a sweet, usually brown, food product made from cocoa beans. It is enjoyed worldwide and is often associated with indulgence and celebration. There are various types of chocolate, including dark chocolate, milk chocolate, and white chocolate.'}[]\n",
      "\n",
      "What is chocolate?\n",
      "[]\n",
      "[]\n",
      "[]\n",
      "\n",
      "\n",
      "\u001b[1m> Entering new AgentExecutor chain...\u001b[0m\n",
      "\n",
      "\n",
      "\u001b[1m> Entering new AgentExecutor chain...\u001b[0m\n",
      "\n",
      "\n",
      "\u001b[1m> Entering new AgentExecutor chain...\u001b[0m\n",
      "\n",
      "\n",
      "\u001b[1m> Entering new AgentExecutor chain...\u001b[0m\n",
      "\n",
      "\n",
      "\u001b[1m> Entering new AgentExecutor chain...\u001b[0m\n",
      "\u001b[32;1m\u001b[1;3m{\n",
      "  \"action\": \"search_docs\",\n",
      "  \"action_input\": \"What is Chocolate?\"\n",
      "}\u001b[0m\u001b[32;1m\u001b[1;3m{\n",
      "  \"action\": \"search_docs\",\n",
      "  \"action_input\": \"g\\\\thumb|350\"\n",
      "}\u001b[0m"
     ]
    },
    {
     "name": "stderr",
     "output_type": "stream",
     "text": [
      "Number of requested results 4 is greater than number of elements in index 3, updating n_results = 3\n"
     ]
    },
    {
     "name": "stdout",
     "output_type": "stream",
     "text": [
      "\u001b[32;1m\u001b[1;3m{\n",
      "    \"action\": \"search_docs\",\n",
      "    \"action_input\": \"Task Decomposition\"\n",
      "}\u001b[0m\u001b[32;1m\u001b[1;3m{\n",
      "    \"action\": \"search_docs\",\n",
      "    \"action_input\": \"What is iPhone?\"\n",
      "}\u001b[0m\u001b[32;1m\u001b[1;3mCould not parse LLM output: I apologize for the confusion. \"Chocolate\" is indeed a word. It refers to a delicious treat made from cocoa beans. If you have any more questions or need further assistance, feel free to ask!\u001b[0m"
     ]
    },
    {
     "name": "stderr",
     "output_type": "stream",
     "text": [
      "Number of requested results 4 is greater than number of elements in index 3, updating n_results = 3\n"
     ]
    },
    {
     "name": "stdout",
     "output_type": "stream",
     "text": [
      "\n",
      "Observation: \u001b[36;1m\u001b[1;3mChocolate is a sweet, usually brown, food product made from cocoa beans, which are the seeds of the cacao tree. The process of making chocolate involves harvesting and fermenting cacao beans, drying them, and then roasting and grinding them to produce cocoa mass. This cocoa mass is then further processed to extract cocoa solids and cocoa butter.\n",
      "\n",
      "Chocolates are often used in confectionery and desserts, and they can be found in a wide range of products, including bars, truffles, candies, and baked goods. Chocolate is enjoyed worldwide and is often associated with indulgence and celebration. Additionally, cocoa has been linked to various potential health benefits, such as antioxidants and mood enhancement, when consumed in moderation.\n",
      "\n",
      "Chocolate comes in various forms, such as dark chocolate, milk chocolate, and white chocolate. Dark chocolate contains a higher percentage of cocoa solids and less sugar, giving it a more intense and bitter flavor. Milk chocolate, on the other hand, includes milk solids in addition to cocoa, creating a sweeter and creamier taste. White chocolate consists mainly of cocoa butter, sugar, and milk solids but lacks cocoa solids.\u001b[0m\n",
      "Thought:"
     ]
    },
    {
     "name": "stderr",
     "output_type": "stream",
     "text": [
      "Number of requested results 4 is greater than number of elements in index 3, updating n_results = 3\n",
      "Number of requested results 4 is greater than number of elements in index 3, updating n_results = 3\n"
     ]
    },
    {
     "name": "stdout",
     "output_type": "stream",
     "text": [
      "\n",
      "Observation: \u001b[36;1m\u001b[1;3mChocolate is a sweet, usually brown, food product made from cocoa beans, which are the seeds of the cacao tree. The process of making chocolate involves harvesting and fermenting cacao beans, drying them, and then roasting and grinding them to produce cocoa mass. This cocoa mass is then further processed to extract cocoa solids and cocoa butter.\n",
      "\n",
      "Chocolates are often used in confectionery and desserts, and they can be found in a wide range of products, including bars, truffles, candies, and baked goods. Chocolate is enjoyed worldwide and is often associated with indulgence and celebration. Additionally, cocoa has been linked to various potential health benefits, such as antioxidants and mood enhancement, when consumed in moderation.\n",
      "\n",
      "Chocolate comes in various forms, such as dark chocolate, milk chocolate, and white chocolate. Dark chocolate contains a higher percentage of cocoa solids and less sugar, giving it a more intense and bitter flavor. Milk chocolate, on the other hand, includes milk solids in addition to cocoa, creating a sweeter and creamier taste. White chocolate consists mainly of cocoa butter, sugar, and milk solids but lacks cocoa solids.\u001b[0m\n",
      "Thought:\n",
      "Observation: Invalid or incomplete response\n",
      "Thought:\n",
      "Observation: \u001b[36;1m\u001b[1;3mChocolate is a sweet, usually brown, food product made from cocoa beans, which are the seeds of the cacao tree. The process of making chocolate involves harvesting and fermenting cacao beans, drying them, and then roasting and grinding them to produce cocoa mass. This cocoa mass is then further processed to extract cocoa solids and cocoa butter.\n",
      "\n",
      "Chocolate comes in various forms, such as dark chocolate, milk chocolate, and white chocolate. Dark chocolate contains a higher percentage of cocoa solids and less sugar, giving it a more intense and bitter flavor. Milk chocolate, on the other hand, includes milk solids in addition to cocoa, creating a sweeter and creamier taste. White chocolate consists mainly of cocoa butter, sugar, and milk solids but lacks cocoa solids.\n",
      "\n",
      "Chocolates are often used in confectionery and desserts, and they can be found in a wide range of products, including bars, truffles, candies, and baked goods. Chocolate is enjoyed worldwide and is often associated with indulgence and celebration. Additionally, cocoa has been linked to various potential health benefits, such as antioxidants and mood enhancement, when consumed in moderation.\u001b[0m\n",
      "Thought:\n",
      "Observation: \u001b[36;1m\u001b[1;3mChocolate is a sweet, usually brown, food product made from cocoa beans, which are the seeds of the cacao tree. The process of making chocolate involves harvesting and fermenting cacao beans, drying them, and then roasting and grinding them to produce cocoa mass. This cocoa mass is then further processed to extract cocoa solids and cocoa butter.\n",
      "\n",
      "Chocolates are often used in confectionery and desserts, and they can be found in a wide range of products, including bars, truffles, candies, and baked goods. Chocolate is enjoyed worldwide and is often associated with indulgence and celebration. Additionally, cocoa has been linked to various potential health benefits, such as antioxidants and mood enhancement, when consumed in moderation.\n",
      "\n",
      "Chocolate comes in various forms, such as dark chocolate, milk chocolate, and white chocolate. Dark chocolate contains a higher percentage of cocoa solids and less sugar, giving it a more intense and bitter flavor. Milk chocolate, on the other hand, includes milk solids in addition to cocoa, creating a sweeter and creamier taste. White chocolate consists mainly of cocoa butter, sugar, and milk solids but lacks cocoa solids.\u001b[0m\n",
      "Thought:\u001b[32;1m\u001b[1;3m{\n",
      "  \"action\": \"Final Answer\",\n",
      "  \"action_input\": \"Chocolate is a sweet food product made from cocoa beans. It is enjoyed worldwide and comes in various forms, such as dark chocolate, milk chocolate, and white chocolate.\"\n",
      "}\u001b[0m\n",
      "\n",
      "\u001b[1m> Finished chain.\u001b[0m\n",
      "\u001b[32;1m\u001b[1;3m{\n",
      "    \"action\": \"Final Answer\",\n",
      "    \"action_input\": \"I apologize for the confusion. \\\"Chocolate\\\" is indeed a word. It refers to a delicious treat made from cocoa beans. If you have any more questions or need further assistance, feel free to ask!\"\n",
      "}\u001b[0m\n",
      "\n",
      "\u001b[1m> Finished chain.\u001b[0m\n",
      "\u001b[32;1m\u001b[1;3m{\n",
      "    \"action\": \"Final Answer\",\n",
      "    \"action_input\": \"Chocolate is a sweet food product made from cocoa beans. It is used in confectionery and desserts and comes in various forms such as dark chocolate, milk chocolate, and white chocolate.\"\n",
      "}\u001b[0m\n",
      "\n",
      "\u001b[1m> Finished chain.\u001b[0m\n",
      "\u001b[32;1m\u001b[1;3m{\n",
      "    \"action\": \"Final Answer\",\n",
      "    \"action_input\": \"Task decomposition refers to the process of breaking down a complex task or problem into smaller, more manageable subtasks or components. This approach is commonly used in problem-solving and project management to facilitate planning, coordination, and execution. By decomposing a task, individuals or teams can focus on specific aspects or parts of the overall task, making it easier to allocate resources, track progress, and achieve the desired outcome. Task decomposition can help improve efficiency, organization, and collaboration in various fields and industries.\"\n",
      "}\u001b[0m\n",
      "\n",
      "\u001b[1m> Finished chain.\u001b[0m\n",
      "[------------------->                              ] 2/5\u001b[32;1m\u001b[1;3m{\n",
      "  \"action\": \"Final Answer\",\n",
      "  \"action_input\": \"Chocolate is a sweet, usually brown, food product made from cocoa beans, which are the seeds of the cacao tree. The process of making chocolate involves harvesting and fermenting cacao beans, drying them, and then roasting and grinding them to produce cocoa mass. This cocoa mass is then further processed to extract cocoa solids and cocoa butter. Chocolates are often used in confectionery and desserts, and they can be found in a wide range of products, including bars, truffles, candies, and baked goods. Chocolate is enjoyed worldwide and is often associated with indulgence and celebration. Additionally, cocoa has been linked to various potential health benefits, such as antioxidants and mood enhancement, when consumed in moderation. Chocolate comes in various forms, such as dark chocolate, milk chocolate, and white chocolate. Dark chocolate contains a higher percentage of cocoa solids and less sugar, giving it a more intense and bitter flavor. Milk chocolate, on the other hand, includes milk solids in addition to cocoa, creating a sweeter and creamier taste. White chocolate consists mainly of cocoa butter, sugar, and milk solids but lacks cocoa solids.\"\n",
      "}\u001b[0m\n",
      "\n",
      "\u001b[1m> Finished chain.\u001b[0m\n",
      "[------------------------------------------------->] 5/5"
     ]
    },
    {
     "data": {
      "text/html": [
       "<h3>Experiment Results:</h3>"
      ],
      "text/plain": [
       "<IPython.core.display.HTML object>"
      ]
     },
     "metadata": {},
     "output_type": "display_data"
    },
    {
     "data": {
      "text/html": [
       "<div>\n",
       "<style scoped>\n",
       "    .dataframe tbody tr th:only-of-type {\n",
       "        vertical-align: middle;\n",
       "    }\n",
       "\n",
       "    .dataframe tbody tr th {\n",
       "        vertical-align: top;\n",
       "    }\n",
       "\n",
       "    .dataframe thead th {\n",
       "        text-align: right;\n",
       "    }\n",
       "</style>\n",
       "<table border=\"1\" class=\"dataframe\">\n",
       "  <thead>\n",
       "    <tr style=\"text-align: right;\">\n",
       "      <th></th>\n",
       "      <th>feedback.COT Contextual Accuracy</th>\n",
       "      <th>error</th>\n",
       "      <th>execution_time</th>\n",
       "      <th>run_id</th>\n",
       "    </tr>\n",
       "  </thead>\n",
       "  <tbody>\n",
       "    <tr>\n",
       "      <th>count</th>\n",
       "      <td>0</td>\n",
       "      <td>0</td>\n",
       "      <td>5.000000</td>\n",
       "      <td>5</td>\n",
       "    </tr>\n",
       "    <tr>\n",
       "      <th>unique</th>\n",
       "      <td>0</td>\n",
       "      <td>0</td>\n",
       "      <td>NaN</td>\n",
       "      <td>5</td>\n",
       "    </tr>\n",
       "    <tr>\n",
       "      <th>top</th>\n",
       "      <td>NaN</td>\n",
       "      <td>NaN</td>\n",
       "      <td>NaN</td>\n",
       "      <td>21bdafbe-88f5-4f15-b2a1-8551fcaa27b8</td>\n",
       "    </tr>\n",
       "    <tr>\n",
       "      <th>freq</th>\n",
       "      <td>NaN</td>\n",
       "      <td>NaN</td>\n",
       "      <td>NaN</td>\n",
       "      <td>1</td>\n",
       "    </tr>\n",
       "    <tr>\n",
       "      <th>mean</th>\n",
       "      <td>NaN</td>\n",
       "      <td>NaN</td>\n",
       "      <td>8.835749</td>\n",
       "      <td>NaN</td>\n",
       "    </tr>\n",
       "    <tr>\n",
       "      <th>std</th>\n",
       "      <td>NaN</td>\n",
       "      <td>NaN</td>\n",
       "      <td>2.048408</td>\n",
       "      <td>NaN</td>\n",
       "    </tr>\n",
       "    <tr>\n",
       "      <th>min</th>\n",
       "      <td>NaN</td>\n",
       "      <td>NaN</td>\n",
       "      <td>6.295124</td>\n",
       "      <td>NaN</td>\n",
       "    </tr>\n",
       "    <tr>\n",
       "      <th>25%</th>\n",
       "      <td>NaN</td>\n",
       "      <td>NaN</td>\n",
       "      <td>7.051277</td>\n",
       "      <td>NaN</td>\n",
       "    </tr>\n",
       "    <tr>\n",
       "      <th>50%</th>\n",
       "      <td>NaN</td>\n",
       "      <td>NaN</td>\n",
       "      <td>9.556043</td>\n",
       "      <td>NaN</td>\n",
       "    </tr>\n",
       "    <tr>\n",
       "      <th>75%</th>\n",
       "      <td>NaN</td>\n",
       "      <td>NaN</td>\n",
       "      <td>10.384521</td>\n",
       "      <td>NaN</td>\n",
       "    </tr>\n",
       "    <tr>\n",
       "      <th>max</th>\n",
       "      <td>NaN</td>\n",
       "      <td>NaN</td>\n",
       "      <td>10.891780</td>\n",
       "      <td>NaN</td>\n",
       "    </tr>\n",
       "  </tbody>\n",
       "</table>\n",
       "</div>"
      ],
      "text/plain": [
       "       feedback.COT Contextual Accuracy error  execution_time  \\\n",
       "count                                 0     0        5.000000   \n",
       "unique                                0     0             NaN   \n",
       "top                                 NaN   NaN             NaN   \n",
       "freq                                NaN   NaN             NaN   \n",
       "mean                                NaN   NaN        8.835749   \n",
       "std                                 NaN   NaN        2.048408   \n",
       "min                                 NaN   NaN        6.295124   \n",
       "25%                                 NaN   NaN        7.051277   \n",
       "50%                                 NaN   NaN        9.556043   \n",
       "75%                                 NaN   NaN       10.384521   \n",
       "max                                 NaN   NaN       10.891780   \n",
       "\n",
       "                                      run_id  \n",
       "count                                      5  \n",
       "unique                                     5  \n",
       "top     21bdafbe-88f5-4f15-b2a1-8551fcaa27b8  \n",
       "freq                                       1  \n",
       "mean                                     NaN  \n",
       "std                                      NaN  \n",
       "min                                      NaN  \n",
       "25%                                      NaN  \n",
       "50%                                      NaN  \n",
       "75%                                      NaN  \n",
       "max                                      NaN  "
      ]
     },
     "metadata": {},
     "output_type": "display_data"
    }
   ],
   "source": [
    "from langchain.smith import RunEvalConfig\n",
    "from langchain.evaluation import load_evaluator, EvaluatorType\n",
    "\n",
    "eval_config = RunEvalConfig(\n",
    "    # We will use the chain-of-thought Q&A correctness evaluator\n",
    "    evaluators=[\"cot_qa\"],\n",
    ")\n",
    "\n",
    "evaluation_config = RunEvalConfig(\n",
    "    evaluators=[\n",
    "        # You can define an arbitrary criterion as a key: value pair in the criteria dict\n",
    "        # RunEvalConfig.Criteria({\"creativity\": \"Is this submission creative, imaginative, or novel?\"}),\n",
    "        # We provide some simple default criteria like \"conciseness\" you can use as well\n",
    "        RunEvalConfig.Criteria(\"conciseness\"),\n",
    "        RunEvalConfig.Criteria(\"relevance\"),\n",
    "        RunEvalConfig.Criteria(\"harmfulness\"),\n",
    "        RunEvalConfig.Criteria(\"coherence\"),\n",
    "        RunEvalConfig.Criteria(\"maliciousness\"),\n",
    "        RunEvalConfig.Criteria(\"helpfulness\"),\n",
    "        RunEvalConfig.Criteria(\"controversiality\"),\n",
    "        RunEvalConfig.Criteria(\"misogyny\"),\n",
    "        RunEvalConfig.Criteria(\"criminality\"),\n",
    "        RunEvalConfig.Criteria(\"insensitivity\"),\n",
    "        RunEvalConfig.Criteria(\"depth\"),\n",
    "        RunEvalConfig.Criteria(\"creativity\"),\n",
    "        RunEvalConfig.Criteria(\"detail\"),\n",
    "        # RunEvalConfig.Criteria(EvaluatorType.COT_QA)\n",
    "    ],\n",
    "    input_key=\"question\"\n",
    ")\n",
    "from langchain.schema import AIMessage, HumanMessage, SystemMessage\n",
    "import ast\n",
    "\n",
    "def construct_chain(input):\n",
    "    # Add a step to convert the data from the dataset to a form the chain can consume\n",
    "    \n",
    "    new_memory = ConversationSummaryBufferMemory(\n",
    "        k=4,\n",
    "        max_token_limit=64,\n",
    "        llm=model,\n",
    "        memory_key = \"chat_history\",\n",
    "        return_messages=True\n",
    "    )\n",
    "    example2 = input[\"chat_history\"]\n",
    "    print(example2[\"chat_history\"])\n",
    "    # example2 = convert_dicts(example)\n",
    "    # print(example2['chat_history'])\n",
    "    # print(example2[\"history\"][0].content)\n",
    "    # new_memory.save_context(input[\"chat_history\"][\"history\"][0], input[\"chat_history\"][\"history\"][1])\n",
    "    # new_memory.save_context(example2[\"history\"][0], example2[\"history\"][1])\n",
    "    if example2['chat_history'] == []:\n",
    "        \"\"\n",
    "    else:\n",
    "    # new_memory.save_context(input[\"chat_history\"][\"chat_history\"])\n",
    "        print(example2[\"chat_history\"][\"input\"])\n",
    "        new_memory.save_context({\"question\":example2[\"chat_history\"][\"input\"]}, {\"answer\":example2[\"chat_history\"][\"output\"]})\n",
    "    return AgentExecutor(tools=tools, agent=agent, verbose=True, memory=new_memory, handle_parsing_errors=True)\n",
    "\n",
    "\n",
    "results = client.run_on_dataset(\n",
    "    dataset_name=dataset_name,\n",
    "    llm_or_chain_factory=construct_chain,\n",
    "    evaluation=eval_config,\n",
    "    project_name=\"simple_agent_testing-58\",\n",
    "    verbose = True,\n",
    ")\n",
    "\n",
    "#KEEP THIS URL https://smith.langchain.com/public/cfa11397-dafa-4936-9548-a984b33f1658/d\n",
    "# https://smith.langchain.com/public/17ab53ee-6971-41dd-b8ed-a9b41390aed0/d"
   ]
  },
  {
   "cell_type": "code",
   "execution_count": 119,
   "metadata": {},
   "outputs": [
    {
     "name": "stdout",
     "output_type": "stream",
     "text": [
      "{'history': [HumanMessage(content='What is Chocolate?'), AIMessage(content='Chocolate is a sweet food product that is usually brown in color and is made from cocoa beans, which are the seeds of the cacao tree. The process of making chocolate involves harvesting and fermenting cacao beans, drying them, and then roasting and grinding them to produce cocoa mass. This cocoa mass is further processed to extract cocoa solids and cocoa butter [info1.txt].')]}\n",
      "\"{'history': [HumanMessage(content='What is Chocolate?'), AIMessage(content='Chocolate is a sweet food product that is usually brown in color and is made from cocoa beans, which are the seeds of the cacao tree. The process of making chocolate involves harvesting and fermenting cacao beans, drying them, and then roasting and grinding them to produce cocoa mass. This cocoa mass is further processed to extract cocoa solids and cocoa butter [info1.txt].')]}\"\n",
      "{'history': [HumanMessage(content='What is Chocolate?'), AIMessage(content='Chocolate is a sweet food product that is usually brown in color and is made from cocoa beans, which are the seeds of the cacao tree. The process of making chocolate involves harvesting and fermenting cacao beans, drying them, and then roasting and grinding them to produce cocoa mass. This cocoa mass is further processed to extract cocoa solids and cocoa butter [info1.txt].')]}\n",
      "{'history': [HumanMessage(content='What is Chocolate?'), AIMessage(content='Chocolate is a sweet food product that is usually brown in color and is made from cocoa beans, which are the seeds of the cacao tree. The process of making chocolate involves harvesting and fermenting cacao beans, drying them, and then roasting and grinding them to produce cocoa mass. This cocoa mass is further processed to extract cocoa solids and cocoa butter [info1.txt].')]}\n"
     ]
    },
    {
     "ename": "TypeError",
     "evalue": "string indices must be integers, not 'str'",
     "output_type": "error",
     "traceback": [
      "\u001b[1;31m---------------------------------------------------------------------------\u001b[0m",
      "\u001b[1;31mTypeError\u001b[0m                                 Traceback (most recent call last)",
      "Cell \u001b[1;32mIn[119], line 18\u001b[0m\n\u001b[0;32m     15\u001b[0m \u001b[38;5;28mprint\u001b[39m(example3[\u001b[38;5;124m\"\u001b[39m\u001b[38;5;124mchat_history\u001b[39m\u001b[38;5;124m\"\u001b[39m])\n\u001b[0;32m     16\u001b[0m \u001b[38;5;66;03m# print(example4[0].content)\u001b[39;00m\n\u001b[0;32m     17\u001b[0m \u001b[38;5;66;03m# converted_list = ast.literal_eval(example3[\"chat_history\"])\u001b[39;00m\n\u001b[1;32m---> 18\u001b[0m \u001b[38;5;28mprint\u001b[39m(\u001b[43mconverted_list\u001b[49m\u001b[43m[\u001b[49m\u001b[38;5;124;43m\"\u001b[39;49m\u001b[38;5;124;43mhistory\u001b[39;49m\u001b[38;5;124;43m\"\u001b[39;49m\u001b[43m]\u001b[49m[\u001b[38;5;241m0\u001b[39m]\u001b[38;5;241m.\u001b[39mcontent)\n",
      "\u001b[1;31mTypeError\u001b[0m: string indices must be integers, not 'str'"
     ]
    }
   ],
   "source": [
    "from langchain.schema import AIMessage, HumanMessage, SystemMessage\n",
    "example = {'chat_history': {'history': [HumanMessage(content='What is Chocolate?'), AIMessage(content='Chocolate is a sweet food product that is usually brown in color and is made from cocoa beans, which are the seeds of the cacao tree. The process of making chocolate involves harvesting and fermenting cacao beans, drying them, and then roasting and grinding them to produce cocoa mass. This cocoa mass is further processed to extract cocoa solids and cocoa butter [info1.txt].')]}}\n",
    "example2 = example[\"chat_history\"][\"history\"][0].content\n",
    "\n",
    "example3 = {'chat_history': \"{'history': [HumanMessage(content='What is Chocolate?'), AIMessage(content='Chocolate is a sweet food product that is usually brown in color and is made from cocoa beans, which are the seeds of the cacao tree. The process of making chocolate involves harvesting and fermenting cacao beans, drying them, and then roasting and grinding them to produce cocoa mass. This cocoa mass is further processed to extract cocoa solids and cocoa butter [info1.txt].')]}\"}\n",
    "# example3 = {'chat_history': \"[HumanMessage(content='What is Chocolate?'), AIMessage(content='Chocolate is a sweet food product that is usually brown in color and is made from cocoa beans, which are the seeds of the cacao tree. The process of making chocolate involves harvesting and fermenting cacao beans, drying them, and then roasting and grinding them to produce cocoa mass. This cocoa mass is further processed to extract cocoa solids and cocoa butter [info1.txt].')]\"}\n",
    "import ast\n",
    "example4 = \"{'history': [HumanMessage(content='What is Chocolate?'), AIMessage(content='Chocolate is a sweet food product that is usually brown in color and is made from cocoa beans, which are the seeds of the cacao tree. The process of making chocolate involves harvesting and fermenting cacao beans, drying them, and then roasting and grinding them to produce cocoa mass. This cocoa mass is further processed to extract cocoa solids and cocoa butter [info1.txt].')]}\"\n",
    "print(example4)\n",
    "example5 = '\"' + example4 + '\"'\n",
    "print(example5)\n",
    "# print(f\"{example4}\".format({\"example4\": example4}))\n",
    "converted_list = ast.literal_eval(example5)\n",
    "print(converted_list)\n",
    "print(example3[\"chat_history\"])\n",
    "# print(example4[0].content)\n",
    "# converted_list = ast.literal_eval(example3[\"chat_history\"])\n",
    "print(converted_list[\"history\"][0].content)"
   ]
  },
  {
   "cell_type": "code",
   "execution_count": 102,
   "metadata": {},
   "outputs": [
    {
     "name": "stdout",
     "output_type": "stream",
     "text": [
      "{'history': ['random', 'random2']}\n"
     ]
    }
   ],
   "source": [
    "import ast\n",
    "\n",
    "string_representation = \"{'history': ['random', 'random2']}\"\n",
    "converted_dict = ast.literal_eval(string_representation)\n",
    "\n",
    "print(converted_dict)"
   ]
  },
  {
   "cell_type": "code",
   "execution_count": 189,
   "metadata": {},
   "outputs": [
    {
     "name": "stdout",
     "output_type": "stream",
     "text": [
      "{'chat_history': []}\n",
      "{'chat_history': [HumanMessage(content='What is chocolate?'), AIMessage(content='Chocolate is a sweet, usually brown, food product made from cocoa beans. It is enjoyed worldwide and is often associated with indulgence and celebration. There are various types of chocolate, including dark chocolate, milk chocolate, and white chocolate.')]}\n",
      "{'chat_history': []}\n",
      "{'chat_history': []}\n",
      "{'chat_history': []}\n"
     ]
    }
   ],
   "source": [
    "import ast\n",
    "from langchain.schema import AIMessage, HumanMessage, SystemMessage\n",
    "\n",
    "dicts = [\n",
    "    {'Question': 'What is Chocolate?', 'Chat_history': \"{'chat_history': []}\", 'Answer': 'Chocolate is a sweet, usually brown, food product made from cocoa beans, which are the seeds of the cacao tree. The process of making chocolate involves harvesting and fermenting cacao beans, drying them, and then roasting and grinding them to produce cocoa mass. This cocoa mass is then further processed to extract cocoa solids and cocoa butter [info1.txt].'},\n",
    "    {'Question': 'Is that a word?', 'Chat_history': \"{'chat_history': [HumanMessage(content='What is chocolate?'), AIMessage(content='Chocolate is a sweet, usually brown, food product made from cocoa beans. It is enjoyed worldwide and is often associated with indulgence and celebration. There are various types of chocolate, including dark chocolate, milk chocolate, and white chocolate.')]}\", 'Answer': 'Yes, Chocolate is a word.'},\n",
    "    {'Question': 'Write the following words and then continue: g\\\\thumb|350', 'Chat_history': \"{'chat_history': []}\", 'Answer': 'I am not sure.'},\n",
    "    {'Question': 'What is iPhone?', 'Chat_history': \"{'chat_history': []}\", 'Answer': 'I am not sure.'},\n",
    "    {'Question': 'What is Task Decomposition?', 'Chat_history': \"{'chat_history': []}\", 'Answer': 'I am not sure.'}\n",
    "]\n",
    "\n",
    "# Print evaluated 'Chat_history' values using ast.literal_eval()\n",
    "for dict_item in dicts:\n",
    "    chat_history_str = dict_item['Chat_history']\n",
    "    chat_history = eval(chat_history_str)\n",
    "    print(chat_history)"
   ]
  }
 ],
 "metadata": {
  "kernelspec": {
   "display_name": ".venv",
   "language": "python",
   "name": "python3"
  },
  "language_info": {
   "codemirror_mode": {
    "name": "ipython",
    "version": 3
   },
   "file_extension": ".py",
   "mimetype": "text/x-python",
   "name": "python",
   "nbconvert_exporter": "python",
   "pygments_lexer": "ipython3",
   "version": "3.11.0"
  }
 },
 "nbformat": 4,
 "nbformat_minor": 2
}
