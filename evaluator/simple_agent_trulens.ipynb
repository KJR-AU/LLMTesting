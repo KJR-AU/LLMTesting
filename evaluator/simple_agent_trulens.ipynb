{
 "cells": [
  {
   "cell_type": "markdown",
   "metadata": {},
   "source": [
    "Agent version example"
   ]
  },
  {
   "cell_type": "code",
   "execution_count": 1,
   "metadata": {},
   "outputs": [],
   "source": [
    "from dotenv import load_dotenv\n",
    "import os\n",
    "\n",
    "load_dotenv()\n",
    "\n",
    "# Set environment\n",
    "os.environ[\"OPENAI_API_KEY\"] = os.getenv(\"OPENAI_API_KEY\")"
   ]
  },
  {
   "cell_type": "code",
   "execution_count": 2,
   "metadata": {},
   "outputs": [],
   "source": [
    "from langchain_openai import ChatOpenAI, OpenAIEmbeddings\n",
    "model = ChatOpenAI(model=\"gpt-3.5-turbo\")\n",
    "embedding = OpenAIEmbeddings()"
   ]
  },
  {
   "cell_type": "code",
   "execution_count": 3,
   "metadata": {},
   "outputs": [
    {
     "name": "stdout",
     "output_type": "stream",
     "text": [
      "<class 'langchain_community.vectorstores.chroma.Chroma'>\n"
     ]
    }
   ],
   "source": [
    "from langchain_community.vectorstores import Chroma\n",
    "import document_handler\n",
    "\n",
    "# https://python.langchain.com/docs/integrations/vectorstores/chroma\n",
    "\n",
    "chroma_collection_name = \"LangChainCollection\"\n",
    "\n",
    "import chromadb\n",
    "new_client = chromadb.EphemeralClient()\n",
    "\n",
    "vectorstore_initialize = Chroma.from_documents(\n",
    "    document_handler.processed_texts,\n",
    "    embedding=embedding,\n",
    "    collection_name=chroma_collection_name,\n",
    "    client=new_client,\n",
    ")\n",
    "\n",
    "vectorstore = Chroma(\n",
    "    client=new_client,\n",
    "    collection_name=chroma_collection_name,\n",
    "    embedding_function=embedding,\n",
    ")\n",
    "retriever = vectorstore.as_retriever()"
   ]
  },
  {
   "cell_type": "code",
   "execution_count": 4,
   "metadata": {},
   "outputs": [
    {
     "name": "stderr",
     "output_type": "stream",
     "text": [
      "Number of requested results 4 is greater than number of elements in index 3, updating n_results = 3\n"
     ]
    },
    {
     "name": "stdout",
     "output_type": "stream",
     "text": [
      "[Document(page_content='Chocolate is a sweet, usually brown, food product made from cocoa beans, which are the seeds of the cacao tree. The process of making chocolate involves harvesting and fermenting cacao beans, drying them, and then roasting and grinding them to produce cocoa mass. This cocoa mass is then further processed to extract cocoa solids and cocoa butter.', metadata={'source': 'test_data\\\\Chocolate.txt'}), Document(page_content='Chocolates are often used in confectionery and desserts, and they can be found in a wide range of products, including bars, truffles, candies, and baked goods. Chocolate is enjoyed worldwide and is often associated with indulgence and celebration. Additionally, cocoa has been linked to various potential health benefits, such as antioxidants and mood enhancement, when consumed in moderation.', metadata={'source': 'test_data\\\\Chocolate.txt'}), Document(page_content='Chocolate comes in various forms, such as dark chocolate, milk chocolate, and white chocolate. Dark chocolate contains a higher percentage of cocoa solids and less sugar, giving it a more intense and bitter flavor. Milk chocolate, on the other hand, includes milk solids in addition to cocoa, creating a sweeter and creamier taste. White chocolate consists mainly of cocoa butter, sugar, and milk solids but lacks cocoa solids.', metadata={'source': 'test_data\\\\Chocolate.txt'})]\n"
     ]
    },
    {
     "name": "stderr",
     "output_type": "stream",
     "text": [
      "Number of requested results 4 is greater than number of elements in index 3, updating n_results = 3\n"
     ]
    },
    {
     "name": "stdout",
     "output_type": "stream",
     "text": [
      "[Document(page_content='Chocolate is a sweet, usually brown, food product made from cocoa beans, which are the seeds of the cacao tree. The process of making chocolate involves harvesting and fermenting cacao beans, drying them, and then roasting and grinding them to produce cocoa mass. This cocoa mass is then further processed to extract cocoa solids and cocoa butter.', metadata={'source': 'test_data\\\\Chocolate.txt'}), Document(page_content='Chocolates are often used in confectionery and desserts, and they can be found in a wide range of products, including bars, truffles, candies, and baked goods. Chocolate is enjoyed worldwide and is often associated with indulgence and celebration. Additionally, cocoa has been linked to various potential health benefits, such as antioxidants and mood enhancement, when consumed in moderation.', metadata={'source': 'test_data\\\\Chocolate.txt'}), Document(page_content='Chocolate comes in various forms, such as dark chocolate, milk chocolate, and white chocolate. Dark chocolate contains a higher percentage of cocoa solids and less sugar, giving it a more intense and bitter flavor. Milk chocolate, on the other hand, includes milk solids in addition to cocoa, creating a sweeter and creamier taste. White chocolate consists mainly of cocoa butter, sugar, and milk solids but lacks cocoa solids.', metadata={'source': 'test_data\\\\Chocolate.txt'})]\n"
     ]
    }
   ],
   "source": [
    "docs = vectorstore_initialize.similarity_search(\"What is Chocolate?\")\n",
    "print(docs)\n",
    "docs = vectorstore.similarity_search(\"What is Chocolate?\")\n",
    "print(docs)"
   ]
  },
  {
   "cell_type": "code",
   "execution_count": 5,
   "metadata": {},
   "outputs": [],
   "source": [
    "from langchain.prompts import (\n",
    "    ChatPromptTemplate,\n",
    "    MessagesPlaceholder\n",
    ")\n",
    "from langchain_core.output_parsers import StrOutputParser\n",
    "from langchain.agents import AgentExecutor, tool\n",
    "from langchain_core.runnables import RunnableLambda, RunnablePassthrough"
   ]
  },
  {
   "cell_type": "code",
   "execution_count": 29,
   "metadata": {},
   "outputs": [],
   "source": [
    "from langchain.memory import ConversationSummaryBufferMemory\n",
    "conversational_memory = ConversationSummaryBufferMemory(\n",
    "    k=4,\n",
    "    max_token_limit=64,\n",
    "    llm=model,\n",
    "    memory_key = \"chat_history\",\n",
    "    return_messages=True\n",
    ")"
   ]
  },
  {
   "cell_type": "code",
   "execution_count": 41,
   "metadata": {},
   "outputs": [],
   "source": [
    "# Prompt\n",
    "\n",
    "system_message_template = (\n",
    "    \"You are a helpful assistant who helps answer questions. Answer only the facts based on the context. \"\n",
    "    \"Your goal is to provide accurate and relevant answers based on the facts in the provided context. \"\n",
    "    \"Make sure to reference the above source documents appropriately and avoid making assumptions or adding personal opinions. \"\n",
    "    \"Emphasize the use of facts from the provided source documents. \"\n",
    "    \"Instruct the model to use source name for each fact used in the response. \"\n",
    "    \"Avoid generating speculative or generalized information. \"\n",
    "    \"Use square brackets to reference the source, e.g. [info1.txt]. \"\n",
    "    \"Do not combine sources, list each source separately, e.g. [info1.txt][info2.pdf].\\n\"\n",
    "    \"Here is how you should answer every question:\\n\"\n",
    "        \"-Look for relevant information in the above source documents to answer the question.\\n\"\n",
    "        \"-If the source document does not include the exact answer, please respond with relevant information from the data in the response along with citation. You must include a citation to each document referenced.\\n\"\n",
    "        \"-If you cannot find answer in below sources, respond with I am not sure. Do not provide personal opinions or assumptions and do not include citations.\\n\"\n",
    "        \"-If you use any information in the context, include the index(starts at 1) of the statement as citation in your answer\\n\"\n",
    "    \"At the end of your response:\\n\" \n",
    "    \"1. Add key words from the paragraphs. \\n\"\n",
    "    \"2. Suggest a further question that can be answered by the paragraphs provided. \\n\"\n",
    "    \"3. Create a source list of source name, author name, and a link for each document you cited.\\n\"\n",
    "    \"{context}\"\n",
    "\n",
    ")\n",
    "\n",
    "MEMORY_KEY = \"chat_history\"\n",
    "\n",
    "final_prompt = ChatPromptTemplate.from_messages(\n",
    "    [\n",
    "        (\"system\", system_message_template),\n",
    "        MessagesPlaceholder(variable_name=MEMORY_KEY),\n",
    "        (\"human\", \"{question}\"),\n",
    "        # MessagesPlaceholder(variable_name=\"agent_scratchpad\"),\n",
    "    ]\n",
    ")\n"
   ]
  },
  {
   "cell_type": "code",
   "execution_count": 8,
   "metadata": {},
   "outputs": [],
   "source": [
    "from langchain.tools.retriever import create_retriever_tool\n",
    "# tools\n",
    "retriever_tool = create_retriever_tool(\n",
    "    retriever,\n",
    "    \"search_docs\",\n",
    "    \"Searches and returns documents for information to answer the question\",\n",
    ")\n",
    "\n",
    "@tool\n",
    "def retrieve_documents_tool(query: str) -> str:\n",
    "    \"\"\"Searches for relevant documents that may contain the answer to the query.\"\"\"\n",
    "    docs = retriever.get_relevant_documents(query)[:3]\n",
    "    # return docs\n",
    "    texts = [doc.page_content for doc in docs]\n",
    "    texts_merged = '\\n\\n'.join(texts)\n",
    "    # print(\"Retrieving documents\")\n",
    "    # print(texts_merged)\n",
    "    return texts_merged\n",
    "\n",
    "\n",
    "tools = [retriever_tool]"
   ]
  },
  {
   "cell_type": "code",
   "execution_count": 31,
   "metadata": {},
   "outputs": [],
   "source": [
    "# Set llm chain\n",
    "def format_docs(docs):\n",
    "    return \"\\n\\n\".join(doc.page_content for doc in docs)\n",
    "\n",
    "# agent = (\n",
    "#     {\"context\": retriever | format_docs, \"question\": RunnablePassthrough()}\n",
    "#     | final_prompt\n",
    "#     | model\n",
    "#     | StrOutputParser()\n",
    "# )\n",
    "from langchain.agents.conversational_chat.base import ConversationalChatAgent\n",
    "\n",
    "agent = ConversationalChatAgent.from_llm_and_tools(llm=model, tools=tools, prompt=final_prompt)"
   ]
  },
  {
   "cell_type": "code",
   "execution_count": 43,
   "metadata": {},
   "outputs": [],
   "source": [
    "agent_executor = AgentExecutor(tools=tools, agent=agent, verbose=True, memory=conversational_memory,)"
   ]
  },
  {
   "cell_type": "code",
   "execution_count": 38,
   "metadata": {},
   "outputs": [
    {
     "name": "stdout",
     "output_type": "stream",
     "text": [
      "\n",
      "\n",
      "\u001b[1m> Entering new AgentExecutor chain...\u001b[0m\n",
      "\u001b[32;1m\u001b[1;3m{\n",
      "  \"action\": \"search_docs\",\n",
      "  \"action_input\": \"What is chocolate?\"\n",
      "}\u001b[0m"
     ]
    },
    {
     "name": "stderr",
     "output_type": "stream",
     "text": [
      "Number of requested results 4 is greater than number of elements in index 3, updating n_results = 3\n"
     ]
    },
    {
     "name": "stdout",
     "output_type": "stream",
     "text": [
      "\n",
      "Observation: \u001b[36;1m\u001b[1;3mChocolate is a sweet, usually brown, food product made from cocoa beans, which are the seeds of the cacao tree. The process of making chocolate involves harvesting and fermenting cacao beans, drying them, and then roasting and grinding them to produce cocoa mass. This cocoa mass is then further processed to extract cocoa solids and cocoa butter.\n",
      "\n",
      "Chocolates are often used in confectionery and desserts, and they can be found in a wide range of products, including bars, truffles, candies, and baked goods. Chocolate is enjoyed worldwide and is often associated with indulgence and celebration. Additionally, cocoa has been linked to various potential health benefits, such as antioxidants and mood enhancement, when consumed in moderation.\n",
      "\n",
      "Chocolate comes in various forms, such as dark chocolate, milk chocolate, and white chocolate. Dark chocolate contains a higher percentage of cocoa solids and less sugar, giving it a more intense and bitter flavor. Milk chocolate, on the other hand, includes milk solids in addition to cocoa, creating a sweeter and creamier taste. White chocolate consists mainly of cocoa butter, sugar, and milk solids but lacks cocoa solids.\u001b[0m\n",
      "Thought:\u001b[32;1m\u001b[1;3m{\n",
      "  \"action\": \"Final Answer\",\n",
      "  \"action_input\": \"Chocolate is a sweet, usually brown, food product made from cocoa beans. It is enjoyed worldwide and comes in various forms, such as dark chocolate, milk chocolate, and white chocolate.\"\n",
      "}\u001b[0m\n",
      "\n",
      "\u001b[1m> Finished chain.\u001b[0m\n"
     ]
    },
    {
     "ename": "ValueError",
     "evalue": "One output key expected, got dict_keys(['output', 'intermediate_steps'])",
     "output_type": "error",
     "traceback": [
      "\u001b[1;31m---------------------------------------------------------------------------\u001b[0m",
      "\u001b[1;31mValueError\u001b[0m                                Traceback (most recent call last)",
      "Cell \u001b[1;32mIn[38], line 2\u001b[0m\n\u001b[0;32m      1\u001b[0m query \u001b[38;5;241m=\u001b[39m \u001b[38;5;124m\"\u001b[39m\u001b[38;5;124mWhat is chocolate?\u001b[39m\u001b[38;5;124m\"\u001b[39m\n\u001b[1;32m----> 2\u001b[0m \u001b[38;5;28mprint\u001b[39m(\u001b[43magent_executor\u001b[49m\u001b[38;5;241;43m.\u001b[39;49m\u001b[43minvoke\u001b[49m\u001b[43m(\u001b[49m\u001b[43mquery\u001b[49m\u001b[43m)\u001b[49m)\n\u001b[0;32m      3\u001b[0m conversational_memory\u001b[38;5;241m.\u001b[39mclear()\n",
      "File \u001b[1;32mc:\\Users\\jiheu\\LLMTesting\\LLMTesting\\.venv\\Lib\\site-packages\\trulens_eval\\instruments.py:634\u001b[0m, in \u001b[0;36mInstrument.tracked_method_wrapper.<locals>.tru_wrapper\u001b[1;34m(*args, **kwargs)\u001b[0m\n\u001b[0;32m    626\u001b[0m \u001b[38;5;129m@functools\u001b[39m\u001b[38;5;241m.\u001b[39mwraps(func)\n\u001b[0;32m    627\u001b[0m \u001b[38;5;28;01mdef\u001b[39;00m \u001b[38;5;21mtru_wrapper\u001b[39m(\u001b[38;5;241m*\u001b[39margs, \u001b[38;5;241m*\u001b[39m\u001b[38;5;241m*\u001b[39mkwargs):\n\u001b[0;32m    628\u001b[0m     logger\u001b[38;5;241m.\u001b[39mdebug(\n\u001b[0;32m    629\u001b[0m         \u001b[38;5;124mf\u001b[39m\u001b[38;5;124m\"\u001b[39m\u001b[38;5;132;01m{\u001b[39;00mquery\u001b[38;5;132;01m}\u001b[39;00m\u001b[38;5;124m: calling instrumented sync method \u001b[39m\u001b[38;5;132;01m{\u001b[39;00mfunc\u001b[38;5;132;01m}\u001b[39;00m\u001b[38;5;124m of type \u001b[39m\u001b[38;5;132;01m{\u001b[39;00m\u001b[38;5;28mtype\u001b[39m(func)\u001b[38;5;132;01m}\u001b[39;00m\u001b[38;5;124m, \u001b[39m\u001b[38;5;124m\"\u001b[39m\n\u001b[0;32m    630\u001b[0m         \u001b[38;5;124mf\u001b[39m\u001b[38;5;124m\"\u001b[39m\u001b[38;5;124miscoroutinefunction=\u001b[39m\u001b[38;5;132;01m{\u001b[39;00mis_really_coroutinefunction(func)\u001b[38;5;132;01m}\u001b[39;00m\u001b[38;5;124m, \u001b[39m\u001b[38;5;124m\"\u001b[39m\n\u001b[0;32m    631\u001b[0m         \u001b[38;5;124mf\u001b[39m\u001b[38;5;124m\"\u001b[39m\u001b[38;5;124misasyncgeneratorfunction=\u001b[39m\u001b[38;5;132;01m{\u001b[39;00minspect\u001b[38;5;241m.\u001b[39misasyncgenfunction(func)\u001b[38;5;132;01m}\u001b[39;00m\u001b[38;5;124m\"\u001b[39m\n\u001b[0;32m    632\u001b[0m     )\n\u001b[1;32m--> 634\u001b[0m     \u001b[38;5;28;01mreturn\u001b[39;00m \u001b[43msync\u001b[49m\u001b[43m(\u001b[49m\u001b[43mtru_awrapper\u001b[49m\u001b[43m,\u001b[49m\u001b[43m \u001b[49m\u001b[38;5;241;43m*\u001b[39;49m\u001b[43margs\u001b[49m\u001b[43m,\u001b[49m\u001b[43m \u001b[49m\u001b[38;5;241;43m*\u001b[39;49m\u001b[38;5;241;43m*\u001b[39;49m\u001b[43mkwargs\u001b[49m\u001b[43m)\u001b[49m\n",
      "File \u001b[1;32mc:\\Users\\jiheu\\LLMTesting\\LLMTesting\\.venv\\Lib\\site-packages\\trulens_eval\\utils\\asynchro.py:139\u001b[0m, in \u001b[0;36msync\u001b[1;34m(func, *args, **kwargs)\u001b[0m\n\u001b[0;32m    137\u001b[0m \u001b[38;5;66;03m# Get the return or error, return the return or raise the error.\u001b[39;00m\n\u001b[0;32m    138\u001b[0m \u001b[38;5;28;01mif\u001b[39;00m thread\u001b[38;5;241m.\u001b[39merror \u001b[38;5;129;01mis\u001b[39;00m \u001b[38;5;129;01mnot\u001b[39;00m \u001b[38;5;28;01mNone\u001b[39;00m:\n\u001b[1;32m--> 139\u001b[0m     \u001b[38;5;28;01mraise\u001b[39;00m thread\u001b[38;5;241m.\u001b[39merror\n\u001b[0;32m    140\u001b[0m \u001b[38;5;28;01melse\u001b[39;00m:\n\u001b[0;32m    141\u001b[0m     \u001b[38;5;28;01mreturn\u001b[39;00m thread\u001b[38;5;241m.\u001b[39mret\n",
      "File \u001b[1;32mc:\\Users\\jiheu\\LLMTesting\\LLMTesting\\.venv\\Lib\\site-packages\\trulens_eval\\utils\\asynchro.py:127\u001b[0m, in \u001b[0;36msync.<locals>.run_in_new_loop\u001b[1;34m()\u001b[0m\n\u001b[0;32m    125\u001b[0m \u001b[38;5;28;01mtry\u001b[39;00m:\n\u001b[0;32m    126\u001b[0m     loop \u001b[38;5;241m=\u001b[39m asyncio\u001b[38;5;241m.\u001b[39mnew_event_loop()\n\u001b[1;32m--> 127\u001b[0m     th\u001b[38;5;241m.\u001b[39mret \u001b[38;5;241m=\u001b[39m \u001b[43mloop\u001b[49m\u001b[38;5;241;43m.\u001b[39;49m\u001b[43mrun_until_complete\u001b[49m\u001b[43m(\u001b[49m\u001b[43mawaitable\u001b[49m\u001b[43m)\u001b[49m\n\u001b[0;32m    128\u001b[0m \u001b[38;5;28;01mexcept\u001b[39;00m \u001b[38;5;167;01mException\u001b[39;00m \u001b[38;5;28;01mas\u001b[39;00m e:\n\u001b[0;32m    129\u001b[0m     th\u001b[38;5;241m.\u001b[39merror \u001b[38;5;241m=\u001b[39m e\n",
      "File \u001b[1;32m~\\AppData\\Local\\Programs\\Python\\Python311\\Lib\\asyncio\\base_events.py:650\u001b[0m, in \u001b[0;36mBaseEventLoop.run_until_complete\u001b[1;34m(self, future)\u001b[0m\n\u001b[0;32m    647\u001b[0m \u001b[38;5;28;01mif\u001b[39;00m \u001b[38;5;129;01mnot\u001b[39;00m future\u001b[38;5;241m.\u001b[39mdone():\n\u001b[0;32m    648\u001b[0m     \u001b[38;5;28;01mraise\u001b[39;00m \u001b[38;5;167;01mRuntimeError\u001b[39;00m(\u001b[38;5;124m'\u001b[39m\u001b[38;5;124mEvent loop stopped before Future completed.\u001b[39m\u001b[38;5;124m'\u001b[39m)\n\u001b[1;32m--> 650\u001b[0m \u001b[38;5;28;01mreturn\u001b[39;00m future\u001b[38;5;241m.\u001b[39mresult()\n",
      "File \u001b[1;32mc:\\Users\\jiheu\\LLMTesting\\LLMTesting\\.venv\\Lib\\site-packages\\trulens_eval\\instruments.py:478\u001b[0m, in \u001b[0;36mInstrument.tracked_method_wrapper.<locals>.tru_awrapper\u001b[1;34m(*args, **kwargs)\u001b[0m\n\u001b[0;32m    471\u001b[0m \u001b[38;5;28;01mif\u001b[39;00m \u001b[38;5;28mlen\u001b[39m(contexts) \u001b[38;5;241m==\u001b[39m \u001b[38;5;241m0\u001b[39m:\n\u001b[0;32m    472\u001b[0m     \u001b[38;5;66;03m# If no app wants this call recorded, run and return without\u001b[39;00m\n\u001b[0;32m    473\u001b[0m     \u001b[38;5;66;03m# instrumentation.\u001b[39;00m\n\u001b[0;32m    474\u001b[0m     logger\u001b[38;5;241m.\u001b[39mdebug(\n\u001b[0;32m    475\u001b[0m         \u001b[38;5;124mf\u001b[39m\u001b[38;5;124m\"\u001b[39m\u001b[38;5;132;01m{\u001b[39;00mquery\u001b[38;5;132;01m}\u001b[39;00m\u001b[38;5;124m: no record found or requested, not recording.\u001b[39m\u001b[38;5;124m\"\u001b[39m\n\u001b[0;32m    476\u001b[0m     )\n\u001b[1;32m--> 478\u001b[0m     \u001b[38;5;28;01mreturn\u001b[39;00m \u001b[38;5;28;01mawait\u001b[39;00m desync(func, \u001b[38;5;241m*\u001b[39margs, \u001b[38;5;241m*\u001b[39m\u001b[38;5;241m*\u001b[39mkwargs)\n\u001b[0;32m    480\u001b[0m \u001b[38;5;66;03m# If a wrapped method was called in this call stack, get the prior\u001b[39;00m\n\u001b[0;32m    481\u001b[0m \u001b[38;5;66;03m# calls from this variable. Otherwise create a new chain stack. As\u001b[39;00m\n\u001b[0;32m    482\u001b[0m \u001b[38;5;66;03m# another wrinke, the addresses of methods in the stack may vary\u001b[39;00m\n\u001b[0;32m    483\u001b[0m \u001b[38;5;66;03m# from app to app that are watching this method. Hence we index the\u001b[39;00m\n\u001b[0;32m    484\u001b[0m \u001b[38;5;66;03m# stacks by id of the call record list which is unique to each app.\u001b[39;00m\n\u001b[0;32m    485\u001b[0m ctx_stacks \u001b[38;5;241m=\u001b[39m get_first_local_in_call_stack(\n\u001b[0;32m    486\u001b[0m     key\u001b[38;5;241m=\u001b[39m\u001b[38;5;124m\"\u001b[39m\u001b[38;5;124mstacks\u001b[39m\u001b[38;5;124m\"\u001b[39m,\n\u001b[0;32m    487\u001b[0m     func\u001b[38;5;241m=\u001b[39mfind_instrumented,\n\u001b[0;32m    488\u001b[0m     offset\u001b[38;5;241m=\u001b[39m\u001b[38;5;241m1\u001b[39m,\n\u001b[0;32m    489\u001b[0m     skip\u001b[38;5;241m=\u001b[39mcaller_frame()\n\u001b[0;32m    490\u001b[0m )\n",
      "File \u001b[1;32mc:\\Users\\jiheu\\LLMTesting\\LLMTesting\\.venv\\Lib\\site-packages\\trulens_eval\\utils\\asynchro.py:82\u001b[0m, in \u001b[0;36mdesync\u001b[1;34m(func, *args, **kwargs)\u001b[0m\n\u001b[0;32m     79\u001b[0m     \u001b[38;5;28;01mreturn\u001b[39;00m \u001b[38;5;28;01mawait\u001b[39;00m func(\u001b[38;5;241m*\u001b[39margs, \u001b[38;5;241m*\u001b[39m\u001b[38;5;241m*\u001b[39mkwargs)\n\u001b[0;32m     81\u001b[0m \u001b[38;5;28;01melse\u001b[39;00m:\n\u001b[1;32m---> 82\u001b[0m     res \u001b[38;5;241m=\u001b[39m \u001b[38;5;28;01mawait\u001b[39;00m asyncio\u001b[38;5;241m.\u001b[39mto_thread(func, \u001b[38;5;241m*\u001b[39margs, \u001b[38;5;241m*\u001b[39m\u001b[38;5;241m*\u001b[39mkwargs)\n\u001b[0;32m     84\u001b[0m     \u001b[38;5;66;03m# HACK010: Might actually have been a coroutine after all.\u001b[39;00m\n\u001b[0;32m     85\u001b[0m     \u001b[38;5;28;01mif\u001b[39;00m inspect\u001b[38;5;241m.\u001b[39miscoroutine(res):\n",
      "File \u001b[1;32m~\\AppData\\Local\\Programs\\Python\\Python311\\Lib\\asyncio\\threads.py:25\u001b[0m, in \u001b[0;36mto_thread\u001b[1;34m(func, *args, **kwargs)\u001b[0m\n\u001b[0;32m     23\u001b[0m ctx \u001b[38;5;241m=\u001b[39m contextvars\u001b[38;5;241m.\u001b[39mcopy_context()\n\u001b[0;32m     24\u001b[0m func_call \u001b[38;5;241m=\u001b[39m functools\u001b[38;5;241m.\u001b[39mpartial(ctx\u001b[38;5;241m.\u001b[39mrun, func, \u001b[38;5;241m*\u001b[39margs, \u001b[38;5;241m*\u001b[39m\u001b[38;5;241m*\u001b[39mkwargs)\n\u001b[1;32m---> 25\u001b[0m \u001b[38;5;28;01mreturn\u001b[39;00m \u001b[38;5;28;01mawait\u001b[39;00m loop\u001b[38;5;241m.\u001b[39mrun_in_executor(\u001b[38;5;28;01mNone\u001b[39;00m, func_call)\n",
      "File \u001b[1;32m~\\AppData\\Local\\Programs\\Python\\Python311\\Lib\\concurrent\\futures\\thread.py:58\u001b[0m, in \u001b[0;36m_WorkItem.run\u001b[1;34m(self)\u001b[0m\n\u001b[0;32m     55\u001b[0m     \u001b[38;5;28;01mreturn\u001b[39;00m\n\u001b[0;32m     57\u001b[0m \u001b[38;5;28;01mtry\u001b[39;00m:\n\u001b[1;32m---> 58\u001b[0m     result \u001b[38;5;241m=\u001b[39m \u001b[38;5;28;43mself\u001b[39;49m\u001b[38;5;241;43m.\u001b[39;49m\u001b[43mfn\u001b[49m\u001b[43m(\u001b[49m\u001b[38;5;241;43m*\u001b[39;49m\u001b[38;5;28;43mself\u001b[39;49m\u001b[38;5;241;43m.\u001b[39;49m\u001b[43margs\u001b[49m\u001b[43m,\u001b[49m\u001b[43m \u001b[49m\u001b[38;5;241;43m*\u001b[39;49m\u001b[38;5;241;43m*\u001b[39;49m\u001b[38;5;28;43mself\u001b[39;49m\u001b[38;5;241;43m.\u001b[39;49m\u001b[43mkwargs\u001b[49m\u001b[43m)\u001b[49m\n\u001b[0;32m     59\u001b[0m \u001b[38;5;28;01mexcept\u001b[39;00m \u001b[38;5;167;01mBaseException\u001b[39;00m \u001b[38;5;28;01mas\u001b[39;00m exc:\n\u001b[0;32m     60\u001b[0m     \u001b[38;5;28mself\u001b[39m\u001b[38;5;241m.\u001b[39mfuture\u001b[38;5;241m.\u001b[39mset_exception(exc)\n",
      "File \u001b[1;32mc:\\Users\\jiheu\\LLMTesting\\LLMTesting\\.venv\\Lib\\site-packages\\trulens_eval\\utils\\python.py:248\u001b[0m, in \u001b[0;36m_future_target_wrapper\u001b[1;34m(stack, context, func, *args, **kwargs)\u001b[0m\n\u001b[0;32m    245\u001b[0m     logger\u001b[38;5;241m.\u001b[39mdebug(\u001b[38;5;124mf\u001b[39m\u001b[38;5;124m\"\u001b[39m\u001b[38;5;124mCopying context var \u001b[39m\u001b[38;5;132;01m{\u001b[39;00mvar\u001b[38;5;132;01m}\u001b[39;00m\u001b[38;5;124m to thread.\u001b[39m\u001b[38;5;124m\"\u001b[39m)\n\u001b[0;32m    246\u001b[0m     var\u001b[38;5;241m.\u001b[39mset(value)\n\u001b[1;32m--> 248\u001b[0m \u001b[38;5;28;01mreturn\u001b[39;00m \u001b[43mfunc\u001b[49m\u001b[43m(\u001b[49m\u001b[38;5;241;43m*\u001b[39;49m\u001b[43margs\u001b[49m\u001b[43m,\u001b[49m\u001b[43m \u001b[49m\u001b[38;5;241;43m*\u001b[39;49m\u001b[38;5;241;43m*\u001b[39;49m\u001b[43mkwargs\u001b[49m\u001b[43m)\u001b[49m\n",
      "File \u001b[1;32mc:\\Users\\jiheu\\LLMTesting\\LLMTesting\\.venv\\Lib\\site-packages\\langchain\\chains\\base.py:164\u001b[0m, in \u001b[0;36mChain.invoke\u001b[1;34m(self, input, config, **kwargs)\u001b[0m\n\u001b[0;32m    162\u001b[0m     \u001b[38;5;28;01mraise\u001b[39;00m e\n\u001b[0;32m    163\u001b[0m run_manager\u001b[38;5;241m.\u001b[39mon_chain_end(outputs)\n\u001b[1;32m--> 164\u001b[0m final_outputs: Dict[\u001b[38;5;28mstr\u001b[39m, Any] \u001b[38;5;241m=\u001b[39m \u001b[38;5;28;43mself\u001b[39;49m\u001b[38;5;241;43m.\u001b[39;49m\u001b[43mprep_outputs\u001b[49m\u001b[43m(\u001b[49m\n\u001b[0;32m    165\u001b[0m \u001b[43m    \u001b[49m\u001b[43minputs\u001b[49m\u001b[43m,\u001b[49m\u001b[43m \u001b[49m\u001b[43moutputs\u001b[49m\u001b[43m,\u001b[49m\u001b[43m \u001b[49m\u001b[43mreturn_only_outputs\u001b[49m\n\u001b[0;32m    166\u001b[0m \u001b[43m\u001b[49m\u001b[43m)\u001b[49m\n\u001b[0;32m    167\u001b[0m \u001b[38;5;28;01mif\u001b[39;00m include_run_info:\n\u001b[0;32m    168\u001b[0m     final_outputs[RUN_KEY] \u001b[38;5;241m=\u001b[39m RunInfo(run_id\u001b[38;5;241m=\u001b[39mrun_manager\u001b[38;5;241m.\u001b[39mrun_id)\n",
      "File \u001b[1;32mc:\\Users\\jiheu\\LLMTesting\\LLMTesting\\.venv\\Lib\\site-packages\\langchain\\chains\\base.py:440\u001b[0m, in \u001b[0;36mChain.prep_outputs\u001b[1;34m(self, inputs, outputs, return_only_outputs)\u001b[0m\n\u001b[0;32m    438\u001b[0m \u001b[38;5;28mself\u001b[39m\u001b[38;5;241m.\u001b[39m_validate_outputs(outputs)\n\u001b[0;32m    439\u001b[0m \u001b[38;5;28;01mif\u001b[39;00m \u001b[38;5;28mself\u001b[39m\u001b[38;5;241m.\u001b[39mmemory \u001b[38;5;129;01mis\u001b[39;00m \u001b[38;5;129;01mnot\u001b[39;00m \u001b[38;5;28;01mNone\u001b[39;00m:\n\u001b[1;32m--> 440\u001b[0m     \u001b[38;5;28;43mself\u001b[39;49m\u001b[38;5;241;43m.\u001b[39;49m\u001b[43mmemory\u001b[49m\u001b[38;5;241;43m.\u001b[39;49m\u001b[43msave_context\u001b[49m\u001b[43m(\u001b[49m\u001b[43minputs\u001b[49m\u001b[43m,\u001b[49m\u001b[43m \u001b[49m\u001b[43moutputs\u001b[49m\u001b[43m)\u001b[49m\n\u001b[0;32m    441\u001b[0m \u001b[38;5;28;01mif\u001b[39;00m return_only_outputs:\n\u001b[0;32m    442\u001b[0m     \u001b[38;5;28;01mreturn\u001b[39;00m outputs\n",
      "File \u001b[1;32mc:\\Users\\jiheu\\LLMTesting\\LLMTesting\\.venv\\Lib\\site-packages\\trulens_eval\\instruments.py:634\u001b[0m, in \u001b[0;36mInstrument.tracked_method_wrapper.<locals>.tru_wrapper\u001b[1;34m(*args, **kwargs)\u001b[0m\n\u001b[0;32m    626\u001b[0m \u001b[38;5;129m@functools\u001b[39m\u001b[38;5;241m.\u001b[39mwraps(func)\n\u001b[0;32m    627\u001b[0m \u001b[38;5;28;01mdef\u001b[39;00m \u001b[38;5;21mtru_wrapper\u001b[39m(\u001b[38;5;241m*\u001b[39margs, \u001b[38;5;241m*\u001b[39m\u001b[38;5;241m*\u001b[39mkwargs):\n\u001b[0;32m    628\u001b[0m     logger\u001b[38;5;241m.\u001b[39mdebug(\n\u001b[0;32m    629\u001b[0m         \u001b[38;5;124mf\u001b[39m\u001b[38;5;124m\"\u001b[39m\u001b[38;5;132;01m{\u001b[39;00mquery\u001b[38;5;132;01m}\u001b[39;00m\u001b[38;5;124m: calling instrumented sync method \u001b[39m\u001b[38;5;132;01m{\u001b[39;00mfunc\u001b[38;5;132;01m}\u001b[39;00m\u001b[38;5;124m of type \u001b[39m\u001b[38;5;132;01m{\u001b[39;00m\u001b[38;5;28mtype\u001b[39m(func)\u001b[38;5;132;01m}\u001b[39;00m\u001b[38;5;124m, \u001b[39m\u001b[38;5;124m\"\u001b[39m\n\u001b[0;32m    630\u001b[0m         \u001b[38;5;124mf\u001b[39m\u001b[38;5;124m\"\u001b[39m\u001b[38;5;124miscoroutinefunction=\u001b[39m\u001b[38;5;132;01m{\u001b[39;00mis_really_coroutinefunction(func)\u001b[38;5;132;01m}\u001b[39;00m\u001b[38;5;124m, \u001b[39m\u001b[38;5;124m\"\u001b[39m\n\u001b[0;32m    631\u001b[0m         \u001b[38;5;124mf\u001b[39m\u001b[38;5;124m\"\u001b[39m\u001b[38;5;124misasyncgeneratorfunction=\u001b[39m\u001b[38;5;132;01m{\u001b[39;00minspect\u001b[38;5;241m.\u001b[39misasyncgenfunction(func)\u001b[38;5;132;01m}\u001b[39;00m\u001b[38;5;124m\"\u001b[39m\n\u001b[0;32m    632\u001b[0m     )\n\u001b[1;32m--> 634\u001b[0m     \u001b[38;5;28;01mreturn\u001b[39;00m \u001b[43msync\u001b[49m\u001b[43m(\u001b[49m\u001b[43mtru_awrapper\u001b[49m\u001b[43m,\u001b[49m\u001b[43m \u001b[49m\u001b[38;5;241;43m*\u001b[39;49m\u001b[43margs\u001b[49m\u001b[43m,\u001b[49m\u001b[43m \u001b[49m\u001b[38;5;241;43m*\u001b[39;49m\u001b[38;5;241;43m*\u001b[39;49m\u001b[43mkwargs\u001b[49m\u001b[43m)\u001b[49m\n",
      "File \u001b[1;32mc:\\Users\\jiheu\\LLMTesting\\LLMTesting\\.venv\\Lib\\site-packages\\trulens_eval\\utils\\asynchro.py:114\u001b[0m, in \u001b[0;36msync\u001b[1;34m(func, *args, **kwargs)\u001b[0m\n\u001b[0;32m    111\u001b[0m \u001b[38;5;28;01mif\u001b[39;00m \u001b[38;5;129;01mnot\u001b[39;00m in_loop:\n\u001b[0;32m    112\u001b[0m     \u001b[38;5;66;03m# If not, we can create one here and run it until completion.\u001b[39;00m\n\u001b[0;32m    113\u001b[0m     loop \u001b[38;5;241m=\u001b[39m asyncio\u001b[38;5;241m.\u001b[39mnew_event_loop()\n\u001b[1;32m--> 114\u001b[0m     \u001b[38;5;28;01mreturn\u001b[39;00m \u001b[43mloop\u001b[49m\u001b[38;5;241;43m.\u001b[39;49m\u001b[43mrun_until_complete\u001b[49m\u001b[43m(\u001b[49m\u001b[43mawaitable\u001b[49m\u001b[43m)\u001b[49m\n\u001b[0;32m    116\u001b[0m \u001b[38;5;66;03m# Otherwise we cannot create a new one in this thread so we create a\u001b[39;00m\n\u001b[0;32m    117\u001b[0m \u001b[38;5;66;03m# new thread to run the awaitable until completion.\u001b[39;00m\n\u001b[0;32m    119\u001b[0m \u001b[38;5;28;01mdef\u001b[39;00m \u001b[38;5;21mrun_in_new_loop\u001b[39m():\n",
      "File \u001b[1;32m~\\AppData\\Local\\Programs\\Python\\Python311\\Lib\\asyncio\\base_events.py:650\u001b[0m, in \u001b[0;36mBaseEventLoop.run_until_complete\u001b[1;34m(self, future)\u001b[0m\n\u001b[0;32m    647\u001b[0m \u001b[38;5;28;01mif\u001b[39;00m \u001b[38;5;129;01mnot\u001b[39;00m future\u001b[38;5;241m.\u001b[39mdone():\n\u001b[0;32m    648\u001b[0m     \u001b[38;5;28;01mraise\u001b[39;00m \u001b[38;5;167;01mRuntimeError\u001b[39;00m(\u001b[38;5;124m'\u001b[39m\u001b[38;5;124mEvent loop stopped before Future completed.\u001b[39m\u001b[38;5;124m'\u001b[39m)\n\u001b[1;32m--> 650\u001b[0m \u001b[38;5;28;01mreturn\u001b[39;00m future\u001b[38;5;241m.\u001b[39mresult()\n",
      "File \u001b[1;32mc:\\Users\\jiheu\\LLMTesting\\LLMTesting\\.venv\\Lib\\site-packages\\trulens_eval\\instruments.py:478\u001b[0m, in \u001b[0;36mInstrument.tracked_method_wrapper.<locals>.tru_awrapper\u001b[1;34m(*args, **kwargs)\u001b[0m\n\u001b[0;32m    471\u001b[0m \u001b[38;5;28;01mif\u001b[39;00m \u001b[38;5;28mlen\u001b[39m(contexts) \u001b[38;5;241m==\u001b[39m \u001b[38;5;241m0\u001b[39m:\n\u001b[0;32m    472\u001b[0m     \u001b[38;5;66;03m# If no app wants this call recorded, run and return without\u001b[39;00m\n\u001b[0;32m    473\u001b[0m     \u001b[38;5;66;03m# instrumentation.\u001b[39;00m\n\u001b[0;32m    474\u001b[0m     logger\u001b[38;5;241m.\u001b[39mdebug(\n\u001b[0;32m    475\u001b[0m         \u001b[38;5;124mf\u001b[39m\u001b[38;5;124m\"\u001b[39m\u001b[38;5;132;01m{\u001b[39;00mquery\u001b[38;5;132;01m}\u001b[39;00m\u001b[38;5;124m: no record found or requested, not recording.\u001b[39m\u001b[38;5;124m\"\u001b[39m\n\u001b[0;32m    476\u001b[0m     )\n\u001b[1;32m--> 478\u001b[0m     \u001b[38;5;28;01mreturn\u001b[39;00m \u001b[38;5;28;01mawait\u001b[39;00m desync(func, \u001b[38;5;241m*\u001b[39margs, \u001b[38;5;241m*\u001b[39m\u001b[38;5;241m*\u001b[39mkwargs)\n\u001b[0;32m    480\u001b[0m \u001b[38;5;66;03m# If a wrapped method was called in this call stack, get the prior\u001b[39;00m\n\u001b[0;32m    481\u001b[0m \u001b[38;5;66;03m# calls from this variable. Otherwise create a new chain stack. As\u001b[39;00m\n\u001b[0;32m    482\u001b[0m \u001b[38;5;66;03m# another wrinke, the addresses of methods in the stack may vary\u001b[39;00m\n\u001b[0;32m    483\u001b[0m \u001b[38;5;66;03m# from app to app that are watching this method. Hence we index the\u001b[39;00m\n\u001b[0;32m    484\u001b[0m \u001b[38;5;66;03m# stacks by id of the call record list which is unique to each app.\u001b[39;00m\n\u001b[0;32m    485\u001b[0m ctx_stacks \u001b[38;5;241m=\u001b[39m get_first_local_in_call_stack(\n\u001b[0;32m    486\u001b[0m     key\u001b[38;5;241m=\u001b[39m\u001b[38;5;124m\"\u001b[39m\u001b[38;5;124mstacks\u001b[39m\u001b[38;5;124m\"\u001b[39m,\n\u001b[0;32m    487\u001b[0m     func\u001b[38;5;241m=\u001b[39mfind_instrumented,\n\u001b[0;32m    488\u001b[0m     offset\u001b[38;5;241m=\u001b[39m\u001b[38;5;241m1\u001b[39m,\n\u001b[0;32m    489\u001b[0m     skip\u001b[38;5;241m=\u001b[39mcaller_frame()\n\u001b[0;32m    490\u001b[0m )\n",
      "File \u001b[1;32mc:\\Users\\jiheu\\LLMTesting\\LLMTesting\\.venv\\Lib\\site-packages\\trulens_eval\\utils\\asynchro.py:82\u001b[0m, in \u001b[0;36mdesync\u001b[1;34m(func, *args, **kwargs)\u001b[0m\n\u001b[0;32m     79\u001b[0m     \u001b[38;5;28;01mreturn\u001b[39;00m \u001b[38;5;28;01mawait\u001b[39;00m func(\u001b[38;5;241m*\u001b[39margs, \u001b[38;5;241m*\u001b[39m\u001b[38;5;241m*\u001b[39mkwargs)\n\u001b[0;32m     81\u001b[0m \u001b[38;5;28;01melse\u001b[39;00m:\n\u001b[1;32m---> 82\u001b[0m     res \u001b[38;5;241m=\u001b[39m \u001b[38;5;28;01mawait\u001b[39;00m asyncio\u001b[38;5;241m.\u001b[39mto_thread(func, \u001b[38;5;241m*\u001b[39margs, \u001b[38;5;241m*\u001b[39m\u001b[38;5;241m*\u001b[39mkwargs)\n\u001b[0;32m     84\u001b[0m     \u001b[38;5;66;03m# HACK010: Might actually have been a coroutine after all.\u001b[39;00m\n\u001b[0;32m     85\u001b[0m     \u001b[38;5;28;01mif\u001b[39;00m inspect\u001b[38;5;241m.\u001b[39miscoroutine(res):\n",
      "File \u001b[1;32m~\\AppData\\Local\\Programs\\Python\\Python311\\Lib\\asyncio\\threads.py:25\u001b[0m, in \u001b[0;36mto_thread\u001b[1;34m(func, *args, **kwargs)\u001b[0m\n\u001b[0;32m     23\u001b[0m ctx \u001b[38;5;241m=\u001b[39m contextvars\u001b[38;5;241m.\u001b[39mcopy_context()\n\u001b[0;32m     24\u001b[0m func_call \u001b[38;5;241m=\u001b[39m functools\u001b[38;5;241m.\u001b[39mpartial(ctx\u001b[38;5;241m.\u001b[39mrun, func, \u001b[38;5;241m*\u001b[39margs, \u001b[38;5;241m*\u001b[39m\u001b[38;5;241m*\u001b[39mkwargs)\n\u001b[1;32m---> 25\u001b[0m \u001b[38;5;28;01mreturn\u001b[39;00m \u001b[38;5;28;01mawait\u001b[39;00m loop\u001b[38;5;241m.\u001b[39mrun_in_executor(\u001b[38;5;28;01mNone\u001b[39;00m, func_call)\n",
      "File \u001b[1;32m~\\AppData\\Local\\Programs\\Python\\Python311\\Lib\\concurrent\\futures\\thread.py:58\u001b[0m, in \u001b[0;36m_WorkItem.run\u001b[1;34m(self)\u001b[0m\n\u001b[0;32m     55\u001b[0m     \u001b[38;5;28;01mreturn\u001b[39;00m\n\u001b[0;32m     57\u001b[0m \u001b[38;5;28;01mtry\u001b[39;00m:\n\u001b[1;32m---> 58\u001b[0m     result \u001b[38;5;241m=\u001b[39m \u001b[38;5;28;43mself\u001b[39;49m\u001b[38;5;241;43m.\u001b[39;49m\u001b[43mfn\u001b[49m\u001b[43m(\u001b[49m\u001b[38;5;241;43m*\u001b[39;49m\u001b[38;5;28;43mself\u001b[39;49m\u001b[38;5;241;43m.\u001b[39;49m\u001b[43margs\u001b[49m\u001b[43m,\u001b[49m\u001b[43m \u001b[49m\u001b[38;5;241;43m*\u001b[39;49m\u001b[38;5;241;43m*\u001b[39;49m\u001b[38;5;28;43mself\u001b[39;49m\u001b[38;5;241;43m.\u001b[39;49m\u001b[43mkwargs\u001b[49m\u001b[43m)\u001b[49m\n\u001b[0;32m     59\u001b[0m \u001b[38;5;28;01mexcept\u001b[39;00m \u001b[38;5;167;01mBaseException\u001b[39;00m \u001b[38;5;28;01mas\u001b[39;00m exc:\n\u001b[0;32m     60\u001b[0m     \u001b[38;5;28mself\u001b[39m\u001b[38;5;241m.\u001b[39mfuture\u001b[38;5;241m.\u001b[39mset_exception(exc)\n",
      "File \u001b[1;32mc:\\Users\\jiheu\\LLMTesting\\LLMTesting\\.venv\\Lib\\site-packages\\trulens_eval\\utils\\python.py:248\u001b[0m, in \u001b[0;36m_future_target_wrapper\u001b[1;34m(stack, context, func, *args, **kwargs)\u001b[0m\n\u001b[0;32m    245\u001b[0m     logger\u001b[38;5;241m.\u001b[39mdebug(\u001b[38;5;124mf\u001b[39m\u001b[38;5;124m\"\u001b[39m\u001b[38;5;124mCopying context var \u001b[39m\u001b[38;5;132;01m{\u001b[39;00mvar\u001b[38;5;132;01m}\u001b[39;00m\u001b[38;5;124m to thread.\u001b[39m\u001b[38;5;124m\"\u001b[39m)\n\u001b[0;32m    246\u001b[0m     var\u001b[38;5;241m.\u001b[39mset(value)\n\u001b[1;32m--> 248\u001b[0m \u001b[38;5;28;01mreturn\u001b[39;00m \u001b[43mfunc\u001b[49m\u001b[43m(\u001b[49m\u001b[38;5;241;43m*\u001b[39;49m\u001b[43margs\u001b[49m\u001b[43m,\u001b[49m\u001b[43m \u001b[49m\u001b[38;5;241;43m*\u001b[39;49m\u001b[38;5;241;43m*\u001b[39;49m\u001b[43mkwargs\u001b[49m\u001b[43m)\u001b[49m\n",
      "File \u001b[1;32mc:\\Users\\jiheu\\LLMTesting\\LLMTesting\\.venv\\Lib\\site-packages\\langchain\\memory\\summary_buffer.py:59\u001b[0m, in \u001b[0;36mConversationSummaryBufferMemory.save_context\u001b[1;34m(self, inputs, outputs)\u001b[0m\n\u001b[0;32m     57\u001b[0m \u001b[38;5;28;01mdef\u001b[39;00m \u001b[38;5;21msave_context\u001b[39m(\u001b[38;5;28mself\u001b[39m, inputs: Dict[\u001b[38;5;28mstr\u001b[39m, Any], outputs: Dict[\u001b[38;5;28mstr\u001b[39m, \u001b[38;5;28mstr\u001b[39m]) \u001b[38;5;241m-\u001b[39m\u001b[38;5;241m>\u001b[39m \u001b[38;5;28;01mNone\u001b[39;00m:\n\u001b[0;32m     58\u001b[0m \u001b[38;5;250m    \u001b[39m\u001b[38;5;124;03m\"\"\"Save context from this conversation to buffer.\"\"\"\u001b[39;00m\n\u001b[1;32m---> 59\u001b[0m     \u001b[38;5;28;43msuper\u001b[39;49m\u001b[43m(\u001b[49m\u001b[43m)\u001b[49m\u001b[38;5;241;43m.\u001b[39;49m\u001b[43msave_context\u001b[49m\u001b[43m(\u001b[49m\u001b[43minputs\u001b[49m\u001b[43m,\u001b[49m\u001b[43m \u001b[49m\u001b[43moutputs\u001b[49m\u001b[43m)\u001b[49m\n\u001b[0;32m     60\u001b[0m     \u001b[38;5;28mself\u001b[39m\u001b[38;5;241m.\u001b[39mprune()\n",
      "File \u001b[1;32mc:\\Users\\jiheu\\LLMTesting\\LLMTesting\\.venv\\Lib\\site-packages\\trulens_eval\\instruments.py:634\u001b[0m, in \u001b[0;36mInstrument.tracked_method_wrapper.<locals>.tru_wrapper\u001b[1;34m(*args, **kwargs)\u001b[0m\n\u001b[0;32m    626\u001b[0m \u001b[38;5;129m@functools\u001b[39m\u001b[38;5;241m.\u001b[39mwraps(func)\n\u001b[0;32m    627\u001b[0m \u001b[38;5;28;01mdef\u001b[39;00m \u001b[38;5;21mtru_wrapper\u001b[39m(\u001b[38;5;241m*\u001b[39margs, \u001b[38;5;241m*\u001b[39m\u001b[38;5;241m*\u001b[39mkwargs):\n\u001b[0;32m    628\u001b[0m     logger\u001b[38;5;241m.\u001b[39mdebug(\n\u001b[0;32m    629\u001b[0m         \u001b[38;5;124mf\u001b[39m\u001b[38;5;124m\"\u001b[39m\u001b[38;5;132;01m{\u001b[39;00mquery\u001b[38;5;132;01m}\u001b[39;00m\u001b[38;5;124m: calling instrumented sync method \u001b[39m\u001b[38;5;132;01m{\u001b[39;00mfunc\u001b[38;5;132;01m}\u001b[39;00m\u001b[38;5;124m of type \u001b[39m\u001b[38;5;132;01m{\u001b[39;00m\u001b[38;5;28mtype\u001b[39m(func)\u001b[38;5;132;01m}\u001b[39;00m\u001b[38;5;124m, \u001b[39m\u001b[38;5;124m\"\u001b[39m\n\u001b[0;32m    630\u001b[0m         \u001b[38;5;124mf\u001b[39m\u001b[38;5;124m\"\u001b[39m\u001b[38;5;124miscoroutinefunction=\u001b[39m\u001b[38;5;132;01m{\u001b[39;00mis_really_coroutinefunction(func)\u001b[38;5;132;01m}\u001b[39;00m\u001b[38;5;124m, \u001b[39m\u001b[38;5;124m\"\u001b[39m\n\u001b[0;32m    631\u001b[0m         \u001b[38;5;124mf\u001b[39m\u001b[38;5;124m\"\u001b[39m\u001b[38;5;124misasyncgeneratorfunction=\u001b[39m\u001b[38;5;132;01m{\u001b[39;00minspect\u001b[38;5;241m.\u001b[39misasyncgenfunction(func)\u001b[38;5;132;01m}\u001b[39;00m\u001b[38;5;124m\"\u001b[39m\n\u001b[0;32m    632\u001b[0m     )\n\u001b[1;32m--> 634\u001b[0m     \u001b[38;5;28;01mreturn\u001b[39;00m \u001b[43msync\u001b[49m\u001b[43m(\u001b[49m\u001b[43mtru_awrapper\u001b[49m\u001b[43m,\u001b[49m\u001b[43m \u001b[49m\u001b[38;5;241;43m*\u001b[39;49m\u001b[43margs\u001b[49m\u001b[43m,\u001b[49m\u001b[43m \u001b[49m\u001b[38;5;241;43m*\u001b[39;49m\u001b[38;5;241;43m*\u001b[39;49m\u001b[43mkwargs\u001b[49m\u001b[43m)\u001b[49m\n",
      "File \u001b[1;32mc:\\Users\\jiheu\\LLMTesting\\LLMTesting\\.venv\\Lib\\site-packages\\trulens_eval\\utils\\asynchro.py:114\u001b[0m, in \u001b[0;36msync\u001b[1;34m(func, *args, **kwargs)\u001b[0m\n\u001b[0;32m    111\u001b[0m \u001b[38;5;28;01mif\u001b[39;00m \u001b[38;5;129;01mnot\u001b[39;00m in_loop:\n\u001b[0;32m    112\u001b[0m     \u001b[38;5;66;03m# If not, we can create one here and run it until completion.\u001b[39;00m\n\u001b[0;32m    113\u001b[0m     loop \u001b[38;5;241m=\u001b[39m asyncio\u001b[38;5;241m.\u001b[39mnew_event_loop()\n\u001b[1;32m--> 114\u001b[0m     \u001b[38;5;28;01mreturn\u001b[39;00m \u001b[43mloop\u001b[49m\u001b[38;5;241;43m.\u001b[39;49m\u001b[43mrun_until_complete\u001b[49m\u001b[43m(\u001b[49m\u001b[43mawaitable\u001b[49m\u001b[43m)\u001b[49m\n\u001b[0;32m    116\u001b[0m \u001b[38;5;66;03m# Otherwise we cannot create a new one in this thread so we create a\u001b[39;00m\n\u001b[0;32m    117\u001b[0m \u001b[38;5;66;03m# new thread to run the awaitable until completion.\u001b[39;00m\n\u001b[0;32m    119\u001b[0m \u001b[38;5;28;01mdef\u001b[39;00m \u001b[38;5;21mrun_in_new_loop\u001b[39m():\n",
      "File \u001b[1;32m~\\AppData\\Local\\Programs\\Python\\Python311\\Lib\\asyncio\\base_events.py:650\u001b[0m, in \u001b[0;36mBaseEventLoop.run_until_complete\u001b[1;34m(self, future)\u001b[0m\n\u001b[0;32m    647\u001b[0m \u001b[38;5;28;01mif\u001b[39;00m \u001b[38;5;129;01mnot\u001b[39;00m future\u001b[38;5;241m.\u001b[39mdone():\n\u001b[0;32m    648\u001b[0m     \u001b[38;5;28;01mraise\u001b[39;00m \u001b[38;5;167;01mRuntimeError\u001b[39;00m(\u001b[38;5;124m'\u001b[39m\u001b[38;5;124mEvent loop stopped before Future completed.\u001b[39m\u001b[38;5;124m'\u001b[39m)\n\u001b[1;32m--> 650\u001b[0m \u001b[38;5;28;01mreturn\u001b[39;00m future\u001b[38;5;241m.\u001b[39mresult()\n",
      "File \u001b[1;32mc:\\Users\\jiheu\\LLMTesting\\LLMTesting\\.venv\\Lib\\site-packages\\trulens_eval\\instruments.py:478\u001b[0m, in \u001b[0;36mInstrument.tracked_method_wrapper.<locals>.tru_awrapper\u001b[1;34m(*args, **kwargs)\u001b[0m\n\u001b[0;32m    471\u001b[0m \u001b[38;5;28;01mif\u001b[39;00m \u001b[38;5;28mlen\u001b[39m(contexts) \u001b[38;5;241m==\u001b[39m \u001b[38;5;241m0\u001b[39m:\n\u001b[0;32m    472\u001b[0m     \u001b[38;5;66;03m# If no app wants this call recorded, run and return without\u001b[39;00m\n\u001b[0;32m    473\u001b[0m     \u001b[38;5;66;03m# instrumentation.\u001b[39;00m\n\u001b[0;32m    474\u001b[0m     logger\u001b[38;5;241m.\u001b[39mdebug(\n\u001b[0;32m    475\u001b[0m         \u001b[38;5;124mf\u001b[39m\u001b[38;5;124m\"\u001b[39m\u001b[38;5;132;01m{\u001b[39;00mquery\u001b[38;5;132;01m}\u001b[39;00m\u001b[38;5;124m: no record found or requested, not recording.\u001b[39m\u001b[38;5;124m\"\u001b[39m\n\u001b[0;32m    476\u001b[0m     )\n\u001b[1;32m--> 478\u001b[0m     \u001b[38;5;28;01mreturn\u001b[39;00m \u001b[38;5;28;01mawait\u001b[39;00m desync(func, \u001b[38;5;241m*\u001b[39margs, \u001b[38;5;241m*\u001b[39m\u001b[38;5;241m*\u001b[39mkwargs)\n\u001b[0;32m    480\u001b[0m \u001b[38;5;66;03m# If a wrapped method was called in this call stack, get the prior\u001b[39;00m\n\u001b[0;32m    481\u001b[0m \u001b[38;5;66;03m# calls from this variable. Otherwise create a new chain stack. As\u001b[39;00m\n\u001b[0;32m    482\u001b[0m \u001b[38;5;66;03m# another wrinke, the addresses of methods in the stack may vary\u001b[39;00m\n\u001b[0;32m    483\u001b[0m \u001b[38;5;66;03m# from app to app that are watching this method. Hence we index the\u001b[39;00m\n\u001b[0;32m    484\u001b[0m \u001b[38;5;66;03m# stacks by id of the call record list which is unique to each app.\u001b[39;00m\n\u001b[0;32m    485\u001b[0m ctx_stacks \u001b[38;5;241m=\u001b[39m get_first_local_in_call_stack(\n\u001b[0;32m    486\u001b[0m     key\u001b[38;5;241m=\u001b[39m\u001b[38;5;124m\"\u001b[39m\u001b[38;5;124mstacks\u001b[39m\u001b[38;5;124m\"\u001b[39m,\n\u001b[0;32m    487\u001b[0m     func\u001b[38;5;241m=\u001b[39mfind_instrumented,\n\u001b[0;32m    488\u001b[0m     offset\u001b[38;5;241m=\u001b[39m\u001b[38;5;241m1\u001b[39m,\n\u001b[0;32m    489\u001b[0m     skip\u001b[38;5;241m=\u001b[39mcaller_frame()\n\u001b[0;32m    490\u001b[0m )\n",
      "File \u001b[1;32mc:\\Users\\jiheu\\LLMTesting\\LLMTesting\\.venv\\Lib\\site-packages\\trulens_eval\\utils\\asynchro.py:82\u001b[0m, in \u001b[0;36mdesync\u001b[1;34m(func, *args, **kwargs)\u001b[0m\n\u001b[0;32m     79\u001b[0m     \u001b[38;5;28;01mreturn\u001b[39;00m \u001b[38;5;28;01mawait\u001b[39;00m func(\u001b[38;5;241m*\u001b[39margs, \u001b[38;5;241m*\u001b[39m\u001b[38;5;241m*\u001b[39mkwargs)\n\u001b[0;32m     81\u001b[0m \u001b[38;5;28;01melse\u001b[39;00m:\n\u001b[1;32m---> 82\u001b[0m     res \u001b[38;5;241m=\u001b[39m \u001b[38;5;28;01mawait\u001b[39;00m asyncio\u001b[38;5;241m.\u001b[39mto_thread(func, \u001b[38;5;241m*\u001b[39margs, \u001b[38;5;241m*\u001b[39m\u001b[38;5;241m*\u001b[39mkwargs)\n\u001b[0;32m     84\u001b[0m     \u001b[38;5;66;03m# HACK010: Might actually have been a coroutine after all.\u001b[39;00m\n\u001b[0;32m     85\u001b[0m     \u001b[38;5;28;01mif\u001b[39;00m inspect\u001b[38;5;241m.\u001b[39miscoroutine(res):\n",
      "File \u001b[1;32m~\\AppData\\Local\\Programs\\Python\\Python311\\Lib\\asyncio\\threads.py:25\u001b[0m, in \u001b[0;36mto_thread\u001b[1;34m(func, *args, **kwargs)\u001b[0m\n\u001b[0;32m     23\u001b[0m ctx \u001b[38;5;241m=\u001b[39m contextvars\u001b[38;5;241m.\u001b[39mcopy_context()\n\u001b[0;32m     24\u001b[0m func_call \u001b[38;5;241m=\u001b[39m functools\u001b[38;5;241m.\u001b[39mpartial(ctx\u001b[38;5;241m.\u001b[39mrun, func, \u001b[38;5;241m*\u001b[39margs, \u001b[38;5;241m*\u001b[39m\u001b[38;5;241m*\u001b[39mkwargs)\n\u001b[1;32m---> 25\u001b[0m \u001b[38;5;28;01mreturn\u001b[39;00m \u001b[38;5;28;01mawait\u001b[39;00m loop\u001b[38;5;241m.\u001b[39mrun_in_executor(\u001b[38;5;28;01mNone\u001b[39;00m, func_call)\n",
      "File \u001b[1;32m~\\AppData\\Local\\Programs\\Python\\Python311\\Lib\\concurrent\\futures\\thread.py:58\u001b[0m, in \u001b[0;36m_WorkItem.run\u001b[1;34m(self)\u001b[0m\n\u001b[0;32m     55\u001b[0m     \u001b[38;5;28;01mreturn\u001b[39;00m\n\u001b[0;32m     57\u001b[0m \u001b[38;5;28;01mtry\u001b[39;00m:\n\u001b[1;32m---> 58\u001b[0m     result \u001b[38;5;241m=\u001b[39m \u001b[38;5;28;43mself\u001b[39;49m\u001b[38;5;241;43m.\u001b[39;49m\u001b[43mfn\u001b[49m\u001b[43m(\u001b[49m\u001b[38;5;241;43m*\u001b[39;49m\u001b[38;5;28;43mself\u001b[39;49m\u001b[38;5;241;43m.\u001b[39;49m\u001b[43margs\u001b[49m\u001b[43m,\u001b[49m\u001b[43m \u001b[49m\u001b[38;5;241;43m*\u001b[39;49m\u001b[38;5;241;43m*\u001b[39;49m\u001b[38;5;28;43mself\u001b[39;49m\u001b[38;5;241;43m.\u001b[39;49m\u001b[43mkwargs\u001b[49m\u001b[43m)\u001b[49m\n\u001b[0;32m     59\u001b[0m \u001b[38;5;28;01mexcept\u001b[39;00m \u001b[38;5;167;01mBaseException\u001b[39;00m \u001b[38;5;28;01mas\u001b[39;00m exc:\n\u001b[0;32m     60\u001b[0m     \u001b[38;5;28mself\u001b[39m\u001b[38;5;241m.\u001b[39mfuture\u001b[38;5;241m.\u001b[39mset_exception(exc)\n",
      "File \u001b[1;32mc:\\Users\\jiheu\\LLMTesting\\LLMTesting\\.venv\\Lib\\site-packages\\trulens_eval\\utils\\python.py:248\u001b[0m, in \u001b[0;36m_future_target_wrapper\u001b[1;34m(stack, context, func, *args, **kwargs)\u001b[0m\n\u001b[0;32m    245\u001b[0m     logger\u001b[38;5;241m.\u001b[39mdebug(\u001b[38;5;124mf\u001b[39m\u001b[38;5;124m\"\u001b[39m\u001b[38;5;124mCopying context var \u001b[39m\u001b[38;5;132;01m{\u001b[39;00mvar\u001b[38;5;132;01m}\u001b[39;00m\u001b[38;5;124m to thread.\u001b[39m\u001b[38;5;124m\"\u001b[39m)\n\u001b[0;32m    246\u001b[0m     var\u001b[38;5;241m.\u001b[39mset(value)\n\u001b[1;32m--> 248\u001b[0m \u001b[38;5;28;01mreturn\u001b[39;00m \u001b[43mfunc\u001b[49m\u001b[43m(\u001b[49m\u001b[38;5;241;43m*\u001b[39;49m\u001b[43margs\u001b[49m\u001b[43m,\u001b[49m\u001b[43m \u001b[49m\u001b[38;5;241;43m*\u001b[39;49m\u001b[38;5;241;43m*\u001b[39;49m\u001b[43mkwargs\u001b[49m\u001b[43m)\u001b[49m\n",
      "File \u001b[1;32mc:\\Users\\jiheu\\LLMTesting\\LLMTesting\\.venv\\Lib\\site-packages\\langchain\\memory\\chat_memory.py:37\u001b[0m, in \u001b[0;36mBaseChatMemory.save_context\u001b[1;34m(self, inputs, outputs)\u001b[0m\n\u001b[0;32m     35\u001b[0m \u001b[38;5;28;01mdef\u001b[39;00m \u001b[38;5;21msave_context\u001b[39m(\u001b[38;5;28mself\u001b[39m, inputs: Dict[\u001b[38;5;28mstr\u001b[39m, Any], outputs: Dict[\u001b[38;5;28mstr\u001b[39m, \u001b[38;5;28mstr\u001b[39m]) \u001b[38;5;241m-\u001b[39m\u001b[38;5;241m>\u001b[39m \u001b[38;5;28;01mNone\u001b[39;00m:\n\u001b[0;32m     36\u001b[0m \u001b[38;5;250m    \u001b[39m\u001b[38;5;124;03m\"\"\"Save context from this conversation to buffer.\"\"\"\u001b[39;00m\n\u001b[1;32m---> 37\u001b[0m     input_str, output_str \u001b[38;5;241m=\u001b[39m \u001b[38;5;28;43mself\u001b[39;49m\u001b[38;5;241;43m.\u001b[39;49m\u001b[43m_get_input_output\u001b[49m\u001b[43m(\u001b[49m\u001b[43minputs\u001b[49m\u001b[43m,\u001b[49m\u001b[43m \u001b[49m\u001b[43moutputs\u001b[49m\u001b[43m)\u001b[49m\n\u001b[0;32m     38\u001b[0m     \u001b[38;5;28mself\u001b[39m\u001b[38;5;241m.\u001b[39mchat_memory\u001b[38;5;241m.\u001b[39madd_user_message(input_str)\n\u001b[0;32m     39\u001b[0m     \u001b[38;5;28mself\u001b[39m\u001b[38;5;241m.\u001b[39mchat_memory\u001b[38;5;241m.\u001b[39madd_ai_message(output_str)\n",
      "File \u001b[1;32mc:\\Users\\jiheu\\LLMTesting\\LLMTesting\\.venv\\Lib\\site-packages\\langchain\\memory\\chat_memory.py:29\u001b[0m, in \u001b[0;36mBaseChatMemory._get_input_output\u001b[1;34m(self, inputs, outputs)\u001b[0m\n\u001b[0;32m     27\u001b[0m \u001b[38;5;28;01mif\u001b[39;00m \u001b[38;5;28mself\u001b[39m\u001b[38;5;241m.\u001b[39moutput_key \u001b[38;5;129;01mis\u001b[39;00m \u001b[38;5;28;01mNone\u001b[39;00m:\n\u001b[0;32m     28\u001b[0m     \u001b[38;5;28;01mif\u001b[39;00m \u001b[38;5;28mlen\u001b[39m(outputs) \u001b[38;5;241m!=\u001b[39m \u001b[38;5;241m1\u001b[39m:\n\u001b[1;32m---> 29\u001b[0m         \u001b[38;5;28;01mraise\u001b[39;00m \u001b[38;5;167;01mValueError\u001b[39;00m(\u001b[38;5;124mf\u001b[39m\u001b[38;5;124m\"\u001b[39m\u001b[38;5;124mOne output key expected, got \u001b[39m\u001b[38;5;132;01m{\u001b[39;00moutputs\u001b[38;5;241m.\u001b[39mkeys()\u001b[38;5;132;01m}\u001b[39;00m\u001b[38;5;124m\"\u001b[39m)\n\u001b[0;32m     30\u001b[0m     output_key \u001b[38;5;241m=\u001b[39m \u001b[38;5;28mlist\u001b[39m(outputs\u001b[38;5;241m.\u001b[39mkeys())[\u001b[38;5;241m0\u001b[39m]\n\u001b[0;32m     31\u001b[0m \u001b[38;5;28;01melse\u001b[39;00m:\n",
      "\u001b[1;31mValueError\u001b[0m: One output key expected, got dict_keys(['output', 'intermediate_steps'])"
     ]
    }
   ],
   "source": [
    "query = \"What is chocolate?\"\n",
    "print(agent_executor.invoke(query))\n",
    "conversational_memory.clear()"
   ]
  },
  {
   "cell_type": "code",
   "execution_count": 12,
   "metadata": {},
   "outputs": [
    {
     "name": "stdout",
     "output_type": "stream",
     "text": [
      "🦑 Tru initialized with db url sqlite:///default.sqlite .\n",
      "🛑 Secret keys may be written to the database. See the `database_redact_keys` option of `Tru` to prevent this.\n"
     ]
    },
    {
     "ename": "ValueError",
     "evalue": "Cannot find any `BaseRetriever` in app.",
     "output_type": "error",
     "traceback": [
      "\u001b[1;31m---------------------------------------------------------------------------\u001b[0m",
      "\u001b[1;31mValueError\u001b[0m                                Traceback (most recent call last)",
      "Cell \u001b[1;32mIn[12], line 13\u001b[0m\n\u001b[0;32m     11\u001b[0m \u001b[38;5;66;03m# select context to be used in feedback. the location of context is app specific.\u001b[39;00m\n\u001b[0;32m     12\u001b[0m \u001b[38;5;28;01mfrom\u001b[39;00m \u001b[38;5;21;01mtrulens_eval\u001b[39;00m\u001b[38;5;21;01m.\u001b[39;00m\u001b[38;5;21;01mapp\u001b[39;00m \u001b[38;5;28;01mimport\u001b[39;00m App\n\u001b[1;32m---> 13\u001b[0m context \u001b[38;5;241m=\u001b[39m \u001b[43mApp\u001b[49m\u001b[38;5;241;43m.\u001b[39;49m\u001b[43mselect_context\u001b[49m\u001b[43m(\u001b[49m\u001b[43magent_executor\u001b[49m\u001b[43m)\u001b[49m\n\u001b[0;32m     15\u001b[0m \u001b[38;5;28;01mfrom\u001b[39;00m \u001b[38;5;21;01mtrulens_eval\u001b[39;00m\u001b[38;5;21;01m.\u001b[39;00m\u001b[38;5;21;01mfeedback\u001b[39;00m \u001b[38;5;28;01mimport\u001b[39;00m Groundedness\n\u001b[0;32m     16\u001b[0m grounded \u001b[38;5;241m=\u001b[39m Groundedness(groundedness_provider\u001b[38;5;241m=\u001b[39mOpenAI(model_engine\u001b[38;5;241m=\u001b[39m\u001b[38;5;124m\"\u001b[39m\u001b[38;5;124mgpt-3.5-turbo\u001b[39m\u001b[38;5;124m\"\u001b[39m))\n",
      "File \u001b[1;32mc:\\Users\\jiheu\\LLMTesting\\LLMTesting\\.venv\\Lib\\site-packages\\trulens_eval\\app.py:481\u001b[0m, in \u001b[0;36mApp.select_context\u001b[1;34m(cls, app)\u001b[0m\n\u001b[0;32m    479\u001b[0m \u001b[38;5;28;01mif\u001b[39;00m \u001b[38;5;28mtype\u001b[39m(app)\u001b[38;5;241m.\u001b[39m\u001b[38;5;18m__module__\u001b[39m\u001b[38;5;241m.\u001b[39mstartswith(\u001b[38;5;124m\"\u001b[39m\u001b[38;5;124mlangchain\u001b[39m\u001b[38;5;124m\"\u001b[39m):\n\u001b[0;32m    480\u001b[0m     \u001b[38;5;28;01mfrom\u001b[39;00m \u001b[38;5;21;01mtrulens_eval\u001b[39;00m\u001b[38;5;21;01m.\u001b[39;00m\u001b[38;5;21;01mtru_chain\u001b[39;00m \u001b[38;5;28;01mimport\u001b[39;00m TruChain\n\u001b[1;32m--> 481\u001b[0m     \u001b[38;5;28;01mreturn\u001b[39;00m \u001b[43mTruChain\u001b[49m\u001b[38;5;241;43m.\u001b[39;49m\u001b[43mselect_context\u001b[49m\u001b[43m(\u001b[49m\u001b[43mapp\u001b[49m\u001b[43m)\u001b[49m\n\u001b[0;32m    482\u001b[0m \u001b[38;5;28;01melif\u001b[39;00m \u001b[38;5;28mtype\u001b[39m(app)\u001b[38;5;241m.\u001b[39m\u001b[38;5;18m__module__\u001b[39m\u001b[38;5;241m.\u001b[39mstartswith(\u001b[38;5;124m\"\u001b[39m\u001b[38;5;124mllama_index\u001b[39m\u001b[38;5;124m\"\u001b[39m):\n\u001b[0;32m    483\u001b[0m     \u001b[38;5;28;01mfrom\u001b[39;00m \u001b[38;5;21;01mtrulens_eval\u001b[39;00m\u001b[38;5;21;01m.\u001b[39;00m\u001b[38;5;21;01mtru_llama\u001b[39;00m \u001b[38;5;28;01mimport\u001b[39;00m TruLlama\n",
      "File \u001b[1;32mc:\\Users\\jiheu\\LLMTesting\\LLMTesting\\.venv\\Lib\\site-packages\\trulens_eval\\tru_chain.py:245\u001b[0m, in \u001b[0;36mTruChain.select_context\u001b[1;34m(cls, app)\u001b[0m\n\u001b[0;32m    242\u001b[0m         \u001b[38;5;28;01mpass\u001b[39;00m\n\u001b[0;32m    244\u001b[0m \u001b[38;5;28;01mif\u001b[39;00m \u001b[38;5;28mlen\u001b[39m(retrievers) \u001b[38;5;241m==\u001b[39m \u001b[38;5;241m0\u001b[39m:\n\u001b[1;32m--> 245\u001b[0m     \u001b[38;5;28;01mraise\u001b[39;00m \u001b[38;5;167;01mValueError\u001b[39;00m(\u001b[38;5;124m\"\u001b[39m\u001b[38;5;124mCannot find any `BaseRetriever` in app.\u001b[39m\u001b[38;5;124m\"\u001b[39m)\n\u001b[0;32m    247\u001b[0m \u001b[38;5;28;01mif\u001b[39;00m \u001b[38;5;28mlen\u001b[39m(retrievers) \u001b[38;5;241m>\u001b[39m \u001b[38;5;241m1\u001b[39m:\n\u001b[0;32m    248\u001b[0m     \u001b[38;5;28;01mraise\u001b[39;00m \u001b[38;5;167;01mValueError\u001b[39;00m(\n\u001b[0;32m    249\u001b[0m         \u001b[38;5;124m\"\u001b[39m\u001b[38;5;124mFound more than one `BaseRetriever` in app:\u001b[39m\u001b[38;5;130;01m\\n\u001b[39;00m\u001b[38;5;130;01m\\t\u001b[39;00m\u001b[38;5;124m\"\u001b[39m \u001b[38;5;241m+\u001b[39m \\\n\u001b[0;32m    250\u001b[0m         (\u001b[38;5;124m\"\u001b[39m\u001b[38;5;130;01m\\n\u001b[39;00m\u001b[38;5;130;01m\\t\u001b[39;00m\u001b[38;5;124m\"\u001b[39m\u001b[38;5;241m.\u001b[39mjoin(\u001b[38;5;28mmap\u001b[39m(\n\u001b[0;32m    251\u001b[0m             \u001b[38;5;28;01mlambda\u001b[39;00m lr: \u001b[38;5;124mf\u001b[39m\u001b[38;5;124m\"\u001b[39m\u001b[38;5;132;01m{\u001b[39;00m\u001b[38;5;28mtype\u001b[39m(lr[\u001b[38;5;241m1\u001b[39m])\u001b[38;5;132;01m}\u001b[39;00m\u001b[38;5;124m at \u001b[39m\u001b[38;5;132;01m{\u001b[39;00mlr[\u001b[38;5;241m0\u001b[39m]\u001b[38;5;132;01m}\u001b[39;00m\u001b[38;5;124m\"\u001b[39m,\n\u001b[0;32m    252\u001b[0m             retrievers)))\n\u001b[0;32m    253\u001b[0m     )\n",
      "\u001b[1;31mValueError\u001b[0m: Cannot find any `BaseRetriever` in app."
     ]
    }
   ],
   "source": [
    "# This doesn't work\n",
    "from trulens_eval import TruChain, Feedback, Tru\n",
    "from trulens_eval.schema import FeedbackResult\n",
    "tru = Tru()\n",
    "tru.reset_database()\n",
    "from trulens_eval.feedback.provider import OpenAI\n",
    "import numpy as np\n",
    "\n",
    "# Initialize provider class\n",
    "openai = OpenAI(model_engine=\"gpt-3.5-turbo\")\n",
    "\n",
    "# select context to be used in feedback. the location of context is app specific.\n",
    "from trulens_eval.app import App\n",
    "context = App.select_context(agent_executor)\n",
    "\n",
    "from trulens_eval.feedback import Groundedness\n",
    "grounded = Groundedness(groundedness_provider=OpenAI(model_engine=\"gpt-3.5-turbo\"))\n",
    "# Define a groundedness feedback function\n",
    "f_groundedness = (\n",
    "    Feedback(grounded.groundedness_measure_with_cot_reasons)\n",
    "    .on(context.collect()) # collect context chunks into a list\n",
    "    .on_output()\n",
    "    .aggregate(grounded.grounded_statements_aggregator)\n",
    ")\n",
    "\n",
    "# Question/answer relevance between overall question and answer.\n",
    "f_qa_relevance = Feedback(openai.relevance).on_input_output()\n",
    "# Question/statement relevance between question and each context chunk.\n",
    "f_context_relevance = (\n",
    "    Feedback(openai.qs_relevance)\n",
    "    .on_input()\n",
    "    .on(context)\n",
    "    .aggregate(np.mean)\n",
    "    )"
   ]
  },
  {
   "cell_type": "code",
   "execution_count": null,
   "metadata": {},
   "outputs": [
    {
     "name": "stdout",
     "output_type": "stream",
     "text": [
      "✅ In Groundedness, input source will be set to __record__.app.retrieve.rets.collect() .\n",
      "✅ In Groundedness, input statement will be set to __record__.main_output or `Select.RecordOutput` .\n",
      "✅ In Answer Relevance, input prompt will be set to __record__.app.retrieve.args.query .\n",
      "✅ In Answer Relevance, input response will be set to __record__.main_output or `Select.RecordOutput` .\n",
      "✅ In Context Relevance, input question will be set to __record__.app.retrieve.args.query .\n",
      "✅ In Context Relevance, input statement will be set to __record__.app.retrieve.rets.collect() .\n"
     ]
    }
   ],
   "source": [
    "from trulens_eval import Feedback, Select\n",
    "from trulens_eval.feedback import Groundedness\n",
    "from trulens_eval.feedback.provider.openai import OpenAI as fOpenAI\n",
    "\n",
    "import numpy as np\n",
    "\n",
    "# Initialize provider class\n",
    "fopenai = fOpenAI(model_engine=\"gpt-3.5-turbo\")\n",
    "\n",
    "grounded = Groundedness(groundedness_provider=fopenai)\n",
    "\n",
    "# Define a groundedness feedback function\n",
    "f_groundedness = (\n",
    "    Feedback(grounded.groundedness_measure_with_cot_reasons, name = \"Groundedness\")\n",
    "    .on(Select.RecordCalls.retrieve.rets.collect())\n",
    "    .on_output()\n",
    "    .aggregate(grounded.grounded_statements_aggregator)\n",
    ")\n",
    "\n",
    "# Question/answer relevance between overall question and answer.\n",
    "f_qa_relevance = (\n",
    "    Feedback(fopenai.relevance_with_cot_reasons, name = \"Answer Relevance\")\n",
    "    .on(Select.RecordCalls.retrieve.args.query)\n",
    "    .on_output()\n",
    ")\n",
    "\n",
    "# Question/statement relevance between question and each context chunk.\n",
    "f_context_relevance = (\n",
    "    Feedback(fopenai.qs_relevance_with_cot_reasons, name = \"Context Relevance\")\n",
    "    .on(Select.RecordCalls.retrieve.args.query)\n",
    "    .on(Select.RecordCalls.retrieve.rets.collect())\n",
    "    .aggregate(np.mean)\n",
    ")"
   ]
  },
  {
   "cell_type": "code",
   "execution_count": 15,
   "metadata": {},
   "outputs": [],
   "source": [
    "# imports required for tracking and evaluation\n",
    "from trulens_eval import Feedback, OpenAI, Tru, TruLlama, Select, OpenAI as fOpenAI\n",
    "from trulens_eval.feedback import GroundTruthAgreement, Groundedness\n",
    "\n",
    "tru = Tru()"
   ]
  },
  {
   "cell_type": "code",
   "execution_count": 20,
   "metadata": {},
   "outputs": [],
   "source": [
    "import openai\n",
    "client = openai.OpenAI()\n",
    "\n",
    "chat_completion = client.chat.completions.create\n",
    "\n",
    "# from trulens_eval.tru_custom_app import TruCustomApp, instrument\n",
    "\n",
    "# class LLMStandaloneApp():\n",
    "#     @instrument\n",
    "#     def __call__(self, prompt):\n",
    "#         return chat_completion(\n",
    "#             model=\"gpt-3.5-turbo\",\n",
    "#             messages=[\n",
    "#                     {\"role\": \"system\", \"content\": gordon_ramsay_prompt},\n",
    "#                     {\"role\": \"user\", \"content\": prompt}\n",
    "#                 ]\n",
    "#         ).choices[0].message.content\n",
    "\n",
    "# llm_standalone = LLMStandaloneApp()"
   ]
  },
  {
   "cell_type": "code",
   "execution_count": 21,
   "metadata": {},
   "outputs": [],
   "source": [
    "class OpenAI_custom(OpenAI):\n",
    "    def query_translation_score(self, question1: str, question2: str) -> float:\n",
    "        return float(chat_completion(\n",
    "            model=\"gpt-3.5-turbo\",\n",
    "            messages=[\n",
    "                    {\"role\": \"system\", \"content\": \"Your job is to rate how similar two quesitons are on a scale of 1 to 10. Respond with the number only.\"},\n",
    "                    {\"role\": \"user\", \"content\": f\"QUESTION 1: {question1}; QUESTION 2: {question2}\"}\n",
    "                ]\n",
    "        ).choices[0].message.content) / 10\n",
    "\n",
    "    def ratings_usage(self, last_context: str) -> float:\n",
    "        return float(chat_completion(\n",
    "            model=\"gpt-3.5-turbo\",\n",
    "            messages=[\n",
    "                {\"role\": \"system\", \"content\": \"Your job is to respond with a '1' if the following statement mentions ratings or reviews, and a '0' if not.\"},\n",
    "                {\"role\": \"user\", \"content\": f\"STATEMENT: {last_context}\"}\n",
    "            ]\n",
    "        ).choices[0].message.content)"
   ]
  },
  {
   "cell_type": "code",
   "execution_count": 33,
   "metadata": {},
   "outputs": [
    {
     "name": "stdout",
     "output_type": "stream",
     "text": [
      "✅ In Query Translation, input question1 will be set to __record__.main_input or `Select.RecordInput` .\n",
      "✅ In Query Translation, input question2 will be set to __record__.app.agent.plan.args.kwargs.input .\n",
      "✅ In Context Relevance, input question will be set to __record__.main_input or `Select.RecordInput` .\n",
      "✅ In Context Relevance, input statement will be set to __record__.app.tools[0]._run.rets .\n",
      "✅ In Groundedness, input source will be set to __record__.app.tools[0]._run.rets .\n",
      "✅ In Groundedness, input statement will be set to __record__.main_output or `Select.RecordOutput` .\n",
      "✅ In Answer Relevance, input prompt will be set to __record__.main_input or `Select.RecordInput` .\n",
      "✅ In Answer Relevance, input response will be set to __record__.main_output or `Select.RecordOutput` .\n"
     ]
    }
   ],
   "source": [
    "custom = OpenAI_custom()\n",
    "# Input to tool based on trimmed user input.\n",
    "f_query_translation = Feedback(\n",
    "    custom.query_translation_score,\n",
    "    name=\"Query Translation\") \\\n",
    ".on_input() \\\n",
    ".on(Select.RecordCalls.agent.plan.args.kwargs.input)\n",
    "\n",
    "# f_ratings_usage = Feedback(\n",
    "#     custom.ratings_usage,\n",
    "#     name=\"Ratings Usage\") \\\n",
    "# .on(Select.Record.app.query[0].rets.response)\n",
    "\n",
    "# Result of this prompt: Given the context information and not prior knowledge, answer the query.\n",
    "# Query: address of Gumbo Social\n",
    "# Answer: \"\n",
    "fopenai = fOpenAI()\n",
    "# Question/statement (context) relevance between question and last context chunk (i.e. summary)\n",
    "f_context_relevance = Feedback(\n",
    "    fopenai.qs_relevance,\n",
    "    name=\"Context Relevance\") \\\n",
    ".on_input() \\\n",
    ".on(Select.RecordCalls.tools[0]._run.rets)\n",
    "\n",
    "# Groundedness\n",
    "grounded = Groundedness(groundedness_provider=fopenai)\n",
    "\n",
    "f_groundedness = Feedback(\n",
    "    grounded.groundedness_measure,\n",
    "    name=\"Groundedness\") \\\n",
    ".on(Select.RecordCalls.tools[0]._run.rets) \\\n",
    ".on_output().aggregate(grounded.grounded_statements_aggregator)\n",
    "\n",
    "# Question/answer relevance between overall question and answer.\n",
    "f_qa_relevance = Feedback(\n",
    "    fopenai.relevance,\n",
    "    name=\"Answer Relevance\"\n",
    ").on_input_output()"
   ]
  },
  {
   "cell_type": "code",
   "execution_count": 34,
   "metadata": {},
   "outputs": [],
   "source": [
    "tru_recorder = TruChain(agent_executor,\n",
    "    app_id='Chain1_ChatApplication',\n",
    "    feedbacks=[f_query_translation, f_qa_relevance, f_context_relevance, f_groundedness])"
   ]
  },
  {
   "cell_type": "code",
   "execution_count": 44,
   "metadata": {},
   "outputs": [
    {
     "name": "stderr",
     "output_type": "stream",
     "text": [
      "A new object of type <class 'langchain.agents.agent.AgentExecutor'> at 0x18081358910 is calling an instrumented method <function Chain.invoke at 0x00000180E72E1300>. The path of this call may be incorrect.\n",
      "Guessing path of new object is app based on other object (0x180ff748640) using this function.\n",
      "A new object of type <class 'langchain.agents.agent.AgentExecutor'> at 0x18081358910 is calling an instrumented method <function AgentExecutor._call at 0x00000180E7CA1A80>. The path of this call may be incorrect.\n",
      "Guessing path of new object is app based on other object (0x180ff748640) using this function.\n",
      "A new object of type <class 'langchain.agents.conversational_chat.base.ConversationalChatAgent'> at 0x1808118b650 is calling an instrumented method <function Agent.plan at 0x00000180E7C6BF60>. The path of this call may be incorrect.\n",
      "Guessing path of new object is app.agent based on other object (0x180fface250) using this function.\n"
     ]
    },
    {
     "name": "stdout",
     "output_type": "stream",
     "text": [
      "\n",
      "\n",
      "\u001b[1m> Entering new AgentExecutor chain...\u001b[0m\n"
     ]
    },
    {
     "name": "stderr",
     "output_type": "stream",
     "text": [
      "A new object of type <class 'langchain_core.tools.Tool'> at 0x1808135a7b0 is calling an instrumented method <function Tool._run at 0x00000180D0E9AFC0>. The path of this call may be incorrect.\n",
      "Guessing path of new object is app.tools[0] based on other object (0x180ffb0abc0) using this function.\n"
     ]
    },
    {
     "name": "stdout",
     "output_type": "stream",
     "text": [
      "\u001b[32;1m\u001b[1;3m{\n",
      "    \"action\": \"search_docs\",\n",
      "    \"action_input\": \"What is Chocolate?\"\n",
      "}\u001b[0m"
     ]
    },
    {
     "name": "stderr",
     "output_type": "stream",
     "text": [
      "Number of requested results 4 is greater than number of elements in index 3, updating n_results = 3\n"
     ]
    },
    {
     "name": "stdout",
     "output_type": "stream",
     "text": [
      "\n",
      "Observation: \u001b[36;1m\u001b[1;3mChocolate is a sweet, usually brown, food product made from cocoa beans, which are the seeds of the cacao tree. The process of making chocolate involves harvesting and fermenting cacao beans, drying them, and then roasting and grinding them to produce cocoa mass. This cocoa mass is then further processed to extract cocoa solids and cocoa butter.\n",
      "\n",
      "Chocolates are often used in confectionery and desserts, and they can be found in a wide range of products, including bars, truffles, candies, and baked goods. Chocolate is enjoyed worldwide and is often associated with indulgence and celebration. Additionally, cocoa has been linked to various potential health benefits, such as antioxidants and mood enhancement, when consumed in moderation.\n",
      "\n",
      "Chocolate comes in various forms, such as dark chocolate, milk chocolate, and white chocolate. Dark chocolate contains a higher percentage of cocoa solids and less sugar, giving it a more intense and bitter flavor. Milk chocolate, on the other hand, includes milk solids in addition to cocoa, creating a sweeter and creamier taste. White chocolate consists mainly of cocoa butter, sugar, and milk solids but lacks cocoa solids.\u001b[0m\n",
      "Thought:\u001b[32;1m\u001b[1;3m{\n",
      "    \"action\": \"search_docs\",\n",
      "    \"action_input\": \"What is Chocolate?\"\n",
      "}\u001b[0m"
     ]
    },
    {
     "name": "stderr",
     "output_type": "stream",
     "text": [
      "Number of requested results 4 is greater than number of elements in index 3, updating n_results = 3\n"
     ]
    },
    {
     "name": "stdout",
     "output_type": "stream",
     "text": [
      "\n",
      "Observation: \u001b[36;1m\u001b[1;3mChocolate is a sweet, usually brown, food product made from cocoa beans, which are the seeds of the cacao tree. The process of making chocolate involves harvesting and fermenting cacao beans, drying them, and then roasting and grinding them to produce cocoa mass. This cocoa mass is then further processed to extract cocoa solids and cocoa butter.\n",
      "\n",
      "Chocolates are often used in confectionery and desserts, and they can be found in a wide range of products, including bars, truffles, candies, and baked goods. Chocolate is enjoyed worldwide and is often associated with indulgence and celebration. Additionally, cocoa has been linked to various potential health benefits, such as antioxidants and mood enhancement, when consumed in moderation.\n",
      "\n",
      "Chocolate comes in various forms, such as dark chocolate, milk chocolate, and white chocolate. Dark chocolate contains a higher percentage of cocoa solids and less sugar, giving it a more intense and bitter flavor. Milk chocolate, on the other hand, includes milk solids in addition to cocoa, creating a sweeter and creamier taste. White chocolate consists mainly of cocoa butter, sugar, and milk solids but lacks cocoa solids.\u001b[0m\n",
      "Thought:"
     ]
    },
    {
     "name": "stderr",
     "output_type": "stream",
     "text": [
      "A new object of type <class 'langchain.memory.summary_buffer.ConversationSummaryBufferMemory'> at 0x18081367550 is calling an instrumented method <function ConversationSummaryBufferMemory.save_context at 0x00000180E78D2FC0>. The path of this call may be incorrect.\n",
      "Guessing path of new object is app.memory based on other object (0x180fef85b90) using this function.\n",
      "A new object of type <class 'langchain.memory.summary_buffer.ConversationSummaryBufferMemory'> at 0x18081367550 is calling an instrumented method <function BaseChatMemory.save_context at 0x00000180E785D760>. The path of this call may be incorrect.\n",
      "Guessing path of new object is app.memory based on other object (0x180fef85b90) using this function.\n",
      "A new object of type <class 'langchain.chains.llm.LLMChain'> at 0x18082686c10 is calling an instrumented method <function Chain.__call__ at 0x00000180E72E1BC0>. The path of this call may be incorrect.\n",
      "Guessing path of new object is app based on other object (0x180ff748640) using this function.\n"
     ]
    },
    {
     "name": "stdout",
     "output_type": "stream",
     "text": [
      "\u001b[32;1m\u001b[1;3m{\n",
      "    \"action\": \"Final Answer\",\n",
      "    \"action_input\": \"Chocolate is a sweet, usually brown, food product made from cocoa beans. It is used in confectionery and desserts and comes in various forms such as dark chocolate, milk chocolate, and white chocolate. Dark chocolate has a higher cocoa content and less sugar, while milk chocolate includes milk solids for a sweeter taste. White chocolate mainly consists of cocoa butter, sugar, and milk solids.\"\n",
      "}\u001b[0m\n",
      "\n",
      "\u001b[1m> Finished chain.\u001b[0m\n"
     ]
    },
    {
     "name": "stderr",
     "output_type": "stream",
     "text": [
      "A new object of type <class 'langchain.chains.llm.LLMChain'> at 0x18082686c10 is calling an instrumented method <function Chain.invoke at 0x00000180E72E1300>. The path of this call may be incorrect.\n",
      "Guessing path of new object is app based on other object (0x180ff748640) using this function.\n",
      "A new object of type <class 'langchain.chains.llm.LLMChain'> at 0x18082686c10 is calling an instrumented method <function LLMChain._call at 0x00000180E73267A0>. The path of this call may be incorrect.\n",
      "Guessing path of new object is app.agent.llm_chain based on other object (0x180ffacbc00) using this function.\n",
      "Unsure what the main input string is for the call to invoke with args [{'What is Chocolate?'}].\n"
     ]
    },
    {
     "name": "stdout",
     "output_type": "stream",
     "text": [
      "{'input': {'What is Chocolate?'}, 'chat_history': [], 'output': 'Chocolate is a sweet, usually brown, food product made from cocoa beans. It is used in confectionery and desserts and comes in various forms such as dark chocolate, milk chocolate, and white chocolate. Dark chocolate has a higher cocoa content and less sugar, while milk chocolate includes milk solids for a sweeter taste. White chocolate mainly consists of cocoa butter, sugar, and milk solids.'}\n"
     ]
    }
   ],
   "source": [
    "with tru_recorder as recording:\n",
    "    try:\n",
    "        llm_response = agent_executor.invoke({\"What is Chocolate?\"})\n",
    "        print(llm_response)\n",
    "    except:\n",
    "        print(recording)\n",
    "\n",
    "conversational_memory.clear()"
   ]
  },
  {
   "cell_type": "code",
   "execution_count": 40,
   "metadata": {},
   "outputs": [
    {
     "data": {
      "text/plain": [
       "{'input': {'What is Chocolate?'},\n",
       " 'chat_history': [SystemMessage(content='The human asks what chocolate is. The AI explains that chocolate is a sweet, usually brown, food product made from cocoa beans. It comes in various forms, including dark chocolate, milk chocolate, and white chocolate. Dark chocolate has a higher cocoa content, while milk chocolate is sweeter due to the addition of milk solids. White chocolate mainly consists of cocoa butter, sugar, and milk solids but does not contain cocoa solids.')],\n",
       " 'output': 'Chocolate is a sweet, usually brown, food product made from cocoa beans. It comes in various forms, including dark chocolate, milk chocolate, and white chocolate. Dark chocolate has a higher cocoa content, while milk chocolate is sweeter due to the addition of milk solids. White chocolate mainly consists of cocoa butter, sugar, and milk solids but does not contain cocoa solids.'}"
      ]
     },
     "metadata": {},
     "output_type": "display_data"
    }
   ],
   "source": [
    "display(llm_response)\n",
    "# The record of the app invocation can be retrieved from the `recording`:"
   ]
  },
  {
   "cell_type": "code",
   "execution_count": 21,
   "metadata": {},
   "outputs": [
    {
     "data": {
      "text/plain": [
       "Record(record_id='record_hash_c948c70c94c7025ad326b0a9c3baa3e9', app_id='Chain1_ChatApplication', cost=Cost(n_requests=4, n_successful_requests=4, n_classes=0, n_tokens=1535, n_stream_chunks=0, n_prompt_tokens=1444, n_completion_tokens=91, cost=0.0023419999999999995), perf=Perf(start_time=datetime.datetime(2024, 1, 31, 16, 40, 1, 105521), end_time=datetime.datetime(2024, 1, 31, 16, 40, 9, 897672)), ts=datetime.datetime(2024, 1, 31, 16, 40, 9, 910204), tags='-', meta=None, main_input=['What is Chocolate?'], main_output='Chocolate is a sweet, usually brown, food product made from cocoa beans. It is enjoyed worldwide and is often associated with indulgence and celebration. Chocolate comes in various forms, such as dark chocolate, milk chocolate, and white chocolate.', main_error=None, calls=[RecordAppCall(stack=[RecordAppCallMethod(path=Lens().app, method=Method(obj=Obj(cls=langchain.agents.agent.AgentExecutor, id=1939389171584, init_bindings=None), name='invoke')), RecordAppCallMethod(path=Lens().app, method=Method(obj=Obj(cls=langchain.agents.agent.AgentExecutor, id=1939389171584, init_bindings=None), name='_call')), RecordAppCallMethod(path=Lens().app.agent, method=Method(obj=Obj(cls=langchain.agents.conversational_chat.base.ConversationalChatAgent, id=1939389368208, init_bindings=None), name='plan')), RecordAppCallMethod(path=Lens().app.agent.llm_chain, method=Method(obj=Obj(cls=langchain.chains.base.Chain, id=1939389171584, init_bindings=None), name='__call__')), RecordAppCallMethod(path=Lens().app.agent.llm_chain, method=Method(obj=Obj(cls=langchain.chains.base.Chain, id=1939389171584, init_bindings=None), name='invoke')), RecordAppCallMethod(path=Lens().app.agent.llm_chain, method=Method(obj=Obj(cls=langchain.chains.llm.LLMChain, id=1939389171904, init_bindings=None), name='_call'))], args={'inputs': {'input': ['What is Chocolate?'], 'chat_history': [], 'agent_scratchpad': [], 'stop': ['\\nObservation:', '\\n\\tObservation:']}, 'run_manager': {'__tru_non_serialized_object': {'cls': {'name': 'CallbackManagerForChainRun', 'module': {'package_name': 'langchain_core.callbacks', 'module_name': 'langchain_core.callbacks.manager'}, 'bases': None}, 'id': 1939737552400, 'init_bindings': None}}}, rets={'text': '{\\n    \"action\": \"retrieve_documents_tool\",\\n    \"action_input\": \"What is Chocolate?\"\\n}'}, error=None, perf=Perf(start_time=datetime.datetime(2024, 1, 31, 16, 40, 2, 360852), end_time=datetime.datetime(2024, 1, 31, 16, 40, 3, 958887)), pid=42052, tid=44592), RecordAppCall(stack=[RecordAppCallMethod(path=Lens().app, method=Method(obj=Obj(cls=langchain.agents.agent.AgentExecutor, id=1939389171584, init_bindings=None), name='invoke')), RecordAppCallMethod(path=Lens().app, method=Method(obj=Obj(cls=langchain.agents.agent.AgentExecutor, id=1939389171584, init_bindings=None), name='_call')), RecordAppCallMethod(path=Lens().app.agent, method=Method(obj=Obj(cls=langchain.agents.conversational_chat.base.ConversationalChatAgent, id=1939389368208, init_bindings=None), name='plan')), RecordAppCallMethod(path=Lens().app.agent.llm_chain, method=Method(obj=Obj(cls=langchain.chains.base.Chain, id=1939389171584, init_bindings=None), name='__call__')), RecordAppCallMethod(path=Lens().app.agent.llm_chain, method=Method(obj=Obj(cls=langchain.chains.base.Chain, id=1939389171584, init_bindings=None), name='invoke'))], args={'input': {'input': ['What is Chocolate?'], 'chat_history': [], 'agent_scratchpad': [], 'stop': ['\\nObservation:', '\\n\\tObservation:']}, 'config': {'callbacks': {'__tru_non_serialized_object': {'cls': {'name': 'CallbackManager', 'module': {'package_name': 'langchain_core.callbacks', 'module_name': 'langchain_core.callbacks.manager'}, 'bases': None}, 'id': 1939706457552, 'init_bindings': None}}}, 'kwargs': {'return_only_outputs': False, 'include_run_info': False}}, rets={'input': ['What is Chocolate?'], 'chat_history': [], 'agent_scratchpad': [], 'stop': ['\\nObservation:', '\\n\\tObservation:'], 'text': '{\\n    \"action\": \"retrieve_documents_tool\",\\n    \"action_input\": \"What is Chocolate?\"\\n}'}, error=None, perf=Perf(start_time=datetime.datetime(2024, 1, 31, 16, 40, 2, 3380), end_time=datetime.datetime(2024, 1, 31, 16, 40, 3, 958887)), pid=42052, tid=44592), RecordAppCall(stack=[RecordAppCallMethod(path=Lens().app, method=Method(obj=Obj(cls=langchain.agents.agent.AgentExecutor, id=1939389171584, init_bindings=None), name='invoke')), RecordAppCallMethod(path=Lens().app, method=Method(obj=Obj(cls=langchain.agents.agent.AgentExecutor, id=1939389171584, init_bindings=None), name='_call')), RecordAppCallMethod(path=Lens().app.agent, method=Method(obj=Obj(cls=langchain.agents.conversational_chat.base.ConversationalChatAgent, id=1939389368208, init_bindings=None), name='plan')), RecordAppCallMethod(path=Lens().app.agent.llm_chain, method=Method(obj=Obj(cls=langchain.chains.base.Chain, id=1939389171584, init_bindings=None), name='__call__'))], args={'inputs': {'input': ['What is Chocolate?'], 'chat_history': [], 'agent_scratchpad': [], 'stop': ['\\nObservation:', '\\n\\tObservation:']}, 'callbacks': {'__tru_non_serialized_object': {'cls': {'name': 'CallbackManager', 'module': {'package_name': 'langchain_core.callbacks', 'module_name': 'langchain_core.callbacks.manager'}, 'bases': None}, 'id': 1939706457552, 'init_bindings': None}}}, rets={'input': ['What is Chocolate?'], 'chat_history': [], 'agent_scratchpad': [], 'stop': ['\\nObservation:', '\\n\\tObservation:'], 'text': '{\\n    \"action\": \"retrieve_documents_tool\",\\n    \"action_input\": \"What is Chocolate?\"\\n}'}, error=None, perf=Perf(start_time=datetime.datetime(2024, 1, 31, 16, 40, 1, 767165), end_time=datetime.datetime(2024, 1, 31, 16, 40, 3, 958887)), pid=42052, tid=44592), RecordAppCall(stack=[RecordAppCallMethod(path=Lens().app, method=Method(obj=Obj(cls=langchain.agents.agent.AgentExecutor, id=1939389171584, init_bindings=None), name='invoke')), RecordAppCallMethod(path=Lens().app, method=Method(obj=Obj(cls=langchain.agents.agent.AgentExecutor, id=1939389171584, init_bindings=None), name='_call')), RecordAppCallMethod(path=Lens().app.agent, method=Method(obj=Obj(cls=langchain.agents.conversational_chat.base.ConversationalChatAgent, id=1939389368208, init_bindings=None), name='plan'))], args={'intermediate_steps': [], 'callbacks': {'__tru_non_serialized_object': {'cls': {'name': 'CallbackManager', 'module': {'package_name': 'langchain_core.callbacks', 'module_name': 'langchain_core.callbacks.manager'}, 'bases': None}, 'id': 1939706457552, 'init_bindings': None}}, 'kwargs': {'input': ['What is Chocolate?'], 'chat_history': []}}, rets={'tool': 'retrieve_documents_tool', 'tool_input': 'What is Chocolate?', 'log': '{\\n    \"action\": \"retrieve_documents_tool\",\\n    \"action_input\": \"What is Chocolate?\"\\n}', 'type': 'AgentAction'}, error=None, perf=Perf(start_time=datetime.datetime(2024, 1, 31, 16, 40, 1, 507093), end_time=datetime.datetime(2024, 1, 31, 16, 40, 3, 958887)), pid=42052, tid=44592), RecordAppCall(stack=[RecordAppCallMethod(path=Lens().app, method=Method(obj=Obj(cls=langchain.agents.agent.AgentExecutor, id=1939389171584, init_bindings=None), name='invoke')), RecordAppCallMethod(path=Lens().app, method=Method(obj=Obj(cls=langchain.agents.agent.AgentExecutor, id=1939389171584, init_bindings=None), name='_call')), RecordAppCallMethod(path=Lens().app.tools[0], method=Method(obj=Obj(cls=langchain_core.tools.StructuredTool, id=1939391566208, init_bindings=None), name='_run'))], args={'args': ['What is Chocolate?'], 'run_manager': {'__tru_non_serialized_object': {'cls': {'name': 'CallbackManagerForToolRun', 'module': {'package_name': 'langchain_core.callbacks', 'module_name': 'langchain_core.callbacks.manager'}, 'bases': None}, 'id': 1939734130384, 'init_bindings': None}}}, rets='Chocolate is a sweet, usually brown, food product made from cocoa beans, which are the seeds of the cacao tree. The process of making chocolate involves harvesting and fermenting cacao beans, drying them, and then roasting and grinding them to produce cocoa mass. This cocoa mass is then further processed to extract cocoa solids and cocoa butter.\\n\\nChocolates are often used in confectionery and desserts, and they can be found in a wide range of products, including bars, truffles, candies, and baked goods. Chocolate is enjoyed worldwide and is often associated with indulgence and celebration. Additionally, cocoa has been linked to various potential health benefits, such as antioxidants and mood enhancement, when consumed in moderation.\\n\\nChocolate comes in various forms, such as dark chocolate, milk chocolate, and white chocolate. Dark chocolate contains a higher percentage of cocoa solids and less sugar, giving it a more intense and bitter flavor. Milk chocolate, on the other hand, includes milk solids in addition to cocoa, creating a sweeter and creamier taste. White chocolate consists mainly of cocoa butter, sugar, and milk solids but lacks cocoa solids.', error=None, perf=Perf(start_time=datetime.datetime(2024, 1, 31, 16, 40, 4, 57062), end_time=datetime.datetime(2024, 1, 31, 16, 40, 4, 486689)), pid=42052, tid=44592), RecordAppCall(stack=[RecordAppCallMethod(path=Lens().app, method=Method(obj=Obj(cls=langchain.agents.agent.AgentExecutor, id=1939389171584, init_bindings=None), name='invoke')), RecordAppCallMethod(path=Lens().app, method=Method(obj=Obj(cls=langchain.agents.agent.AgentExecutor, id=1939389171584, init_bindings=None), name='_call')), RecordAppCallMethod(path=Lens().app.agent, method=Method(obj=Obj(cls=langchain.agents.conversational_chat.base.ConversationalChatAgent, id=1939389368208, init_bindings=None), name='plan')), RecordAppCallMethod(path=Lens().app.agent.llm_chain, method=Method(obj=Obj(cls=langchain.chains.base.Chain, id=1939389171584, init_bindings=None), name='__call__')), RecordAppCallMethod(path=Lens().app.agent.llm_chain, method=Method(obj=Obj(cls=langchain.chains.base.Chain, id=1939389171584, init_bindings=None), name='invoke')), RecordAppCallMethod(path=Lens().app.agent.llm_chain, method=Method(obj=Obj(cls=langchain.chains.llm.LLMChain, id=1939389171904, init_bindings=None), name='_call'))], args={'inputs': {'input': ['What is Chocolate?'], 'chat_history': [], 'agent_scratchpad': [{'content': '{\\n    \"action\": \"retrieve_documents_tool\",\\n    \"action_input\": \"What is Chocolate?\"\\n}', 'additional_kwargs': {}, 'type': 'ai', 'example': False}, {'content': \"TOOL RESPONSE: \\n---------------------\\nChocolate is a sweet, usually brown, food product made from cocoa beans, which are the seeds of the cacao tree. The process of making chocolate involves harvesting and fermenting cacao beans, drying them, and then roasting and grinding them to produce cocoa mass. This cocoa mass is then further processed to extract cocoa solids and cocoa butter.\\n\\nChocolates are often used in confectionery and desserts, and they can be found in a wide range of products, including bars, truffles, candies, and baked goods. Chocolate is enjoyed worldwide and is often associated with indulgence and celebration. Additionally, cocoa has been linked to various potential health benefits, such as antioxidants and mood enhancement, when consumed in moderation.\\n\\nChocolate comes in various forms, such as dark chocolate, milk chocolate, and white chocolate. Dark chocolate contains a higher percentage of cocoa solids and less sugar, giving it a more intense and bitter flavor. Milk chocolate, on the other hand, includes milk solids in addition to cocoa, creating a sweeter and creamier taste. White chocolate consists mainly of cocoa butter, sugar, and milk solids but lacks cocoa solids.\\n\\nUSER'S INPUT\\n--------------------\\n\\nOkay, so what is the response to my last comment? If using information obtained from the tools you must mention it explicitly without mentioning the tool names - I have forgotten all TOOL RESPONSES! Remember to respond with a markdown code snippet of a json blob with a single action, and NOTHING else.\", 'additional_kwargs': {}, 'type': 'human', 'example': False}], 'stop': ['\\nObservation:', '\\n\\tObservation:']}, 'run_manager': {'__tru_non_serialized_object': {'cls': {'name': 'CallbackManagerForChainRun', 'module': {'package_name': 'langchain_core.callbacks', 'module_name': 'langchain_core.callbacks.manager'}, 'bases': None}, 'id': 1939738034576, 'init_bindings': None}}}, rets={'text': '{\\n    \"action\": \"Final Answer\",\\n    \"action_input\": \"Chocolate is a sweet, usually brown, food product made from cocoa beans. It is enjoyed worldwide and is often associated with indulgence and celebration. Chocolate comes in various forms, such as dark chocolate, milk chocolate, and white chocolate.\"\\n}'}, error=None, perf=Perf(start_time=datetime.datetime(2024, 1, 31, 16, 40, 5, 177548), end_time=datetime.datetime(2024, 1, 31, 16, 40, 8, 295130)), pid=42052, tid=44592), RecordAppCall(stack=[RecordAppCallMethod(path=Lens().app, method=Method(obj=Obj(cls=langchain.agents.agent.AgentExecutor, id=1939389171584, init_bindings=None), name='invoke')), RecordAppCallMethod(path=Lens().app, method=Method(obj=Obj(cls=langchain.agents.agent.AgentExecutor, id=1939389171584, init_bindings=None), name='_call')), RecordAppCallMethod(path=Lens().app.agent, method=Method(obj=Obj(cls=langchain.agents.conversational_chat.base.ConversationalChatAgent, id=1939389368208, init_bindings=None), name='plan')), RecordAppCallMethod(path=Lens().app.agent.llm_chain, method=Method(obj=Obj(cls=langchain.chains.base.Chain, id=1939389171584, init_bindings=None), name='__call__')), RecordAppCallMethod(path=Lens().app.agent.llm_chain, method=Method(obj=Obj(cls=langchain.chains.base.Chain, id=1939389171584, init_bindings=None), name='invoke'))], args={'input': {'input': ['What is Chocolate?'], 'chat_history': [], 'agent_scratchpad': [{'content': '{\\n    \"action\": \"retrieve_documents_tool\",\\n    \"action_input\": \"What is Chocolate?\"\\n}', 'additional_kwargs': {}, 'type': 'ai', 'example': False}, {'content': \"TOOL RESPONSE: \\n---------------------\\nChocolate is a sweet, usually brown, food product made from cocoa beans, which are the seeds of the cacao tree. The process of making chocolate involves harvesting and fermenting cacao beans, drying them, and then roasting and grinding them to produce cocoa mass. This cocoa mass is then further processed to extract cocoa solids and cocoa butter.\\n\\nChocolates are often used in confectionery and desserts, and they can be found in a wide range of products, including bars, truffles, candies, and baked goods. Chocolate is enjoyed worldwide and is often associated with indulgence and celebration. Additionally, cocoa has been linked to various potential health benefits, such as antioxidants and mood enhancement, when consumed in moderation.\\n\\nChocolate comes in various forms, such as dark chocolate, milk chocolate, and white chocolate. Dark chocolate contains a higher percentage of cocoa solids and less sugar, giving it a more intense and bitter flavor. Milk chocolate, on the other hand, includes milk solids in addition to cocoa, creating a sweeter and creamier taste. White chocolate consists mainly of cocoa butter, sugar, and milk solids but lacks cocoa solids.\\n\\nUSER'S INPUT\\n--------------------\\n\\nOkay, so what is the response to my last comment? If using information obtained from the tools you must mention it explicitly without mentioning the tool names - I have forgotten all TOOL RESPONSES! Remember to respond with a markdown code snippet of a json blob with a single action, and NOTHING else.\", 'additional_kwargs': {}, 'type': 'human', 'example': False}], 'stop': ['\\nObservation:', '\\n\\tObservation:']}, 'config': {'callbacks': {'__tru_non_serialized_object': {'cls': {'name': 'CallbackManager', 'module': {'package_name': 'langchain_core.callbacks', 'module_name': 'langchain_core.callbacks.manager'}, 'bases': None}, 'id': 1939725236624, 'init_bindings': None}}}, 'kwargs': {'return_only_outputs': False, 'include_run_info': False}}, rets={'input': ['What is Chocolate?'], 'chat_history': [], 'agent_scratchpad': [{'content': '{\\n    \"action\": \"retrieve_documents_tool\",\\n    \"action_input\": \"What is Chocolate?\"\\n}', 'additional_kwargs': {}, 'type': 'ai', 'example': False}, {'content': \"TOOL RESPONSE: \\n---------------------\\nChocolate is a sweet, usually brown, food product made from cocoa beans, which are the seeds of the cacao tree. The process of making chocolate involves harvesting and fermenting cacao beans, drying them, and then roasting and grinding them to produce cocoa mass. This cocoa mass is then further processed to extract cocoa solids and cocoa butter.\\n\\nChocolates are often used in confectionery and desserts, and they can be found in a wide range of products, including bars, truffles, candies, and baked goods. Chocolate is enjoyed worldwide and is often associated with indulgence and celebration. Additionally, cocoa has been linked to various potential health benefits, such as antioxidants and mood enhancement, when consumed in moderation.\\n\\nChocolate comes in various forms, such as dark chocolate, milk chocolate, and white chocolate. Dark chocolate contains a higher percentage of cocoa solids and less sugar, giving it a more intense and bitter flavor. Milk chocolate, on the other hand, includes milk solids in addition to cocoa, creating a sweeter and creamier taste. White chocolate consists mainly of cocoa butter, sugar, and milk solids but lacks cocoa solids.\\n\\nUSER'S INPUT\\n--------------------\\n\\nOkay, so what is the response to my last comment? If using information obtained from the tools you must mention it explicitly without mentioning the tool names - I have forgotten all TOOL RESPONSES! Remember to respond with a markdown code snippet of a json blob with a single action, and NOTHING else.\", 'additional_kwargs': {}, 'type': 'human', 'example': False}], 'stop': ['\\nObservation:', '\\n\\tObservation:'], 'text': '{\\n    \"action\": \"Final Answer\",\\n    \"action_input\": \"Chocolate is a sweet, usually brown, food product made from cocoa beans. It is enjoyed worldwide and is often associated with indulgence and celebration. Chocolate comes in various forms, such as dark chocolate, milk chocolate, and white chocolate.\"\\n}'}, error=None, perf=Perf(start_time=datetime.datetime(2024, 1, 31, 16, 40, 4, 988060), end_time=datetime.datetime(2024, 1, 31, 16, 40, 8, 296669)), pid=42052, tid=44592), RecordAppCall(stack=[RecordAppCallMethod(path=Lens().app, method=Method(obj=Obj(cls=langchain.agents.agent.AgentExecutor, id=1939389171584, init_bindings=None), name='invoke')), RecordAppCallMethod(path=Lens().app, method=Method(obj=Obj(cls=langchain.agents.agent.AgentExecutor, id=1939389171584, init_bindings=None), name='_call')), RecordAppCallMethod(path=Lens().app.agent, method=Method(obj=Obj(cls=langchain.agents.conversational_chat.base.ConversationalChatAgent, id=1939389368208, init_bindings=None), name='plan')), RecordAppCallMethod(path=Lens().app.agent.llm_chain, method=Method(obj=Obj(cls=langchain.chains.base.Chain, id=1939389171584, init_bindings=None), name='__call__'))], args={'inputs': {'input': ['What is Chocolate?'], 'chat_history': [], 'agent_scratchpad': [{'content': '{\\n    \"action\": \"retrieve_documents_tool\",\\n    \"action_input\": \"What is Chocolate?\"\\n}', 'additional_kwargs': {}, 'type': 'ai', 'example': False}, {'content': \"TOOL RESPONSE: \\n---------------------\\nChocolate is a sweet, usually brown, food product made from cocoa beans, which are the seeds of the cacao tree. The process of making chocolate involves harvesting and fermenting cacao beans, drying them, and then roasting and grinding them to produce cocoa mass. This cocoa mass is then further processed to extract cocoa solids and cocoa butter.\\n\\nChocolates are often used in confectionery and desserts, and they can be found in a wide range of products, including bars, truffles, candies, and baked goods. Chocolate is enjoyed worldwide and is often associated with indulgence and celebration. Additionally, cocoa has been linked to various potential health benefits, such as antioxidants and mood enhancement, when consumed in moderation.\\n\\nChocolate comes in various forms, such as dark chocolate, milk chocolate, and white chocolate. Dark chocolate contains a higher percentage of cocoa solids and less sugar, giving it a more intense and bitter flavor. Milk chocolate, on the other hand, includes milk solids in addition to cocoa, creating a sweeter and creamier taste. White chocolate consists mainly of cocoa butter, sugar, and milk solids but lacks cocoa solids.\\n\\nUSER'S INPUT\\n--------------------\\n\\nOkay, so what is the response to my last comment? If using information obtained from the tools you must mention it explicitly without mentioning the tool names - I have forgotten all TOOL RESPONSES! Remember to respond with a markdown code snippet of a json blob with a single action, and NOTHING else.\", 'additional_kwargs': {}, 'type': 'human', 'example': False}], 'stop': ['\\nObservation:', '\\n\\tObservation:']}, 'callbacks': {'__tru_non_serialized_object': {'cls': {'name': 'CallbackManager', 'module': {'package_name': 'langchain_core.callbacks', 'module_name': 'langchain_core.callbacks.manager'}, 'bases': None}, 'id': 1939725236624, 'init_bindings': None}}}, rets={'input': ['What is Chocolate?'], 'chat_history': [], 'agent_scratchpad': [{'content': '{\\n    \"action\": \"retrieve_documents_tool\",\\n    \"action_input\": \"What is Chocolate?\"\\n}', 'additional_kwargs': {}, 'type': 'ai', 'example': False}, {'content': \"TOOL RESPONSE: \\n---------------------\\nChocolate is a sweet, usually brown, food product made from cocoa beans, which are the seeds of the cacao tree. The process of making chocolate involves harvesting and fermenting cacao beans, drying them, and then roasting and grinding them to produce cocoa mass. This cocoa mass is then further processed to extract cocoa solids and cocoa butter.\\n\\nChocolates are often used in confectionery and desserts, and they can be found in a wide range of products, including bars, truffles, candies, and baked goods. Chocolate is enjoyed worldwide and is often associated with indulgence and celebration. Additionally, cocoa has been linked to various potential health benefits, such as antioxidants and mood enhancement, when consumed in moderation.\\n\\nChocolate comes in various forms, such as dark chocolate, milk chocolate, and white chocolate. Dark chocolate contains a higher percentage of cocoa solids and less sugar, giving it a more intense and bitter flavor. Milk chocolate, on the other hand, includes milk solids in addition to cocoa, creating a sweeter and creamier taste. White chocolate consists mainly of cocoa butter, sugar, and milk solids but lacks cocoa solids.\\n\\nUSER'S INPUT\\n--------------------\\n\\nOkay, so what is the response to my last comment? If using information obtained from the tools you must mention it explicitly without mentioning the tool names - I have forgotten all TOOL RESPONSES! Remember to respond with a markdown code snippet of a json blob with a single action, and NOTHING else.\", 'additional_kwargs': {}, 'type': 'human', 'example': False}], 'stop': ['\\nObservation:', '\\n\\tObservation:'], 'text': '{\\n    \"action\": \"Final Answer\",\\n    \"action_input\": \"Chocolate is a sweet, usually brown, food product made from cocoa beans. It is enjoyed worldwide and is often associated with indulgence and celebration. Chocolate comes in various forms, such as dark chocolate, milk chocolate, and white chocolate.\"\\n}'}, error=None, perf=Perf(start_time=datetime.datetime(2024, 1, 31, 16, 40, 4, 777453), end_time=datetime.datetime(2024, 1, 31, 16, 40, 8, 297680)), pid=42052, tid=44592), RecordAppCall(stack=[RecordAppCallMethod(path=Lens().app, method=Method(obj=Obj(cls=langchain.agents.agent.AgentExecutor, id=1939389171584, init_bindings=None), name='invoke')), RecordAppCallMethod(path=Lens().app, method=Method(obj=Obj(cls=langchain.agents.agent.AgentExecutor, id=1939389171584, init_bindings=None), name='_call')), RecordAppCallMethod(path=Lens().app.agent, method=Method(obj=Obj(cls=langchain.agents.conversational_chat.base.ConversationalChatAgent, id=1939389368208, init_bindings=None), name='plan'))], args={'intermediate_steps': [[{'tool': 'retrieve_documents_tool', 'tool_input': 'What is Chocolate?', 'log': '{\\n    \"action\": \"retrieve_documents_tool\",\\n    \"action_input\": \"What is Chocolate?\"\\n}', 'type': 'AgentAction'}, 'Chocolate is a sweet, usually brown, food product made from cocoa beans, which are the seeds of the cacao tree. The process of making chocolate involves harvesting and fermenting cacao beans, drying them, and then roasting and grinding them to produce cocoa mass. This cocoa mass is then further processed to extract cocoa solids and cocoa butter.\\n\\nChocolates are often used in confectionery and desserts, and they can be found in a wide range of products, including bars, truffles, candies, and baked goods. Chocolate is enjoyed worldwide and is often associated with indulgence and celebration. Additionally, cocoa has been linked to various potential health benefits, such as antioxidants and mood enhancement, when consumed in moderation.\\n\\nChocolate comes in various forms, such as dark chocolate, milk chocolate, and white chocolate. Dark chocolate contains a higher percentage of cocoa solids and less sugar, giving it a more intense and bitter flavor. Milk chocolate, on the other hand, includes milk solids in addition to cocoa, creating a sweeter and creamier taste. White chocolate consists mainly of cocoa butter, sugar, and milk solids but lacks cocoa solids.']], 'callbacks': {'__tru_non_serialized_object': {'cls': {'name': 'CallbackManager', 'module': {'package_name': 'langchain_core.callbacks', 'module_name': 'langchain_core.callbacks.manager'}, 'bases': None}, 'id': 1939725236624, 'init_bindings': None}}, 'kwargs': {'input': ['What is Chocolate?'], 'chat_history': []}}, rets={'return_values': {'output': 'Chocolate is a sweet, usually brown, food product made from cocoa beans. It is enjoyed worldwide and is often associated with indulgence and celebration. Chocolate comes in various forms, such as dark chocolate, milk chocolate, and white chocolate.'}, 'log': '{\\n    \"action\": \"Final Answer\",\\n    \"action_input\": \"Chocolate is a sweet, usually brown, food product made from cocoa beans. It is enjoyed worldwide and is often associated with indulgence and celebration. Chocolate comes in various forms, such as dark chocolate, milk chocolate, and white chocolate.\"\\n}', 'type': 'AgentFinish'}, error=None, perf=Perf(start_time=datetime.datetime(2024, 1, 31, 16, 40, 4, 586297), end_time=datetime.datetime(2024, 1, 31, 16, 40, 8, 298676)), pid=42052, tid=44592), RecordAppCall(stack=[RecordAppCallMethod(path=Lens().app, method=Method(obj=Obj(cls=langchain.agents.agent.AgentExecutor, id=1939389171584, init_bindings=None), name='invoke')), RecordAppCallMethod(path=Lens().app, method=Method(obj=Obj(cls=langchain.agents.agent.AgentExecutor, id=1939389171584, init_bindings=None), name='_call'))], args={'inputs': {'input': ['What is Chocolate?'], 'chat_history': []}, 'run_manager': {'__tru_non_serialized_object': {'cls': {'name': 'CallbackManagerForChainRun', 'module': {'package_name': 'langchain_core.callbacks', 'module_name': 'langchain_core.callbacks.manager'}, 'bases': None}, 'id': 1939707751760, 'init_bindings': None}}}, rets={'output': 'Chocolate is a sweet, usually brown, food product made from cocoa beans. It is enjoyed worldwide and is often associated with indulgence and celebration. Chocolate comes in various forms, such as dark chocolate, milk chocolate, and white chocolate.'}, error=None, perf=Perf(start_time=datetime.datetime(2024, 1, 31, 16, 40, 1, 291396), end_time=datetime.datetime(2024, 1, 31, 16, 40, 8, 300679)), pid=42052, tid=44592), RecordAppCall(stack=[RecordAppCallMethod(path=Lens().app, method=Method(obj=Obj(cls=langchain.agents.agent.AgentExecutor, id=1939389171584, init_bindings=None), name='invoke')), RecordAppCallMethod(path=Lens().app.memory, method=Method(obj=Obj(cls=langchain.memory.summary_buffer.ConversationSummaryBufferMemory, id=1939389120464, init_bindings=None), name='save_context')), RecordAppCallMethod(path=Lens().app.memory, method=Method(obj=Obj(cls=langchain.memory.chat_memory.BaseChatMemory, id=1939389120464, init_bindings=None), name='save_context'))], args={'inputs': {'input': ['What is Chocolate?'], 'chat_history': [{'content': ['What is Chocolate?'], 'additional_kwargs': {}, 'type': 'human', 'example': False}, {'content': 'Chocolate is a sweet, usually brown, food product made from cocoa beans. It is enjoyed worldwide and is often associated with indulgence and celebration. Chocolate comes in various forms, such as dark chocolate, milk chocolate, and white chocolate.', 'additional_kwargs': {}, 'type': 'ai', 'example': False}]}, 'outputs': {'output': 'Chocolate is a sweet, usually brown, food product made from cocoa beans. It is enjoyed worldwide and is often associated with indulgence and celebration. Chocolate comes in various forms, such as dark chocolate, milk chocolate, and white chocolate.'}}, rets=None, error=None, perf=Perf(start_time=datetime.datetime(2024, 1, 31, 16, 40, 8, 547544), end_time=datetime.datetime(2024, 1, 31, 16, 40, 8, 617430)), pid=42052, tid=44592), RecordAppCall(stack=[RecordAppCallMethod(path=Lens().app, method=Method(obj=Obj(cls=langchain.agents.agent.AgentExecutor, id=1939389171584, init_bindings=None), name='invoke')), RecordAppCallMethod(path=Lens().app.memory, method=Method(obj=Obj(cls=langchain.memory.summary_buffer.ConversationSummaryBufferMemory, id=1939389120464, init_bindings=None), name='save_context')), RecordAppCallMethod(path=Lens().app, method=Method(obj=Obj(cls=langchain.chains.base.Chain, id=1939389171584, init_bindings=None), name='__call__')), RecordAppCallMethod(path=Lens().app, method=Method(obj=Obj(cls=langchain.chains.base.Chain, id=1939389171584, init_bindings=None), name='invoke')), RecordAppCallMethod(path=Lens().app.agent.llm_chain, method=Method(obj=Obj(cls=langchain.chains.llm.LLMChain, id=1939389171904, init_bindings=None), name='_call'))], args={'inputs': {'summary': '', 'new_lines': \"Human: ['What is Chocolate?']\"}, 'run_manager': {'__tru_non_serialized_object': {'cls': {'name': 'CallbackManagerForChainRun', 'module': {'package_name': 'langchain_core.callbacks', 'module_name': 'langchain_core.callbacks.manager'}, 'bases': None}, 'id': 1939738036752, 'init_bindings': None}}}, rets={'text': 'The human asks what chocolate is.'}, error=None, perf=Perf(start_time=datetime.datetime(2024, 1, 31, 16, 40, 9, 75169), end_time=datetime.datetime(2024, 1, 31, 16, 40, 9, 896674)), pid=42052, tid=44592), RecordAppCall(stack=[RecordAppCallMethod(path=Lens().app, method=Method(obj=Obj(cls=langchain.agents.agent.AgentExecutor, id=1939389171584, init_bindings=None), name='invoke')), RecordAppCallMethod(path=Lens().app.memory, method=Method(obj=Obj(cls=langchain.memory.summary_buffer.ConversationSummaryBufferMemory, id=1939389120464, init_bindings=None), name='save_context')), RecordAppCallMethod(path=Lens().app, method=Method(obj=Obj(cls=langchain.chains.base.Chain, id=1939389171584, init_bindings=None), name='__call__')), RecordAppCallMethod(path=Lens().app, method=Method(obj=Obj(cls=langchain.chains.base.Chain, id=1939389171584, init_bindings=None), name='invoke'))], args={'input': {'summary': '', 'new_lines': \"Human: ['What is Chocolate?']\"}, 'config': {}, 'kwargs': {'return_only_outputs': False, 'include_run_info': False}}, rets={'summary': '', 'new_lines': \"Human: ['What is Chocolate?']\", 'text': 'The human asks what chocolate is.'}, error=None, perf=Perf(start_time=datetime.datetime(2024, 1, 31, 16, 40, 8, 893237), end_time=datetime.datetime(2024, 1, 31, 16, 40, 9, 896674)), pid=42052, tid=44592), RecordAppCall(stack=[RecordAppCallMethod(path=Lens().app, method=Method(obj=Obj(cls=langchain.agents.agent.AgentExecutor, id=1939389171584, init_bindings=None), name='invoke')), RecordAppCallMethod(path=Lens().app.memory, method=Method(obj=Obj(cls=langchain.memory.summary_buffer.ConversationSummaryBufferMemory, id=1939389120464, init_bindings=None), name='save_context')), RecordAppCallMethod(path=Lens().app, method=Method(obj=Obj(cls=langchain.chains.base.Chain, id=1939389171584, init_bindings=None), name='__call__'))], args={'inputs': {'summary': '', 'new_lines': \"Human: ['What is Chocolate?']\"}, 'callbacks': None}, rets={'summary': '', 'new_lines': \"Human: ['What is Chocolate?']\", 'text': 'The human asks what chocolate is.'}, error=None, perf=Perf(start_time=datetime.datetime(2024, 1, 31, 16, 40, 8, 699034), end_time=datetime.datetime(2024, 1, 31, 16, 40, 9, 896674)), pid=42052, tid=44592), RecordAppCall(stack=[RecordAppCallMethod(path=Lens().app, method=Method(obj=Obj(cls=langchain.agents.agent.AgentExecutor, id=1939389171584, init_bindings=None), name='invoke')), RecordAppCallMethod(path=Lens().app.memory, method=Method(obj=Obj(cls=langchain.memory.summary_buffer.ConversationSummaryBufferMemory, id=1939389120464, init_bindings=None), name='save_context'))], args={'inputs': {'input': ['What is Chocolate?'], 'chat_history': [{'content': 'Chocolate is a sweet, usually brown, food product made from cocoa beans. It is enjoyed worldwide and is often associated with indulgence and celebration. Chocolate comes in various forms, such as dark chocolate, milk chocolate, and white chocolate.', 'additional_kwargs': {}, 'type': 'ai', 'example': False}]}, 'outputs': {'output': 'Chocolate is a sweet, usually brown, food product made from cocoa beans. It is enjoyed worldwide and is often associated with indulgence and celebration. Chocolate comes in various forms, such as dark chocolate, milk chocolate, and white chocolate.'}}, rets=None, error=None, perf=Perf(start_time=datetime.datetime(2024, 1, 31, 16, 40, 8, 388691), end_time=datetime.datetime(2024, 1, 31, 16, 40, 9, 896674)), pid=42052, tid=44592), RecordAppCall(stack=[RecordAppCallMethod(path=Lens().app, method=Method(obj=Obj(cls=langchain.agents.agent.AgentExecutor, id=1939389171584, init_bindings=None), name='invoke'))], args={'input': ['What is Chocolate?']}, rets={'input': ['What is Chocolate?'], 'chat_history': [{'content': 'Chocolate is a sweet, usually brown, food product made from cocoa beans. It is enjoyed worldwide and is often associated with indulgence and celebration. Chocolate comes in various forms, such as dark chocolate, milk chocolate, and white chocolate.', 'additional_kwargs': {}, 'type': 'ai', 'example': False}], 'output': 'Chocolate is a sweet, usually brown, food product made from cocoa beans. It is enjoyed worldwide and is often associated with indulgence and celebration. Chocolate comes in various forms, such as dark chocolate, milk chocolate, and white chocolate.'}, error=None, perf=Perf(start_time=datetime.datetime(2024, 1, 31, 16, 40, 1, 105521), end_time=datetime.datetime(2024, 1, 31, 16, 40, 9, 897672)), pid=42052, tid=44592)], feedback_results=[<Future at 0x1c3a1282090 state=finished returned tuple>, <Future at 0x1c3eecddad0 state=finished returned tuple>])"
      ]
     },
     "metadata": {},
     "output_type": "display_data"
    }
   ],
   "source": [
    "rec = recording.get() # use .get if only one record\n",
    "# recs = recording.records # use .records if multiple\n",
    "\n",
    "display(rec)"
   ]
  },
  {
   "cell_type": "code",
   "execution_count": 22,
   "metadata": {},
   "outputs": [
    {
     "data": {
      "text/plain": [
       "'relevance'"
      ]
     },
     "metadata": {},
     "output_type": "display_data"
    },
    {
     "data": {
      "text/plain": [
       "1.0"
      ]
     },
     "metadata": {},
     "output_type": "display_data"
    },
    {
     "name": "stdout",
     "output_type": "stream",
     "text": [
      "feedback_result_id='feedback_result_hash_a7dec5f491adabb462010b65aff30f46' record_id='record_hash_c948c70c94c7025ad326b0a9c3baa3e9' feedback_definition_id='feedback_definition_hash_6f9c9b1fb1c0bb27380a823df8a48b57' last_ts=datetime.datetime(2024, 1, 31, 16, 40, 10, 373948) status=<FeedbackResultStatus.DONE: 'done'> cost=Cost(n_requests=1, n_successful_requests=1, n_classes=0, n_tokens=392, n_stream_chunks=0, n_prompt_tokens=391, n_completion_tokens=1, cost=0.0005885) name='Answer Relevance' calls=[FeedbackCall(args={'prompt': ['What is Chocolate?'], 'response': 'Chocolate is a sweet, usually brown, food product made from cocoa beans. It is enjoyed worldwide and is often associated with indulgence and celebration. Chocolate comes in various forms, such as dark chocolate, milk chocolate, and white chocolate.'}, ret=1.0, meta={})] result=1.0 error=None multi_result='null'\n"
     ]
    },
    {
     "data": {
      "text/plain": [
       "'query_translation_score'"
      ]
     },
     "metadata": {},
     "output_type": "display_data"
    },
    {
     "data": {
      "text/plain": [
       "0.8"
      ]
     },
     "metadata": {},
     "output_type": "display_data"
    },
    {
     "name": "stdout",
     "output_type": "stream",
     "text": [
      "feedback_result_id='feedback_result_hash_2a130ff9f54a80b31acb3ac1246a0f8b' record_id='record_hash_c948c70c94c7025ad326b0a9c3baa3e9' feedback_definition_id='feedback_definition_hash_92ab5787fd741929eab89e4acb9e74be' last_ts=datetime.datetime(2024, 1, 31, 16, 40, 10, 146810) status=<FeedbackResultStatus.DONE: 'done'> cost=Cost(n_requests=1, n_successful_requests=1, n_classes=0, n_tokens=108, n_stream_chunks=0, n_prompt_tokens=107, n_completion_tokens=1, cost=0.0001625) name='Query Translation' calls=[FeedbackCall(args={'question1': ['What is Chocolate?'], 'question2': {'tool': 'retrieve_documents_tool', 'tool_input': 'What is Chocolate?', 'log': '{\\n    \"action\": \"retrieve_documents_tool\",\\n    \"action_input\": \"What is Chocolate?\"\\n}', 'type': 'AgentAction'}}, ret=0.8, meta={})] result=0.8 error=None multi_result='null'\n"
     ]
    }
   ],
   "source": [
    "# The results of the feedback functions can be rertireved from the record. These\n",
    "# are `Future` instances (see `concurrent.futures`). You can use `as_completed`\n",
    "# to wait until they have finished evaluating.\n",
    "\n",
    "from concurrent.futures import as_completed\n",
    "\n",
    "for feedback_future in  as_completed(rec.feedback_results):\n",
    "    feedback, feedback_result = feedback_future.result()\n",
    "    \n",
    "    feedback: Feedback\n",
    "    feedbac_result: FeedbackResult\n",
    "\n",
    "    display(feedback.name, feedback_result.result)\n",
    "\n",
    "    print(feedback_result)"
   ]
  },
  {
   "cell_type": "code",
   "execution_count": 19,
   "metadata": {},
   "outputs": [
    {
     "data": {
      "text/html": [
       "<div>\n",
       "<style scoped>\n",
       "    .dataframe tbody tr th:only-of-type {\n",
       "        vertical-align: middle;\n",
       "    }\n",
       "\n",
       "    .dataframe tbody tr th {\n",
       "        vertical-align: top;\n",
       "    }\n",
       "\n",
       "    .dataframe thead th {\n",
       "        text-align: right;\n",
       "    }\n",
       "</style>\n",
       "<table border=\"1\" class=\"dataframe\">\n",
       "  <thead>\n",
       "    <tr style=\"text-align: right;\">\n",
       "      <th></th>\n",
       "      <th>app_id</th>\n",
       "      <th>app_json</th>\n",
       "      <th>type</th>\n",
       "      <th>record_id</th>\n",
       "      <th>input</th>\n",
       "      <th>output</th>\n",
       "      <th>tags</th>\n",
       "      <th>record_json</th>\n",
       "      <th>cost_json</th>\n",
       "      <th>perf_json</th>\n",
       "      <th>...</th>\n",
       "      <th>Answer Relevance</th>\n",
       "      <th>Context Relevance</th>\n",
       "      <th>Groundedness</th>\n",
       "      <th>Query Translation_calls</th>\n",
       "      <th>Answer Relevance_calls</th>\n",
       "      <th>Context Relevance_calls</th>\n",
       "      <th>Groundedness_calls</th>\n",
       "      <th>latency</th>\n",
       "      <th>total_tokens</th>\n",
       "      <th>total_cost</th>\n",
       "    </tr>\n",
       "  </thead>\n",
       "  <tbody>\n",
       "    <tr>\n",
       "      <th>0</th>\n",
       "      <td>Chain1_ChatApplication</td>\n",
       "      <td>{\"tru_class_info\": {\"name\": \"TruChain\", \"modul...</td>\n",
       "      <td>AgentExecutor(langchain.agents.agent)</td>\n",
       "      <td>record_hash_05258b9a836eca4ec61ac6786a05180c</td>\n",
       "      <td>[\"What is Chocolate?\"]</td>\n",
       "      <td>\"Chocolate is a sweet, usually brown, food pro...</td>\n",
       "      <td>-</td>\n",
       "      <td>{\"record_id\": \"record_hash_05258b9a836eca4ec61...</td>\n",
       "      <td>{\"n_requests\": 3, \"n_successful_requests\": 3, ...</td>\n",
       "      <td>{\"start_time\": \"2024-01-31T17:25:30.236360\", \"...</td>\n",
       "      <td>...</td>\n",
       "      <td>1.0</td>\n",
       "      <td>1.0</td>\n",
       "      <td>1.0</td>\n",
       "      <td>[{'args': {'question1': ['What is Chocolate?']...</td>\n",
       "      <td>[{'args': {'prompt': ['What is Chocolate?'], '...</td>\n",
       "      <td>[{'args': {'question': ['What is Chocolate?'],...</td>\n",
       "      <td>[{'args': {'source': 'Chocolate is a sweet, us...</td>\n",
       "      <td>6</td>\n",
       "      <td>1381</td>\n",
       "      <td>0.002105</td>\n",
       "    </tr>\n",
       "  </tbody>\n",
       "</table>\n",
       "<p>1 rows × 22 columns</p>\n",
       "</div>"
      ],
      "text/plain": [
       "                   app_id                                           app_json  \\\n",
       "0  Chain1_ChatApplication  {\"tru_class_info\": {\"name\": \"TruChain\", \"modul...   \n",
       "\n",
       "                                    type  \\\n",
       "0  AgentExecutor(langchain.agents.agent)   \n",
       "\n",
       "                                      record_id                   input  \\\n",
       "0  record_hash_05258b9a836eca4ec61ac6786a05180c  [\"What is Chocolate?\"]   \n",
       "\n",
       "                                              output tags  \\\n",
       "0  \"Chocolate is a sweet, usually brown, food pro...    -   \n",
       "\n",
       "                                         record_json  \\\n",
       "0  {\"record_id\": \"record_hash_05258b9a836eca4ec61...   \n",
       "\n",
       "                                           cost_json  \\\n",
       "0  {\"n_requests\": 3, \"n_successful_requests\": 3, ...   \n",
       "\n",
       "                                           perf_json  ... Answer Relevance  \\\n",
       "0  {\"start_time\": \"2024-01-31T17:25:30.236360\", \"...  ...              1.0   \n",
       "\n",
       "   Context Relevance  Groundedness  \\\n",
       "0                1.0           1.0   \n",
       "\n",
       "                             Query Translation_calls  \\\n",
       "0  [{'args': {'question1': ['What is Chocolate?']...   \n",
       "\n",
       "                              Answer Relevance_calls  \\\n",
       "0  [{'args': {'prompt': ['What is Chocolate?'], '...   \n",
       "\n",
       "                             Context Relevance_calls  \\\n",
       "0  [{'args': {'question': ['What is Chocolate?'],...   \n",
       "\n",
       "                                  Groundedness_calls latency total_tokens  \\\n",
       "0  [{'args': {'source': 'Chocolate is a sweet, us...       6         1381   \n",
       "\n",
       "   total_cost  \n",
       "0    0.002105  \n",
       "\n",
       "[1 rows x 22 columns]"
      ]
     },
     "execution_count": 19,
     "metadata": {},
     "output_type": "execute_result"
    }
   ],
   "source": [
    "records, feedback = tru.get_records_and_feedback(app_ids=[\"Chain1_ChatApplication\"])\n",
    "records.head(10)"
   ]
  },
  {
   "cell_type": "markdown",
   "metadata": {},
   "source": []
  },
  {
   "cell_type": "code",
   "execution_count": 24,
   "metadata": {},
   "outputs": [
    {
     "data": {
      "text/html": [
       "<div>\n",
       "<style scoped>\n",
       "    .dataframe tbody tr th:only-of-type {\n",
       "        vertical-align: middle;\n",
       "    }\n",
       "\n",
       "    .dataframe tbody tr th {\n",
       "        vertical-align: top;\n",
       "    }\n",
       "\n",
       "    .dataframe thead th {\n",
       "        text-align: right;\n",
       "    }\n",
       "</style>\n",
       "<table border=\"1\" class=\"dataframe\">\n",
       "  <thead>\n",
       "    <tr style=\"text-align: right;\">\n",
       "      <th></th>\n",
       "      <th>Answer Relevance</th>\n",
       "      <th>Query Translation</th>\n",
       "      <th>latency</th>\n",
       "      <th>total_cost</th>\n",
       "    </tr>\n",
       "    <tr>\n",
       "      <th>app_id</th>\n",
       "      <th></th>\n",
       "      <th></th>\n",
       "      <th></th>\n",
       "      <th></th>\n",
       "    </tr>\n",
       "  </thead>\n",
       "  <tbody>\n",
       "    <tr>\n",
       "      <th>Chain1_ChatApplication</th>\n",
       "      <td>1.0</td>\n",
       "      <td>0.8</td>\n",
       "      <td>8.0</td>\n",
       "      <td>0.002342</td>\n",
       "    </tr>\n",
       "  </tbody>\n",
       "</table>\n",
       "</div>"
      ],
      "text/plain": [
       "                        Answer Relevance  Query Translation  latency  \\\n",
       "app_id                                                                 \n",
       "Chain1_ChatApplication               1.0                0.8      8.0   \n",
       "\n",
       "                        total_cost  \n",
       "app_id                              \n",
       "Chain1_ChatApplication    0.002342  "
      ]
     },
     "execution_count": 24,
     "metadata": {},
     "output_type": "execute_result"
    }
   ],
   "source": [
    "tru.get_leaderboard(app_ids=[\"Chain1_ChatApplication\"])"
   ]
  },
  {
   "cell_type": "code",
   "execution_count": 27,
   "metadata": {},
   "outputs": [
    {
     "name": "stdout",
     "output_type": "stream",
     "text": [
      "Starting dashboard ...\n",
      "Config file already exists. Skipping writing process.\n",
      "Credentials file already exists. Skipping writing process.\n"
     ]
    },
    {
     "data": {
      "application/vnd.jupyter.widget-view+json": {
       "model_id": "5d7d8fe342cf4d0fa3e55d8ce2902363",
       "version_major": 2,
       "version_minor": 0
      },
      "text/plain": [
       "Accordion(children=(VBox(children=(VBox(children=(Label(value='STDOUT'), Output())), VBox(children=(Label(valu…"
      ]
     },
     "metadata": {},
     "output_type": "display_data"
    },
    {
     "name": "stdout",
     "output_type": "stream",
     "text": [
      "Dashboard started at http://192.168.0.220:8501 .\n"
     ]
    },
    {
     "data": {
      "text/plain": [
       "<Popen: returncode: None args: ['streamlit', 'run', '--server.headless=True'...>"
      ]
     },
     "execution_count": 27,
     "metadata": {},
     "output_type": "execute_result"
    },
    {
     "name": "stderr",
     "output_type": "stream",
     "text": [
      "Exception in thread Thread-16 (_future_target_wrapper):\n",
      "Traceback (most recent call last):\n",
      "  File \"C:\\Users\\jiheu\\AppData\\Local\\Programs\\Python\\Python311\\Lib\\threading.py\", line 1038, in _bootstrap_inner\n",
      "    self.run()\n",
      "  File \"c:\\Users\\jiheu\\LLMTesting\\LLMTesting\\.venv\\Lib\\site-packages\\ipykernel\\ipkernel.py\", line 761, in run_closure\n",
      "    _threading_Thread_run(self)\n",
      "  File \"C:\\Users\\jiheu\\AppData\\Local\\Programs\\Python\\Python311\\Lib\\threading.py\", line 975, in run\n",
      "    self._target(*self._args, **self._kwargs)\n",
      "  File \"c:\\Users\\jiheu\\LLMTesting\\LLMTesting\\.venv\\Lib\\site-packages\\trulens_eval\\utils\\python.py\", line 248, in _future_target_wrapper\n",
      "    return func(*args, **kwargs)\n",
      "           ^^^^^^^^^^^^^^^^^^^^^\n",
      "  File \"c:\\Users\\jiheu\\LLMTesting\\LLMTesting\\.venv\\Lib\\site-packages\\trulens_eval\\tru.py\", line 662, in listen_to_dashboard\n",
      "    line = pipe.readline()\n",
      "           ^^^^^^^^^^^^^^^\n",
      "UnicodeDecodeError: 'cp949' codec can't decode byte 0xf0 in position 0: illegal multibyte sequence\n"
     ]
    }
   ],
   "source": [
    "tru.run_dashboard()\n",
    "# tru.stop_dashboard() # stop if needed"
   ]
  }
 ],
 "metadata": {
  "kernelspec": {
   "display_name": ".venv",
   "language": "python",
   "name": "python3"
  },
  "language_info": {
   "codemirror_mode": {
    "name": "ipython",
    "version": 3
   },
   "file_extension": ".py",
   "mimetype": "text/x-python",
   "name": "python",
   "nbconvert_exporter": "python",
   "pygments_lexer": "ipython3",
   "version": "3.11.0"
  }
 },
 "nbformat": 4,
 "nbformat_minor": 2
}
